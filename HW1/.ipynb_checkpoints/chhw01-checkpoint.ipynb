{
 "cells": [
  {
   "cell_type": "markdown",
   "metadata": {},
   "source": [
    "# Biostat 257 Homework 1\n",
    "\n",
    "#### Due Apr 16 @ 11:59PM\n",
    "**Elvis Cui** elviscuihan@g.ucla.edu\n",
    "\n",
    "*PhD Student at Department of Biostatistics, UCLA*"
   ]
  },
  {
   "cell_type": "markdown",
   "metadata": {},
   "source": [
    "## Q1\n",
    "\n",
    "**No handwritten homework reports are accepted for this course.**  We work with Git/GitHub.  Efficient and abundant use of Git, e.g., **frequent and well-documented** commits, is an important criterion for grading your homework.\n",
    "\n",
    "1. If you don't have a GitHub account, apply for the [Student Developer Pack](https://education.github.com/pack) at GitHub using your UCLA email.\n",
    "\n",
    "2. Create a **private** repository `biostat-257-2021-spring` and add `Hua-Zhou` and `Chris-German` (TA) as your collaborators.\n",
    "\n",
    "3. Top directories of the repository should be `hw1`, `hw2`, ... You may create other branches for developing your homework solutions; but the `master` branch will be your presentation area. Put your homework submission files (Jupyter notebook `.ipynb`, html converted from notebook, all code and data set to reproduce results) in the `master` branch. \n",
    "\n",
    "4. After each homework due date, teaching assistant and instructor will check out your `master` branch for grading. Tag each of your homework submissions with tag names `hw1`, `hw2`, ...  Tagging time will be used as your submission time. That means if you tag your hw1 submission after deadline, penalty points will be deducted for late submission.  \n",
    "\n",
    "5. Read the [style guide](https://github.com/johnmyleswhite/Style.jl) for Julia programming. Following rules in the style guide will be strictly enforced when grading: (4) four space indenting rule, (6) 80 charcter rule, (7) space after comma rule, (8) no space before comma rule, (9) space around operator rule."
   ]
  },
  {
   "cell_type": "markdown",
   "metadata": {},
   "source": [
    "## Sol Q1\n",
    "\n",
    "- Done.\n",
    "- Please see https://github.com/ElvisCuiHan/biostat-257-2021-spring."
   ]
  },
  {
   "cell_type": "markdown",
   "metadata": {},
   "source": [
    "## Q2\n",
    "\n",
    "Let's check whether floating-point numbers obey certain algebraic rules. For 2-5, one counter-example suffices.\n",
    "\n",
    "1. Associative rule for addition says `(x + y) + z == x + (y + z)`. Check association rule using `x = 0.1`, `y = 0.1` and `z = 1.0` in Julia. Explain what you find.\n",
    "\n",
    "2. Do floating-point numbers obey the associative rule for multiplication: `(x * y) * z == x * (y * z)`?\n",
    "\n",
    "3. Do floating-point numbers obey the distributive rule: `a * (x + y) == a * x + a * y`?  \n",
    "\n",
    "4. Is `0 * x == 0` true for all floating-point number `x`? \n",
    "\n",
    "5. Is `x / a == x * (1 / a)` always true?"
   ]
  },
  {
   "cell_type": "markdown",
   "metadata": {},
   "source": [
    "## Sol Q2\n",
    "\n",
    "1."
   ]
  },
  {
   "cell_type": "code",
   "execution_count": 1,
   "metadata": {},
   "outputs": [
    {
     "name": "stdout",
     "output_type": "stream",
     "text": [
      "1.2\n",
      "1.2000000000000002\n"
     ]
    },
    {
     "data": {
      "text/plain": [
       "false"
      ]
     },
     "execution_count": 1,
     "metadata": {},
     "output_type": "execute_result"
    }
   ],
   "source": [
    "x = 0.1; y = 0.1; z = 1.0\n",
    "\n",
    "println((x + y) + z)\n",
    "println(x + (y + z))\n",
    "(x + y) + z == x + (y + z)"
   ]
  },
  {
   "cell_type": "markdown",
   "metadata": {},
   "source": [
    "**What I have found**: $(x + y) + z$ is not equal to $x + (y + z)$, and this is due to the round off of floating-point numbers.\n",
    "\n",
    "2. No."
   ]
  },
  {
   "cell_type": "code",
   "execution_count": 2,
   "metadata": {},
   "outputs": [
    {
     "name": "stdout",
     "output_type": "stream",
     "text": [
      "1.3199999999999998 1.32\n"
     ]
    },
    {
     "data": {
      "text/plain": [
       "false"
      ]
     },
     "execution_count": 2,
     "metadata": {},
     "output_type": "execute_result"
    }
   ],
   "source": [
    "x = 1.2; y = 0.1; z = 11\n",
    "\n",
    "println((x * y) * z, \" \", x * (y * z))\n",
    "(x * y) * z == x * (y * z)"
   ]
  },
  {
   "cell_type": "markdown",
   "metadata": {},
   "source": [
    "3. No."
   ]
  },
  {
   "cell_type": "code",
   "execution_count": 3,
   "metadata": {},
   "outputs": [
    {
     "name": "stdout",
     "output_type": "stream",
     "text": [
      "1.32 1.3199999999999998\n"
     ]
    },
    {
     "data": {
      "text/plain": [
       "false"
      ]
     },
     "execution_count": 3,
     "metadata": {},
     "output_type": "execute_result"
    }
   ],
   "source": [
    "a = 1.2; x = 1.0; y = 0.1\n",
    "\n",
    "println(a * (x + y), \" \", a * x + a * y)\n",
    "a * (x + y) == a * x + a * y"
   ]
  },
  {
   "cell_type": "markdown",
   "metadata": {},
   "source": [
    "4. No."
   ]
  },
  {
   "cell_type": "code",
   "execution_count": 4,
   "metadata": {},
   "outputs": [
    {
     "name": "stdout",
     "output_type": "stream",
     "text": [
      "NaN\n"
     ]
    },
    {
     "data": {
      "text/plain": [
       "false"
      ]
     },
     "execution_count": 4,
     "metadata": {},
     "output_type": "execute_result"
    }
   ],
   "source": [
    "x = Inf\n",
    "\n",
    "println(0 * x)\n",
    "0 * x == 0"
   ]
  },
  {
   "cell_type": "markdown",
   "metadata": {},
   "source": [
    "5. No."
   ]
  },
  {
   "cell_type": "code",
   "execution_count": 5,
   "metadata": {},
   "outputs": [
    {
     "name": "stdout",
     "output_type": "stream",
     "text": [
      "1.0e-50 9.999999999999999e-51\n"
     ]
    },
    {
     "data": {
      "text/plain": [
       "false"
      ]
     },
     "execution_count": 5,
     "metadata": {},
     "output_type": "execute_result"
    }
   ],
   "source": [
    "x = 1e-12; a = 1e38\n",
    "\n",
    "println(x / a, \" \", x * (1 / a))\n",
    "x / a == x * (1 / a)"
   ]
  },
  {
   "cell_type": "markdown",
   "metadata": {},
   "source": [
    "## Q3\n",
    "\n",
    "Consider Julia function\n",
    "```julia\n",
    "function g(k)\n",
    "    for i in 1:10\n",
    "        k = 5k - 1\n",
    "    end\n",
    "    k\n",
    "end\n",
    "```\n",
    "1. Use `@code_llvm` to find the LLVM bitcode of compiled `g` with `Int64` input.   \n",
    "2. Use `@code_llvm` to find the LLVM bitcode of compiled `g` with `Float64` input.  \n",
    "3. Compare the bitcode from questions 1 and 2. What do you find?  \n",
    "4. Read Julia documentation on `@fastmath` and repeat the questions 1-3 on the function  \n",
    "\n",
    "```julia\n",
    "function g_fastmath(k)  \n",
    "    @fastmath for i in 1:10  \n",
    "        k = 5k - 1\n",
    "    end\n",
    "    k\n",
    "end\n",
    "```\n",
    "    Explain what does macro `@fastmath` do?"
   ]
  },
  {
   "cell_type": "code",
   "execution_count": 6,
   "metadata": {},
   "outputs": [
    {
     "data": {
      "text/plain": [
       "g_fastmath (generic function with 1 method)"
      ]
     },
     "execution_count": 6,
     "metadata": {},
     "output_type": "execute_result"
    }
   ],
   "source": [
    "function g(k::Number)\n",
    "    for i in 1:10\n",
    "        k = 5k - 1\n",
    "    end\n",
    "    k\n",
    "end\n",
    "\n",
    "function g_fastmath(k)  \n",
    "    @fastmath for i in 1:10  \n",
    "        k = 5k - 1\n",
    "    end\n",
    "    k\n",
    "end"
   ]
  },
  {
   "cell_type": "markdown",
   "metadata": {},
   "source": [
    "## Sol Q3\n",
    "1."
   ]
  },
  {
   "cell_type": "code",
   "execution_count": 7,
   "metadata": {},
   "outputs": [
    {
     "data": {
      "text/plain": [
       "Int64"
      ]
     },
     "execution_count": 7,
     "metadata": {},
     "output_type": "execute_result"
    }
   ],
   "source": [
    "typeof(2)"
   ]
  },
  {
   "cell_type": "code",
   "execution_count": 8,
   "metadata": {},
   "outputs": [
    {
     "name": "stdout",
     "output_type": "stream",
     "text": [
      "\u001b[90m;  @ In[6]:1 within `g'\u001b[39m\n",
      "\u001b[95mdefine\u001b[39m \u001b[36mi64\u001b[39m \u001b[93m@julia_g_1290\u001b[39m\u001b[33m(\u001b[39m\u001b[36mi64\u001b[39m \u001b[95msignext\u001b[39m \u001b[0m%0\u001b[33m)\u001b[39m \u001b[33m{\u001b[39m\n",
      "\u001b[91mtop:\u001b[39m\n",
      "\u001b[90m;  @ In[6]:3 within `g'\u001b[39m\n",
      "\u001b[90m; ┌ @ int.jl:88 within `*'\u001b[39m\n",
      "   \u001b[0m%1 \u001b[0m= \u001b[96m\u001b[1mmul\u001b[22m\u001b[39m \u001b[36mi64\u001b[39m \u001b[0m%0\u001b[0m, \u001b[33m9765625\u001b[39m\n",
      "\u001b[90m; └\u001b[39m\n",
      "\u001b[90m; ┌ @ int.jl:86 within `-'\u001b[39m\n",
      "   \u001b[0m%2 \u001b[0m= \u001b[96m\u001b[1madd\u001b[22m\u001b[39m \u001b[36mi64\u001b[39m \u001b[0m%1\u001b[0m, \u001b[33m-2441406\u001b[39m\n",
      "\u001b[90m; └\u001b[39m\n",
      "\u001b[90m;  @ In[6]:5 within `g'\u001b[39m\n",
      "  \u001b[96m\u001b[1mret\u001b[22m\u001b[39m \u001b[36mi64\u001b[39m \u001b[0m%2\n",
      "\u001b[33m}\u001b[39m\n"
     ]
    }
   ],
   "source": [
    "@code_llvm g(2)"
   ]
  },
  {
   "cell_type": "markdown",
   "metadata": {},
   "source": [
    "2."
   ]
  },
  {
   "cell_type": "code",
   "execution_count": 9,
   "metadata": {},
   "outputs": [
    {
     "data": {
      "text/plain": [
       "Float64"
      ]
     },
     "execution_count": 9,
     "metadata": {},
     "output_type": "execute_result"
    }
   ],
   "source": [
    "typeof(2.0)"
   ]
  },
  {
   "cell_type": "code",
   "execution_count": 10,
   "metadata": {},
   "outputs": [
    {
     "name": "stdout",
     "output_type": "stream",
     "text": [
      "\u001b[90m;  @ In[6]:1 within `g'\u001b[39m\n",
      "\u001b[95mdefine\u001b[39m \u001b[36mdouble\u001b[39m \u001b[93m@julia_g_1323\u001b[39m\u001b[33m(\u001b[39m\u001b[36mdouble\u001b[39m \u001b[0m%0\u001b[33m)\u001b[39m \u001b[33m{\u001b[39m\n",
      "\u001b[91mtop:\u001b[39m\n",
      "\u001b[90m;  @ In[6]:3 within `g'\u001b[39m\n",
      "\u001b[90m; ┌ @ promotion.jl:322 within `*' @ float.jl:332\u001b[39m\n",
      "   \u001b[0m%1 \u001b[0m= \u001b[96m\u001b[1mfmul\u001b[22m\u001b[39m \u001b[36mdouble\u001b[39m \u001b[0m%0\u001b[0m, \u001b[33m5.000000e+00\u001b[39m\n",
      "\u001b[90m; └\u001b[39m\n",
      "\u001b[90m; ┌ @ promotion.jl:323 within `-' @ float.jl:329\u001b[39m\n",
      "   \u001b[0m%2 \u001b[0m= \u001b[96m\u001b[1mfadd\u001b[22m\u001b[39m \u001b[36mdouble\u001b[39m \u001b[0m%1\u001b[0m, \u001b[33m-1.000000e+00\u001b[39m\n",
      "\u001b[90m; └\u001b[39m\n",
      "\u001b[90m; ┌ @ promotion.jl:322 within `*' @ float.jl:332\u001b[39m\n",
      "   \u001b[0m%3 \u001b[0m= \u001b[96m\u001b[1mfmul\u001b[22m\u001b[39m \u001b[36mdouble\u001b[39m \u001b[0m%2\u001b[0m, \u001b[33m5.000000e+00\u001b[39m\n",
      "\u001b[90m; └\u001b[39m\n",
      "\u001b[90m; ┌ @ promotion.jl:323 within `-' @ float.jl:329\u001b[39m\n",
      "   \u001b[0m%4 \u001b[0m= \u001b[96m\u001b[1mfadd\u001b[22m\u001b[39m \u001b[36mdouble\u001b[39m \u001b[0m%3\u001b[0m, \u001b[33m-1.000000e+00\u001b[39m\n",
      "\u001b[90m; └\u001b[39m\n",
      "\u001b[90m; ┌ @ promotion.jl:322 within `*' @ float.jl:332\u001b[39m\n",
      "   \u001b[0m%5 \u001b[0m= \u001b[96m\u001b[1mfmul\u001b[22m\u001b[39m \u001b[36mdouble\u001b[39m \u001b[0m%4\u001b[0m, \u001b[33m5.000000e+00\u001b[39m\n",
      "\u001b[90m; └\u001b[39m\n",
      "\u001b[90m; ┌ @ promotion.jl:323 within `-' @ float.jl:329\u001b[39m\n",
      "   \u001b[0m%6 \u001b[0m= \u001b[96m\u001b[1mfadd\u001b[22m\u001b[39m \u001b[36mdouble\u001b[39m \u001b[0m%5\u001b[0m, \u001b[33m-1.000000e+00\u001b[39m\n",
      "\u001b[90m; └\u001b[39m\n",
      "\u001b[90m; ┌ @ promotion.jl:322 within `*' @ float.jl:332\u001b[39m\n",
      "   \u001b[0m%7 \u001b[0m= \u001b[96m\u001b[1mfmul\u001b[22m\u001b[39m \u001b[36mdouble\u001b[39m \u001b[0m%6\u001b[0m, \u001b[33m5.000000e+00\u001b[39m\n",
      "\u001b[90m; └\u001b[39m\n",
      "\u001b[90m; ┌ @ promotion.jl:323 within `-' @ float.jl:329\u001b[39m\n",
      "   \u001b[0m%8 \u001b[0m= \u001b[96m\u001b[1mfadd\u001b[22m\u001b[39m \u001b[36mdouble\u001b[39m \u001b[0m%7\u001b[0m, \u001b[33m-1.000000e+00\u001b[39m\n",
      "\u001b[90m; └\u001b[39m\n",
      "\u001b[90m; ┌ @ promotion.jl:322 within `*' @ float.jl:332\u001b[39m\n",
      "   \u001b[0m%9 \u001b[0m= \u001b[96m\u001b[1mfmul\u001b[22m\u001b[39m \u001b[36mdouble\u001b[39m \u001b[0m%8\u001b[0m, \u001b[33m5.000000e+00\u001b[39m\n",
      "\u001b[90m; └\u001b[39m\n",
      "\u001b[90m; ┌ @ promotion.jl:323 within `-' @ float.jl:329\u001b[39m\n",
      "   \u001b[0m%10 \u001b[0m= \u001b[96m\u001b[1mfadd\u001b[22m\u001b[39m \u001b[36mdouble\u001b[39m \u001b[0m%9\u001b[0m, \u001b[33m-1.000000e+00\u001b[39m\n",
      "\u001b[90m; └\u001b[39m\n",
      "\u001b[90m; ┌ @ promotion.jl:322 within `*' @ float.jl:332\u001b[39m\n",
      "   \u001b[0m%11 \u001b[0m= \u001b[96m\u001b[1mfmul\u001b[22m\u001b[39m \u001b[36mdouble\u001b[39m \u001b[0m%10\u001b[0m, \u001b[33m5.000000e+00\u001b[39m\n",
      "\u001b[90m; └\u001b[39m\n",
      "\u001b[90m; ┌ @ promotion.jl:323 within `-' @ float.jl:329\u001b[39m\n",
      "   \u001b[0m%12 \u001b[0m= \u001b[96m\u001b[1mfadd\u001b[22m\u001b[39m \u001b[36mdouble\u001b[39m \u001b[0m%11\u001b[0m, \u001b[33m-1.000000e+00\u001b[39m\n",
      "\u001b[90m; └\u001b[39m\n",
      "\u001b[90m; ┌ @ promotion.jl:322 within `*' @ float.jl:332\u001b[39m\n",
      "   \u001b[0m%13 \u001b[0m= \u001b[96m\u001b[1mfmul\u001b[22m\u001b[39m \u001b[36mdouble\u001b[39m \u001b[0m%12\u001b[0m, \u001b[33m5.000000e+00\u001b[39m\n",
      "\u001b[90m; └\u001b[39m\n",
      "\u001b[90m; ┌ @ promotion.jl:323 within `-' @ float.jl:329\u001b[39m\n",
      "   \u001b[0m%14 \u001b[0m= \u001b[96m\u001b[1mfadd\u001b[22m\u001b[39m \u001b[36mdouble\u001b[39m \u001b[0m%13\u001b[0m, \u001b[33m-1.000000e+00\u001b[39m\n",
      "\u001b[90m; └\u001b[39m\n",
      "\u001b[90m; ┌ @ promotion.jl:322 within `*' @ float.jl:332\u001b[39m\n",
      "   \u001b[0m%15 \u001b[0m= \u001b[96m\u001b[1mfmul\u001b[22m\u001b[39m \u001b[36mdouble\u001b[39m \u001b[0m%14\u001b[0m, \u001b[33m5.000000e+00\u001b[39m\n",
      "\u001b[90m; └\u001b[39m\n",
      "\u001b[90m; ┌ @ promotion.jl:323 within `-' @ float.jl:329\u001b[39m\n",
      "   \u001b[0m%16 \u001b[0m= \u001b[96m\u001b[1mfadd\u001b[22m\u001b[39m \u001b[36mdouble\u001b[39m \u001b[0m%15\u001b[0m, \u001b[33m-1.000000e+00\u001b[39m\n",
      "\u001b[90m; └\u001b[39m\n",
      "\u001b[90m; ┌ @ promotion.jl:322 within `*' @ float.jl:332\u001b[39m\n",
      "   \u001b[0m%17 \u001b[0m= \u001b[96m\u001b[1mfmul\u001b[22m\u001b[39m \u001b[36mdouble\u001b[39m \u001b[0m%16\u001b[0m, \u001b[33m5.000000e+00\u001b[39m\n",
      "\u001b[90m; └\u001b[39m\n",
      "\u001b[90m; ┌ @ promotion.jl:323 within `-' @ float.jl:329\u001b[39m\n",
      "   \u001b[0m%18 \u001b[0m= \u001b[96m\u001b[1mfadd\u001b[22m\u001b[39m \u001b[36mdouble\u001b[39m \u001b[0m%17\u001b[0m, \u001b[33m-1.000000e+00\u001b[39m\n",
      "\u001b[90m; └\u001b[39m\n",
      "\u001b[90m; ┌ @ promotion.jl:322 within `*' @ float.jl:332\u001b[39m\n",
      "   \u001b[0m%19 \u001b[0m= \u001b[96m\u001b[1mfmul\u001b[22m\u001b[39m \u001b[36mdouble\u001b[39m \u001b[0m%18\u001b[0m, \u001b[33m5.000000e+00\u001b[39m\n",
      "\u001b[90m; └\u001b[39m\n",
      "\u001b[90m; ┌ @ promotion.jl:323 within `-' @ float.jl:329\u001b[39m\n",
      "   \u001b[0m%20 \u001b[0m= \u001b[96m\u001b[1mfadd\u001b[22m\u001b[39m \u001b[36mdouble\u001b[39m \u001b[0m%19\u001b[0m, \u001b[33m-1.000000e+00\u001b[39m\n",
      "\u001b[90m; └\u001b[39m\n",
      "\u001b[90m;  @ In[6]:5 within `g'\u001b[39m\n",
      "  \u001b[96m\u001b[1mret\u001b[22m\u001b[39m \u001b[36mdouble\u001b[39m \u001b[0m%20\n",
      "\u001b[33m}\u001b[39m\n"
     ]
    }
   ],
   "source": [
    "@code_llvm g(2.0)"
   ]
  },
  {
   "cell_type": "markdown",
   "metadata": {},
   "source": [
    "3. For `Int64`: no loop, 2 steps in total. For `Float64`: 10 loops, 20 steps in total."
   ]
  },
  {
   "cell_type": "markdown",
   "metadata": {},
   "source": [
    "4."
   ]
  },
  {
   "cell_type": "code",
   "execution_count": 11,
   "metadata": {},
   "outputs": [
    {
     "data": {
      "text/latex": [
       "\\begin{verbatim}\n",
       "@fastmath expr\n",
       "\\end{verbatim}\n",
       "Execute a transformed version of the expression, which calls functions that may violate strict IEEE semantics. This allows the fastest possible operation, but results are undefined – be careful when doing this, as it may change numerical results.\n",
       "\n",
       "This sets the \\href{http://llvm.org/docs/LangRef.html#fast-math-flags}{LLVM Fast-Math flags}, and corresponds to the \\texttt{-ffast-math} option in clang. See \\href{@ref man-performance-annotations}{the notes on performance annotations} for more details.\n",
       "\n",
       "\\section{Examples}\n",
       "\\begin{verbatim}\n",
       "julia> @fastmath 1+2\n",
       "3\n",
       "\n",
       "julia> @fastmath(sin(3))\n",
       "0.1411200080598672\n",
       "\\end{verbatim}\n"
      ],
      "text/markdown": [
       "```\n",
       "@fastmath expr\n",
       "```\n",
       "\n",
       "Execute a transformed version of the expression, which calls functions that may violate strict IEEE semantics. This allows the fastest possible operation, but results are undefined – be careful when doing this, as it may change numerical results.\n",
       "\n",
       "This sets the [LLVM Fast-Math flags](http://llvm.org/docs/LangRef.html#fast-math-flags), and corresponds to the `-ffast-math` option in clang. See [the notes on performance annotations](@ref man-performance-annotations) for more details.\n",
       "\n",
       "# Examples\n",
       "\n",
       "```jldoctest\n",
       "julia> @fastmath 1+2\n",
       "3\n",
       "\n",
       "julia> @fastmath(sin(3))\n",
       "0.1411200080598672\n",
       "```\n"
      ],
      "text/plain": [
       "\u001b[36m  @fastmath expr\u001b[39m\n",
       "\n",
       "  Execute a transformed version of the expression, which calls functions that\n",
       "  may violate strict IEEE semantics. This allows the fastest possible\n",
       "  operation, but results are undefined – be careful when doing this, as it may\n",
       "  change numerical results.\n",
       "\n",
       "  This sets the LLVM Fast-Math flags\n",
       "  (http://llvm.org/docs/LangRef.html#fast-math-flags), and corresponds to the\n",
       "  \u001b[36m-ffast-math\u001b[39m option in clang. See the notes on performance annotations for\n",
       "  more details.\n",
       "\n",
       "\u001b[1m  Examples\u001b[22m\n",
       "\u001b[1m  ≡≡≡≡≡≡≡≡≡≡\u001b[22m\n",
       "\n",
       "\u001b[36m  julia> @fastmath 1+2\u001b[39m\n",
       "\u001b[36m  3\u001b[39m\n",
       "\u001b[36m  \u001b[39m\n",
       "\u001b[36m  julia> @fastmath(sin(3))\u001b[39m\n",
       "\u001b[36m  0.1411200080598672\u001b[39m"
      ]
     },
     "execution_count": 11,
     "metadata": {},
     "output_type": "execute_result"
    }
   ],
   "source": [
    "?@fastmath"
   ]
  },
  {
   "cell_type": "code",
   "execution_count": 12,
   "metadata": {},
   "outputs": [
    {
     "name": "stdout",
     "output_type": "stream",
     "text": [
      "\u001b[90m;  @ In[6]:8 within `g_fastmath'\u001b[39m\n",
      "\u001b[95mdefine\u001b[39m \u001b[36mi64\u001b[39m \u001b[93m@julia_g_fastmath_1538\u001b[39m\u001b[33m(\u001b[39m\u001b[36mi64\u001b[39m \u001b[95msignext\u001b[39m \u001b[0m%0\u001b[33m)\u001b[39m \u001b[33m{\u001b[39m\n",
      "\u001b[91mtop:\u001b[39m\n",
      "\u001b[90m;  @ In[6]:10 within `g_fastmath'\u001b[39m\n",
      "\u001b[90m; ┌ @ fastmath.jl:270 within `mul_fast'\u001b[39m\n",
      "\u001b[90m; │┌ @ int.jl:88 within `*'\u001b[39m\n",
      "    \u001b[0m%1 \u001b[0m= \u001b[96m\u001b[1mmul\u001b[22m\u001b[39m \u001b[36mi64\u001b[39m \u001b[0m%0\u001b[0m, \u001b[33m9765625\u001b[39m\n",
      "\u001b[90m; └└\u001b[39m\n",
      "\u001b[90m; ┌ @ fastmath.jl:270 within `sub_fast'\u001b[39m\n",
      "\u001b[90m; │┌ @ int.jl:86 within `-'\u001b[39m\n",
      "    \u001b[0m%2 \u001b[0m= \u001b[96m\u001b[1madd\u001b[22m\u001b[39m \u001b[36mi64\u001b[39m \u001b[0m%1\u001b[0m, \u001b[33m-2441406\u001b[39m\n",
      "\u001b[90m; └└\u001b[39m\n",
      "\u001b[90m;  @ In[6]:12 within `g_fastmath'\u001b[39m\n",
      "  \u001b[96m\u001b[1mret\u001b[22m\u001b[39m \u001b[36mi64\u001b[39m \u001b[0m%2\n",
      "\u001b[33m}\u001b[39m\n"
     ]
    }
   ],
   "source": [
    "@code_llvm g_fastmath(2)"
   ]
  },
  {
   "cell_type": "code",
   "execution_count": 13,
   "metadata": {},
   "outputs": [
    {
     "name": "stdout",
     "output_type": "stream",
     "text": [
      "\u001b[90m;  @ In[6]:8 within `g_fastmath'\u001b[39m\n",
      "\u001b[95mdefine\u001b[39m \u001b[36mdouble\u001b[39m \u001b[93m@julia_g_fastmath_1540\u001b[39m\u001b[33m(\u001b[39m\u001b[36mdouble\u001b[39m \u001b[0m%0\u001b[33m)\u001b[39m \u001b[33m{\u001b[39m\n",
      "\u001b[91mtop:\u001b[39m\n",
      "\u001b[90m;  @ In[6]:10 within `g_fastmath'\u001b[39m\n",
      "\u001b[90m; ┌ @ fastmath.jl:267 within `mul_fast' @ fastmath.jl:167\u001b[39m\n",
      "   \u001b[0m%1 \u001b[0m= \u001b[96m\u001b[1mfmul\u001b[22m\u001b[39m \u001b[95mfast\u001b[39m \u001b[36mdouble\u001b[39m \u001b[0m%0\u001b[0m, \u001b[33m0x4162A05F20000000\u001b[39m\n",
      "\u001b[90m; └\u001b[39m\n",
      "\u001b[90m; ┌ @ fastmath.jl:267 within `sub_fast' @ fastmath.jl:166\u001b[39m\n",
      "   \u001b[0m%2 \u001b[0m= \u001b[96m\u001b[1mfadd\u001b[22m\u001b[39m \u001b[95mfast\u001b[39m \u001b[36mdouble\u001b[39m \u001b[0m%1\u001b[0m, \u001b[33m0xC142A05F00000000\u001b[39m\n",
      "\u001b[90m; └\u001b[39m\n",
      "\u001b[90m;  @ In[6]:12 within `g_fastmath'\u001b[39m\n",
      "  \u001b[96m\u001b[1mret\u001b[22m\u001b[39m \u001b[36mdouble\u001b[39m \u001b[0m%2\n",
      "\u001b[33m}\u001b[39m\n"
     ]
    }
   ],
   "source": [
    "@code_llvm g_fastmath(2.0)"
   ]
  },
  {
   "cell_type": "markdown",
   "metadata": {},
   "source": [
    "`@fastmath`: It \"executes a transformed version of the expression\", thus avoiding unnessary loops in our case. "
   ]
  },
  {
   "cell_type": "markdown",
   "metadata": {},
   "source": [
    "## Q4\n",
    "\n",
    "Create the vector `x = (0.988, 0.989, 0.990, ..., 1.010, 1.011, 1.012)`.   \n",
    "\n",
    "1. Plot the polynomial `y = x^7 - 7x^6 + 21x^5 - 35x^4 + 35x^3 - 21x^2 + 7x - 1` at points `x`.  \n",
    "\n",
    "2. Plot the polynomial `y = (x - 1)^7` at points `x`.  \n",
    "\n",
    "3. Explain what you found."
   ]
  },
  {
   "cell_type": "markdown",
   "metadata": {},
   "source": [
    "## Sol Q4"
   ]
  },
  {
   "cell_type": "code",
   "execution_count": 14,
   "metadata": {},
   "outputs": [
    {
     "data": {
      "text/plain": [
       "1-element Vector{Vector{Float64}}:\n",
       " [-3.583180800000022e-14, -1.9487171000000122e-14, -1.0000000000000062e-14, -4.78296900000003e-15, -2.0971520000000132e-15, -8.235430000000051e-16, -2.7993600000000173e-16, -7.812500000000048e-17, -1.6384000000000103e-17, -2.1870000000000135e-18  …  2.186999999999447e-18, 1.6384000000000103e-17, 7.812499999998834e-17, 2.7993600000000173e-16, 8.235429999999137e-16, 2.0971520000000132e-15, 4.7829689999996165e-15, 1.0000000000000062e-14, 1.9487170999998743e-14, 3.583180800000022e-14]"
      ]
     },
     "execution_count": 14,
     "metadata": {},
     "output_type": "execute_result"
    }
   ],
   "source": [
    "using Plots\n",
    "\n",
    "x = [0.988:0.001:1.012]\n",
    "y1 = map.(x -> x^7 - 7x^6 + 21x^5 - 35x^4 + 35x^3 - 21x^2 + 7x - 1, x)\n",
    "y2 = map.(x -> y = (x - 1)^7, x)"
   ]
  },
  {
   "cell_type": "markdown",
   "metadata": {},
   "source": [
    "1.\n",
    "\n",
    "2.\n",
    "\n",
    "Note y1 corresponds to the expansion and y2 corresponds to $(x-1)^7$."
   ]
  },
  {
   "cell_type": "code",
   "execution_count": 15,
   "metadata": {},
   "outputs": [
    {
     "data": {
      "image/svg+xml": [
       "<?xml version=\"1.0\" encoding=\"utf-8\"?>\n",
       "<svg xmlns=\"http://www.w3.org/2000/svg\" xmlns:xlink=\"http://www.w3.org/1999/xlink\" width=\"600\" height=\"400\" viewBox=\"0 0 2400 1600\">\n",
       "<defs>\n",
       "  <clipPath id=\"clip460\">\n",
       "    <rect x=\"0\" y=\"0\" width=\"2400\" height=\"1600\"/>\n",
       "  </clipPath>\n",
       "</defs>\n",
       "<path clip-path=\"url(#clip460)\" d=\"\n",
       "M0 1600 L2400 1600 L2400 0 L0 0  Z\n",
       "  \" fill=\"#ffffff\" fill-rule=\"evenodd\" fill-opacity=\"1\"/>\n",
       "<defs>\n",
       "  <clipPath id=\"clip461\">\n",
       "    <rect x=\"480\" y=\"0\" width=\"1681\" height=\"1600\"/>\n",
       "  </clipPath>\n",
       "</defs>\n",
       "<path clip-path=\"url(#clip460)\" d=\"\n",
       "M369.025 1486.45 L2352.76 1486.45 L2352.76 47.2441 L369.025 47.2441  Z\n",
       "  \" fill=\"#ffffff\" fill-rule=\"evenodd\" fill-opacity=\"1\"/>\n",
       "<defs>\n",
       "  <clipPath id=\"clip462\">\n",
       "    <rect x=\"369\" y=\"47\" width=\"1985\" height=\"1440\"/>\n",
       "  </clipPath>\n",
       "</defs>\n",
       "<polyline clip-path=\"url(#clip462)\" style=\"stroke:#000000; stroke-width:2; stroke-opacity:0.1; fill:none\" points=\"\n",
       "  581.122,1486.45 581.122,47.2441 \n",
       "  \"/>\n",
       "<polyline clip-path=\"url(#clip462)\" style=\"stroke:#000000; stroke-width:2; stroke-opacity:0.1; fill:none\" points=\"\n",
       "  971.006,1486.45 971.006,47.2441 \n",
       "  \"/>\n",
       "<polyline clip-path=\"url(#clip462)\" style=\"stroke:#000000; stroke-width:2; stroke-opacity:0.1; fill:none\" points=\"\n",
       "  1360.89,1486.45 1360.89,47.2441 \n",
       "  \"/>\n",
       "<polyline clip-path=\"url(#clip462)\" style=\"stroke:#000000; stroke-width:2; stroke-opacity:0.1; fill:none\" points=\"\n",
       "  1750.77,1486.45 1750.77,47.2441 \n",
       "  \"/>\n",
       "<polyline clip-path=\"url(#clip462)\" style=\"stroke:#000000; stroke-width:2; stroke-opacity:0.1; fill:none\" points=\"\n",
       "  2140.66,1486.45 2140.66,47.2441 \n",
       "  \"/>\n",
       "<polyline clip-path=\"url(#clip460)\" style=\"stroke:#000000; stroke-width:4; stroke-opacity:1; fill:none\" points=\"\n",
       "  369.025,1486.45 2352.76,1486.45 \n",
       "  \"/>\n",
       "<polyline clip-path=\"url(#clip460)\" style=\"stroke:#000000; stroke-width:4; stroke-opacity:1; fill:none\" points=\"\n",
       "  581.122,1486.45 581.122,1469.18 \n",
       "  \"/>\n",
       "<polyline clip-path=\"url(#clip460)\" style=\"stroke:#000000; stroke-width:4; stroke-opacity:1; fill:none\" points=\"\n",
       "  971.006,1486.45 971.006,1469.18 \n",
       "  \"/>\n",
       "<polyline clip-path=\"url(#clip460)\" style=\"stroke:#000000; stroke-width:4; stroke-opacity:1; fill:none\" points=\"\n",
       "  1360.89,1486.45 1360.89,1469.18 \n",
       "  \"/>\n",
       "<polyline clip-path=\"url(#clip460)\" style=\"stroke:#000000; stroke-width:4; stroke-opacity:1; fill:none\" points=\"\n",
       "  1750.77,1486.45 1750.77,1469.18 \n",
       "  \"/>\n",
       "<polyline clip-path=\"url(#clip460)\" style=\"stroke:#000000; stroke-width:4; stroke-opacity:1; fill:none\" points=\"\n",
       "  2140.66,1486.45 2140.66,1469.18 \n",
       "  \"/>\n",
       "<path clip-path=\"url(#clip460)\" d=\"M 0 0 M528.344 1515.64 Q524.733 1515.64 522.905 1519.2 Q521.099 1522.75 521.099 1529.87 Q521.099 1536.98 522.905 1540.55 Q524.733 1544.09 528.344 1544.09 Q531.979 1544.09 533.784 1540.55 Q535.613 1536.98 535.613 1529.87 Q535.613 1522.75 533.784 1519.2 Q531.979 1515.64 528.344 1515.64 M528.344 1511.93 Q534.154 1511.93 537.21 1516.54 Q540.289 1521.12 540.289 1529.87 Q540.289 1538.6 537.21 1543.21 Q534.154 1547.79 528.344 1547.79 Q522.534 1547.79 519.455 1543.21 Q516.4 1538.6 516.4 1529.87 Q516.4 1521.12 519.455 1516.54 Q522.534 1511.93 528.344 1511.93 Z\" fill=\"#000000\" fill-rule=\"evenodd\" fill-opacity=\"1\" /><path clip-path=\"url(#clip460)\" d=\"M 0 0 M548.506 1541.24 L553.39 1541.24 L553.39 1547.12 L548.506 1547.12 L548.506 1541.24 Z\" fill=\"#000000\" fill-rule=\"evenodd\" fill-opacity=\"1\" /><path clip-path=\"url(#clip460)\" d=\"M 0 0 M563.714 1546.4 L563.714 1542.14 Q565.474 1542.98 567.279 1543.42 Q569.085 1543.86 570.821 1543.86 Q575.451 1543.86 577.881 1540.75 Q580.335 1537.63 580.682 1531.29 Q579.339 1533.28 577.279 1534.34 Q575.219 1535.41 572.719 1535.41 Q567.534 1535.41 564.502 1532.28 Q561.492 1529.13 561.492 1523.69 Q561.492 1518.37 564.64 1515.15 Q567.789 1511.93 573.02 1511.93 Q579.015 1511.93 582.163 1516.54 Q585.335 1521.12 585.335 1529.87 Q585.335 1538.05 581.446 1542.93 Q577.58 1547.79 571.029 1547.79 Q569.27 1547.79 567.464 1547.44 Q565.659 1547.1 563.714 1546.4 M573.02 1531.75 Q576.168 1531.75 577.997 1529.6 Q579.849 1527.44 579.849 1523.69 Q579.849 1519.97 577.997 1517.81 Q576.168 1515.64 573.02 1515.64 Q569.872 1515.64 568.02 1517.81 Q566.191 1519.97 566.191 1523.69 Q566.191 1527.44 568.02 1529.6 Q569.872 1531.75 573.02 1531.75 Z\" fill=\"#000000\" fill-rule=\"evenodd\" fill-opacity=\"1\" /><path clip-path=\"url(#clip460)\" d=\"M 0 0 M593.876 1546.4 L593.876 1542.14 Q595.636 1542.98 597.441 1543.42 Q599.247 1543.86 600.983 1543.86 Q605.612 1543.86 608.043 1540.75 Q610.497 1537.63 610.844 1531.29 Q609.501 1533.28 607.441 1534.34 Q605.381 1535.41 602.881 1535.41 Q597.696 1535.41 594.663 1532.28 Q591.654 1529.13 591.654 1523.69 Q591.654 1518.37 594.802 1515.15 Q597.95 1511.93 603.182 1511.93 Q609.177 1511.93 612.325 1516.54 Q615.497 1521.12 615.497 1529.87 Q615.497 1538.05 611.608 1542.93 Q607.742 1547.79 601.191 1547.79 Q599.432 1547.79 597.626 1547.44 Q595.821 1547.1 593.876 1546.4 M603.182 1531.75 Q606.33 1531.75 608.159 1529.6 Q610.011 1527.44 610.011 1523.69 Q610.011 1519.97 608.159 1517.81 Q606.33 1515.64 603.182 1515.64 Q600.034 1515.64 598.182 1517.81 Q596.353 1519.97 596.353 1523.69 Q596.353 1527.44 598.182 1529.6 Q600.034 1531.75 603.182 1531.75 Z\" fill=\"#000000\" fill-rule=\"evenodd\" fill-opacity=\"1\" /><path clip-path=\"url(#clip460)\" d=\"M 0 0 M633.899 1515.64 Q630.288 1515.64 628.46 1519.2 Q626.654 1522.75 626.654 1529.87 Q626.654 1536.98 628.46 1540.55 Q630.288 1544.09 633.899 1544.09 Q637.534 1544.09 639.339 1540.55 Q641.168 1536.98 641.168 1529.87 Q641.168 1522.75 639.339 1519.2 Q637.534 1515.64 633.899 1515.64 M633.899 1511.93 Q639.709 1511.93 642.765 1516.54 Q645.844 1521.12 645.844 1529.87 Q645.844 1538.6 642.765 1543.21 Q639.709 1547.79 633.899 1547.79 Q628.089 1547.79 625.01 1543.21 Q621.955 1538.6 621.955 1529.87 Q621.955 1521.12 625.01 1516.54 Q628.089 1511.93 633.899 1511.93 Z\" fill=\"#000000\" fill-rule=\"evenodd\" fill-opacity=\"1\" /><path clip-path=\"url(#clip460)\" d=\"M 0 0 M918.726 1515.64 Q915.115 1515.64 913.286 1519.2 Q911.481 1522.75 911.481 1529.87 Q911.481 1536.98 913.286 1540.55 Q915.115 1544.09 918.726 1544.09 Q922.36 1544.09 924.166 1540.55 Q925.995 1536.98 925.995 1529.87 Q925.995 1522.75 924.166 1519.2 Q922.36 1515.64 918.726 1515.64 M918.726 1511.93 Q924.536 1511.93 927.592 1516.54 Q930.671 1521.12 930.671 1529.87 Q930.671 1538.6 927.592 1543.21 Q924.536 1547.79 918.726 1547.79 Q912.916 1547.79 909.837 1543.21 Q906.782 1538.6 906.782 1529.87 Q906.782 1521.12 909.837 1516.54 Q912.916 1511.93 918.726 1511.93 Z\" fill=\"#000000\" fill-rule=\"evenodd\" fill-opacity=\"1\" /><path clip-path=\"url(#clip460)\" d=\"M 0 0 M938.888 1541.24 L943.772 1541.24 L943.772 1547.12 L938.888 1547.12 L938.888 1541.24 Z\" fill=\"#000000\" fill-rule=\"evenodd\" fill-opacity=\"1\" /><path clip-path=\"url(#clip460)\" d=\"M 0 0 M954.096 1546.4 L954.096 1542.14 Q955.856 1542.98 957.661 1543.42 Q959.467 1543.86 961.203 1543.86 Q965.832 1543.86 968.263 1540.75 Q970.717 1537.63 971.064 1531.29 Q969.721 1533.28 967.661 1534.34 Q965.601 1535.41 963.101 1535.41 Q957.916 1535.41 954.883 1532.28 Q951.874 1529.13 951.874 1523.69 Q951.874 1518.37 955.022 1515.15 Q958.17 1511.93 963.402 1511.93 Q969.397 1511.93 972.545 1516.54 Q975.717 1521.12 975.717 1529.87 Q975.717 1538.05 971.828 1542.93 Q967.962 1547.79 961.411 1547.79 Q959.652 1547.79 957.846 1547.44 Q956.041 1547.1 954.096 1546.4 M963.402 1531.75 Q966.55 1531.75 968.379 1529.6 Q970.231 1527.44 970.231 1523.69 Q970.231 1519.97 968.379 1517.81 Q966.55 1515.64 963.402 1515.64 Q960.254 1515.64 958.402 1517.81 Q956.573 1519.97 956.573 1523.69 Q956.573 1527.44 958.402 1529.6 Q960.254 1531.75 963.402 1531.75 Z\" fill=\"#000000\" fill-rule=\"evenodd\" fill-opacity=\"1\" /><path clip-path=\"url(#clip460)\" d=\"M 0 0 M984.258 1546.4 L984.258 1542.14 Q986.018 1542.98 987.823 1543.42 Q989.629 1543.86 991.365 1543.86 Q995.994 1543.86 998.425 1540.75 Q1000.88 1537.63 1001.23 1531.29 Q999.883 1533.28 997.823 1534.34 Q995.763 1535.41 993.263 1535.41 Q988.078 1535.41 985.045 1532.28 Q982.036 1529.13 982.036 1523.69 Q982.036 1518.37 985.184 1515.15 Q988.332 1511.93 993.564 1511.93 Q999.559 1511.93 1002.71 1516.54 Q1005.88 1521.12 1005.88 1529.87 Q1005.88 1538.05 1001.99 1542.93 Q998.124 1547.79 991.573 1547.79 Q989.814 1547.79 988.008 1547.44 Q986.203 1547.1 984.258 1546.4 M993.564 1531.75 Q996.712 1531.75 998.541 1529.6 Q1000.39 1527.44 1000.39 1523.69 Q1000.39 1519.97 998.541 1517.81 Q996.712 1515.64 993.564 1515.64 Q990.416 1515.64 988.564 1517.81 Q986.735 1519.97 986.735 1523.69 Q986.735 1527.44 988.564 1529.6 Q990.416 1531.75 993.564 1531.75 Z\" fill=\"#000000\" fill-rule=\"evenodd\" fill-opacity=\"1\" /><path clip-path=\"url(#clip460)\" d=\"M 0 0 M1014.33 1512.56 L1032.68 1512.56 L1032.68 1516.5 L1018.61 1516.5 L1018.61 1524.97 Q1019.63 1524.62 1020.65 1524.46 Q1021.67 1524.27 1022.68 1524.27 Q1028.47 1524.27 1031.85 1527.44 Q1035.23 1530.62 1035.23 1536.03 Q1035.23 1541.61 1031.76 1544.71 Q1028.29 1547.79 1021.97 1547.79 Q1019.79 1547.79 1017.52 1547.42 Q1015.28 1547.05 1012.87 1546.31 L1012.87 1541.61 Q1014.95 1542.74 1017.17 1543.3 Q1019.4 1543.86 1021.87 1543.86 Q1025.88 1543.86 1028.22 1541.75 Q1030.55 1539.64 1030.55 1536.03 Q1030.55 1532.42 1028.22 1530.31 Q1025.88 1528.21 1021.87 1528.21 Q1020 1528.21 1018.12 1528.62 Q1016.27 1529.04 1014.33 1529.92 L1014.33 1512.56 Z\" fill=\"#000000\" fill-rule=\"evenodd\" fill-opacity=\"1\" /><path clip-path=\"url(#clip460)\" d=\"M 0 0 M1297.88 1543.18 L1305.52 1543.18 L1305.52 1516.82 L1297.21 1518.49 L1297.21 1514.23 L1305.47 1512.56 L1310.15 1512.56 L1310.15 1543.18 L1317.79 1543.18 L1317.79 1547.12 L1297.88 1547.12 L1297.88 1543.18 Z\" fill=\"#000000\" fill-rule=\"evenodd\" fill-opacity=\"1\" /><path clip-path=\"url(#clip460)\" d=\"M 0 0 M1327.23 1541.24 L1332.12 1541.24 L1332.12 1547.12 L1327.23 1547.12 L1327.23 1541.24 Z\" fill=\"#000000\" fill-rule=\"evenodd\" fill-opacity=\"1\" /><path clip-path=\"url(#clip460)\" d=\"M 0 0 M1352.3 1515.64 Q1348.69 1515.64 1346.86 1519.2 Q1345.06 1522.75 1345.06 1529.87 Q1345.06 1536.98 1346.86 1540.55 Q1348.69 1544.09 1352.3 1544.09 Q1355.94 1544.09 1357.74 1540.55 Q1359.57 1536.98 1359.57 1529.87 Q1359.57 1522.75 1357.74 1519.2 Q1355.94 1515.64 1352.3 1515.64 M1352.3 1511.93 Q1358.11 1511.93 1361.17 1516.54 Q1364.25 1521.12 1364.25 1529.87 Q1364.25 1538.6 1361.17 1543.21 Q1358.11 1547.79 1352.3 1547.79 Q1346.49 1547.79 1343.41 1543.21 Q1340.36 1538.6 1340.36 1529.87 Q1340.36 1521.12 1343.41 1516.54 Q1346.49 1511.93 1352.3 1511.93 Z\" fill=\"#000000\" fill-rule=\"evenodd\" fill-opacity=\"1\" /><path clip-path=\"url(#clip460)\" d=\"M 0 0 M1382.46 1515.64 Q1378.85 1515.64 1377.02 1519.2 Q1375.22 1522.75 1375.22 1529.87 Q1375.22 1536.98 1377.02 1540.55 Q1378.85 1544.09 1382.46 1544.09 Q1386.1 1544.09 1387.9 1540.55 Q1389.73 1536.98 1389.73 1529.87 Q1389.73 1522.75 1387.9 1519.2 Q1386.1 1515.64 1382.46 1515.64 M1382.46 1511.93 Q1388.27 1511.93 1391.33 1516.54 Q1394.41 1521.12 1394.41 1529.87 Q1394.41 1538.6 1391.33 1543.21 Q1388.27 1547.79 1382.46 1547.79 Q1376.65 1547.79 1373.58 1543.21 Q1370.52 1538.6 1370.52 1529.87 Q1370.52 1521.12 1373.58 1516.54 Q1376.65 1511.93 1382.46 1511.93 Z\" fill=\"#000000\" fill-rule=\"evenodd\" fill-opacity=\"1\" /><path clip-path=\"url(#clip460)\" d=\"M 0 0 M1412.63 1515.64 Q1409.02 1515.64 1407.19 1519.2 Q1405.38 1522.75 1405.38 1529.87 Q1405.38 1536.98 1407.19 1540.55 Q1409.02 1544.09 1412.63 1544.09 Q1416.26 1544.09 1418.07 1540.55 Q1419.89 1536.98 1419.89 1529.87 Q1419.89 1522.75 1418.07 1519.2 Q1416.26 1515.64 1412.63 1515.64 M1412.63 1511.93 Q1418.44 1511.93 1421.49 1516.54 Q1424.57 1521.12 1424.57 1529.87 Q1424.57 1538.6 1421.49 1543.21 Q1418.44 1547.79 1412.63 1547.79 Q1406.82 1547.79 1403.74 1543.21 Q1400.68 1538.6 1400.68 1529.87 Q1400.68 1521.12 1403.74 1516.54 Q1406.82 1511.93 1412.63 1511.93 Z\" fill=\"#000000\" fill-rule=\"evenodd\" fill-opacity=\"1\" /><path clip-path=\"url(#clip460)\" d=\"M 0 0 M1688.26 1543.18 L1695.9 1543.18 L1695.9 1516.82 L1687.59 1518.49 L1687.59 1514.23 L1695.86 1512.56 L1700.53 1512.56 L1700.53 1543.18 L1708.17 1543.18 L1708.17 1547.12 L1688.26 1547.12 L1688.26 1543.18 Z\" fill=\"#000000\" fill-rule=\"evenodd\" fill-opacity=\"1\" /><path clip-path=\"url(#clip460)\" d=\"M 0 0 M1717.62 1541.24 L1722.5 1541.24 L1722.5 1547.12 L1717.62 1547.12 L1717.62 1541.24 Z\" fill=\"#000000\" fill-rule=\"evenodd\" fill-opacity=\"1\" /><path clip-path=\"url(#clip460)\" d=\"M 0 0 M1742.68 1515.64 Q1739.07 1515.64 1737.24 1519.2 Q1735.44 1522.75 1735.44 1529.87 Q1735.44 1536.98 1737.24 1540.55 Q1739.07 1544.09 1742.68 1544.09 Q1746.32 1544.09 1748.12 1540.55 Q1749.95 1536.98 1749.95 1529.87 Q1749.95 1522.75 1748.12 1519.2 Q1746.32 1515.64 1742.68 1515.64 M1742.68 1511.93 Q1748.49 1511.93 1751.55 1516.54 Q1754.63 1521.12 1754.63 1529.87 Q1754.63 1538.6 1751.55 1543.21 Q1748.49 1547.79 1742.68 1547.79 Q1736.87 1547.79 1733.8 1543.21 Q1730.74 1538.6 1730.74 1529.87 Q1730.74 1521.12 1733.8 1516.54 Q1736.87 1511.93 1742.68 1511.93 Z\" fill=\"#000000\" fill-rule=\"evenodd\" fill-opacity=\"1\" /><path clip-path=\"url(#clip460)\" d=\"M 0 0 M1772.85 1515.64 Q1769.24 1515.64 1767.41 1519.2 Q1765.6 1522.75 1765.6 1529.87 Q1765.6 1536.98 1767.41 1540.55 Q1769.24 1544.09 1772.85 1544.09 Q1776.48 1544.09 1778.29 1540.55 Q1780.11 1536.98 1780.11 1529.87 Q1780.11 1522.75 1778.29 1519.2 Q1776.48 1515.64 1772.85 1515.64 M1772.85 1511.93 Q1778.66 1511.93 1781.71 1516.54 Q1784.79 1521.12 1784.79 1529.87 Q1784.79 1538.6 1781.71 1543.21 Q1778.66 1547.79 1772.85 1547.79 Q1767.04 1547.79 1763.96 1543.21 Q1760.9 1538.6 1760.9 1529.87 Q1760.9 1521.12 1763.96 1516.54 Q1767.04 1511.93 1772.85 1511.93 Z\" fill=\"#000000\" fill-rule=\"evenodd\" fill-opacity=\"1\" /><path clip-path=\"url(#clip460)\" d=\"M 0 0 M1793.05 1512.56 L1811.41 1512.56 L1811.41 1516.5 L1797.34 1516.5 L1797.34 1524.97 Q1798.36 1524.62 1799.37 1524.46 Q1800.39 1524.27 1801.41 1524.27 Q1807.2 1524.27 1810.58 1527.44 Q1813.96 1530.62 1813.96 1536.03 Q1813.96 1541.61 1810.48 1544.71 Q1807.01 1547.79 1800.69 1547.79 Q1798.52 1547.79 1796.25 1547.42 Q1794 1547.05 1791.6 1546.31 L1791.6 1541.61 Q1793.68 1542.74 1795.9 1543.3 Q1798.12 1543.86 1800.6 1543.86 Q1804.61 1543.86 1806.94 1541.75 Q1809.28 1539.64 1809.28 1536.03 Q1809.28 1532.42 1806.94 1530.31 Q1804.61 1528.21 1800.6 1528.21 Q1798.73 1528.21 1796.85 1528.62 Q1795 1529.04 1793.05 1529.92 L1793.05 1512.56 Z\" fill=\"#000000\" fill-rule=\"evenodd\" fill-opacity=\"1\" /><path clip-path=\"url(#clip460)\" d=\"M 0 0 M2077.65 1543.18 L2085.29 1543.18 L2085.29 1516.82 L2076.98 1518.49 L2076.98 1514.23 L2085.24 1512.56 L2089.92 1512.56 L2089.92 1543.18 L2097.56 1543.18 L2097.56 1547.12 L2077.65 1547.12 L2077.65 1543.18 Z\" fill=\"#000000\" fill-rule=\"evenodd\" fill-opacity=\"1\" /><path clip-path=\"url(#clip460)\" d=\"M 0 0 M2107 1541.24 L2111.89 1541.24 L2111.89 1547.12 L2107 1547.12 L2107 1541.24 Z\" fill=\"#000000\" fill-rule=\"evenodd\" fill-opacity=\"1\" /><path clip-path=\"url(#clip460)\" d=\"M 0 0 M2132.07 1515.64 Q2128.46 1515.64 2126.63 1519.2 Q2124.83 1522.75 2124.83 1529.87 Q2124.83 1536.98 2126.63 1540.55 Q2128.46 1544.09 2132.07 1544.09 Q2135.71 1544.09 2137.51 1540.55 Q2139.34 1536.98 2139.34 1529.87 Q2139.34 1522.75 2137.51 1519.2 Q2135.71 1515.64 2132.07 1515.64 M2132.07 1511.93 Q2137.88 1511.93 2140.94 1516.54 Q2144.02 1521.12 2144.02 1529.87 Q2144.02 1538.6 2140.94 1543.21 Q2137.88 1547.79 2132.07 1547.79 Q2126.26 1547.79 2123.18 1543.21 Q2120.13 1538.6 2120.13 1529.87 Q2120.13 1521.12 2123.18 1516.54 Q2126.26 1511.93 2132.07 1511.93 Z\" fill=\"#000000\" fill-rule=\"evenodd\" fill-opacity=\"1\" /><path clip-path=\"url(#clip460)\" d=\"M 0 0 M2153.04 1543.18 L2160.68 1543.18 L2160.68 1516.82 L2152.37 1518.49 L2152.37 1514.23 L2160.64 1512.56 L2165.31 1512.56 L2165.31 1543.18 L2172.95 1543.18 L2172.95 1547.12 L2153.04 1547.12 L2153.04 1543.18 Z\" fill=\"#000000\" fill-rule=\"evenodd\" fill-opacity=\"1\" /><path clip-path=\"url(#clip460)\" d=\"M 0 0 M2192.39 1515.64 Q2188.78 1515.64 2186.95 1519.2 Q2185.15 1522.75 2185.15 1529.87 Q2185.15 1536.98 2186.95 1540.55 Q2188.78 1544.09 2192.39 1544.09 Q2196.03 1544.09 2197.83 1540.55 Q2199.66 1536.98 2199.66 1529.87 Q2199.66 1522.75 2197.83 1519.2 Q2196.03 1515.64 2192.39 1515.64 M2192.39 1511.93 Q2198.2 1511.93 2201.26 1516.54 Q2204.34 1521.12 2204.34 1529.87 Q2204.34 1538.6 2201.26 1543.21 Q2198.2 1547.79 2192.39 1547.79 Q2186.58 1547.79 2183.51 1543.21 Q2180.45 1538.6 2180.45 1529.87 Q2180.45 1521.12 2183.51 1516.54 Q2186.58 1511.93 2192.39 1511.93 Z\" fill=\"#000000\" fill-rule=\"evenodd\" fill-opacity=\"1\" /><polyline clip-path=\"url(#clip462)\" style=\"stroke:#000000; stroke-width:2; stroke-opacity:0.1; fill:none\" points=\"\n",
       "  369.025,1183.63 2352.76,1183.63 \n",
       "  \"/>\n",
       "<polyline clip-path=\"url(#clip462)\" style=\"stroke:#000000; stroke-width:2; stroke-opacity:0.1; fill:none\" points=\"\n",
       "  369.025,852.543 2352.76,852.543 \n",
       "  \"/>\n",
       "<polyline clip-path=\"url(#clip462)\" style=\"stroke:#000000; stroke-width:2; stroke-opacity:0.1; fill:none\" points=\"\n",
       "  369.025,521.456 2352.76,521.456 \n",
       "  \"/>\n",
       "<polyline clip-path=\"url(#clip462)\" style=\"stroke:#000000; stroke-width:2; stroke-opacity:0.1; fill:none\" points=\"\n",
       "  369.025,190.37 2352.76,190.37 \n",
       "  \"/>\n",
       "<polyline clip-path=\"url(#clip460)\" style=\"stroke:#000000; stroke-width:4; stroke-opacity:1; fill:none\" points=\"\n",
       "  369.025,1486.45 369.025,47.2441 \n",
       "  \"/>\n",
       "<polyline clip-path=\"url(#clip460)\" style=\"stroke:#000000; stroke-width:4; stroke-opacity:1; fill:none\" points=\"\n",
       "  369.025,1183.63 392.83,1183.63 \n",
       "  \"/>\n",
       "<polyline clip-path=\"url(#clip460)\" style=\"stroke:#000000; stroke-width:4; stroke-opacity:1; fill:none\" points=\"\n",
       "  369.025,852.543 392.83,852.543 \n",
       "  \"/>\n",
       "<polyline clip-path=\"url(#clip460)\" style=\"stroke:#000000; stroke-width:4; stroke-opacity:1; fill:none\" points=\"\n",
       "  369.025,521.456 392.83,521.456 \n",
       "  \"/>\n",
       "<polyline clip-path=\"url(#clip460)\" style=\"stroke:#000000; stroke-width:4; stroke-opacity:1; fill:none\" points=\"\n",
       "  369.025,190.37 392.83,190.37 \n",
       "  \"/>\n",
       "<path clip-path=\"url(#clip460)\" d=\"M 0 0 M50.9921 1190.53 L80.6679 1190.53 L80.6679 1194.46 L50.9921 1194.46 L50.9921 1190.53 Z\" fill=\"#000000\" fill-rule=\"evenodd\" fill-opacity=\"1\" /><path clip-path=\"url(#clip460)\" d=\"M 0 0 M94.7882 1203.42 L111.108 1203.42 L111.108 1207.36 L89.1632 1207.36 L89.1632 1203.42 Q91.8252 1200.67 96.4085 1196.04 Q101.015 1191.39 102.196 1190.04 Q104.441 1187.52 105.321 1185.78 Q106.223 1184.02 106.223 1182.34 Q106.223 1179.58 104.279 1177.84 Q102.358 1176.11 99.2558 1176.11 Q97.0567 1176.11 94.603 1176.87 Q92.1725 1177.64 89.3947 1179.19 L89.3947 1174.46 Q92.2188 1173.33 94.6724 1172.75 Q97.1261 1172.17 99.1632 1172.17 Q104.534 1172.17 107.728 1174.86 Q110.922 1177.54 110.922 1182.03 Q110.922 1184.16 110.112 1186.08 Q109.325 1187.98 107.219 1190.58 Q106.64 1191.25 103.538 1194.46 Q100.436 1197.66 94.7882 1203.42 Z\" fill=\"#000000\" fill-rule=\"evenodd\" fill-opacity=\"1\" /><path clip-path=\"url(#clip460)\" d=\"M 0 0 M120.922 1201.48 L125.807 1201.48 L125.807 1207.36 L120.922 1207.36 L120.922 1201.48 Z\" fill=\"#000000\" fill-rule=\"evenodd\" fill-opacity=\"1\" /><path clip-path=\"url(#clip460)\" d=\"M 0 0 M145.992 1175.88 Q142.381 1175.88 140.552 1179.44 Q138.746 1182.98 138.746 1190.11 Q138.746 1197.22 140.552 1200.78 Q142.381 1204.33 145.992 1204.33 Q149.626 1204.33 151.431 1200.78 Q153.26 1197.22 153.26 1190.11 Q153.26 1182.98 151.431 1179.44 Q149.626 1175.88 145.992 1175.88 M145.992 1172.17 Q151.802 1172.17 154.857 1176.78 Q157.936 1181.36 157.936 1190.11 Q157.936 1198.84 154.857 1203.45 Q151.802 1208.03 145.992 1208.03 Q140.181 1208.03 137.103 1203.45 Q134.047 1198.84 134.047 1190.11 Q134.047 1181.36 137.103 1176.78 Q140.181 1172.17 145.992 1172.17 Z\" fill=\"#000000\" fill-rule=\"evenodd\" fill-opacity=\"1\" /><path clip-path=\"url(#clip460)\" d=\"M 0 0 M194.325 1181.9 L183.746 1192.52 L194.325 1203.1 L191.57 1205.9 L180.945 1195.27 L170.32 1205.9 L167.589 1203.1 L178.144 1192.52 L167.589 1181.9 L170.32 1179.09 L180.945 1189.72 L191.57 1179.09 L194.325 1181.9 Z\" fill=\"#000000\" fill-rule=\"evenodd\" fill-opacity=\"1\" /><path clip-path=\"url(#clip460)\" d=\"M 0 0 M206.686 1203.42 L214.325 1203.42 L214.325 1177.06 L206.014 1178.72 L206.014 1174.46 L214.278 1172.8 L218.954 1172.8 L218.954 1203.42 L226.593 1203.42 L226.593 1207.36 L206.686 1207.36 L206.686 1203.42 Z\" fill=\"#000000\" fill-rule=\"evenodd\" fill-opacity=\"1\" /><path clip-path=\"url(#clip460)\" d=\"M 0 0 M246.037 1175.88 Q242.426 1175.88 240.598 1179.44 Q238.792 1182.98 238.792 1190.11 Q238.792 1197.22 240.598 1200.78 Q242.426 1204.33 246.037 1204.33 Q249.672 1204.33 251.477 1200.78 Q253.306 1197.22 253.306 1190.11 Q253.306 1182.98 251.477 1179.44 Q249.672 1175.88 246.037 1175.88 M246.037 1172.17 Q251.848 1172.17 254.903 1176.78 Q257.982 1181.36 257.982 1190.11 Q257.982 1198.84 254.903 1203.45 Q251.848 1208.03 246.037 1208.03 Q240.227 1208.03 237.149 1203.45 Q234.093 1198.84 234.093 1190.11 Q234.093 1181.36 237.149 1176.78 Q240.227 1172.17 246.037 1172.17 Z\" fill=\"#000000\" fill-rule=\"evenodd\" fill-opacity=\"1\" /><path clip-path=\"url(#clip460)\" d=\"M 0 0 M257.982 1166.27 L282.093 1166.27 L282.093 1169.47 L257.982 1169.47 L257.982 1166.27 Z\" fill=\"#000000\" fill-rule=\"evenodd\" fill-opacity=\"1\" /><path clip-path=\"url(#clip460)\" d=\"M 0 0 M290.952 1176.75 L297.158 1176.75 L297.158 1155.33 L290.406 1156.68 L290.406 1153.22 L297.121 1151.87 L300.92 1151.87 L300.92 1176.75 L307.126 1176.75 L307.126 1179.95 L290.952 1179.95 L290.952 1176.75 Z\" fill=\"#000000\" fill-rule=\"evenodd\" fill-opacity=\"1\" /><path clip-path=\"url(#clip460)\" d=\"M 0 0 M325.238 1155.18 L315.646 1170.17 L325.238 1170.17 L325.238 1155.18 M324.242 1151.87 L329.019 1151.87 L329.019 1170.17 L333.025 1170.17 L333.025 1173.33 L329.019 1173.33 L329.019 1179.95 L325.238 1179.95 L325.238 1173.33 L312.562 1173.33 L312.562 1169.66 L324.242 1151.87 Z\" fill=\"#000000\" fill-rule=\"evenodd\" fill-opacity=\"1\" /><path clip-path=\"url(#clip460)\" d=\"M 0 0 M321.08 838.342 Q317.469 838.342 315.641 841.907 Q313.835 845.449 313.835 852.578 Q313.835 859.685 315.641 863.249 Q317.469 866.791 321.08 866.791 Q324.715 866.791 326.52 863.249 Q328.349 859.685 328.349 852.578 Q328.349 845.449 326.52 841.907 Q324.715 838.342 321.08 838.342 M321.08 834.638 Q326.891 834.638 329.946 839.245 Q333.025 843.828 333.025 852.578 Q333.025 861.305 329.946 865.911 Q326.891 870.495 321.08 870.495 Q315.27 870.495 312.192 865.911 Q309.136 861.305 309.136 852.578 Q309.136 843.828 312.192 839.245 Q315.27 834.638 321.08 834.638 Z\" fill=\"#000000\" fill-rule=\"evenodd\" fill-opacity=\"1\" /><path clip-path=\"url(#clip460)\" d=\"M 0 0 M94.7882 541.249 L111.108 541.249 L111.108 545.184 L89.1632 545.184 L89.1632 541.249 Q91.8252 538.494 96.4085 533.865 Q101.015 529.212 102.196 527.869 Q104.441 525.346 105.321 523.61 Q106.223 521.851 106.223 520.161 Q106.223 517.406 104.279 515.67 Q102.358 513.934 99.2558 513.934 Q97.0567 513.934 94.603 514.698 Q92.1725 515.462 89.3947 517.013 L89.3947 512.291 Q92.2188 511.156 94.6724 510.578 Q97.1261 509.999 99.1632 509.999 Q104.534 509.999 107.728 512.684 Q110.922 515.369 110.922 519.86 Q110.922 521.99 110.112 523.911 Q109.325 525.809 107.219 528.402 Q106.64 529.073 103.538 532.291 Q100.436 535.485 94.7882 541.249 Z\" fill=\"#000000\" fill-rule=\"evenodd\" fill-opacity=\"1\" /><path clip-path=\"url(#clip460)\" d=\"M 0 0 M120.922 539.304 L125.807 539.304 L125.807 545.184 L120.922 545.184 L120.922 539.304 Z\" fill=\"#000000\" fill-rule=\"evenodd\" fill-opacity=\"1\" /><path clip-path=\"url(#clip460)\" d=\"M 0 0 M145.992 513.703 Q142.381 513.703 140.552 517.268 Q138.746 520.809 138.746 527.939 Q138.746 535.045 140.552 538.61 Q142.381 542.152 145.992 542.152 Q149.626 542.152 151.431 538.61 Q153.26 535.045 153.26 527.939 Q153.26 520.809 151.431 517.268 Q149.626 513.703 145.992 513.703 M145.992 509.999 Q151.802 509.999 154.857 514.606 Q157.936 519.189 157.936 527.939 Q157.936 536.666 154.857 541.272 Q151.802 545.855 145.992 545.855 Q140.181 545.855 137.103 541.272 Q134.047 536.666 134.047 527.939 Q134.047 519.189 137.103 514.606 Q140.181 509.999 145.992 509.999 Z\" fill=\"#000000\" fill-rule=\"evenodd\" fill-opacity=\"1\" /><path clip-path=\"url(#clip460)\" d=\"M 0 0 M194.325 519.721 L183.746 530.346 L194.325 540.925 L191.57 543.726 L180.945 533.101 L170.32 543.726 L167.589 540.925 L178.144 530.346 L167.589 519.721 L170.32 516.92 L180.945 527.545 L191.57 516.92 L194.325 519.721 Z\" fill=\"#000000\" fill-rule=\"evenodd\" fill-opacity=\"1\" /><path clip-path=\"url(#clip460)\" d=\"M 0 0 M206.686 541.249 L214.325 541.249 L214.325 514.883 L206.014 516.55 L206.014 512.291 L214.278 510.624 L218.954 510.624 L218.954 541.249 L226.593 541.249 L226.593 545.184 L206.686 545.184 L206.686 541.249 Z\" fill=\"#000000\" fill-rule=\"evenodd\" fill-opacity=\"1\" /><path clip-path=\"url(#clip460)\" d=\"M 0 0 M246.037 513.703 Q242.426 513.703 240.598 517.268 Q238.792 520.809 238.792 527.939 Q238.792 535.045 240.598 538.61 Q242.426 542.152 246.037 542.152 Q249.672 542.152 251.477 538.61 Q253.306 535.045 253.306 527.939 Q253.306 520.809 251.477 517.268 Q249.672 513.703 246.037 513.703 M246.037 509.999 Q251.848 509.999 254.903 514.606 Q257.982 519.189 257.982 527.939 Q257.982 536.666 254.903 541.272 Q251.848 545.855 246.037 545.855 Q240.227 545.855 237.149 541.272 Q234.093 536.666 234.093 527.939 Q234.093 519.189 237.149 514.606 Q240.227 509.999 246.037 509.999 Z\" fill=\"#000000\" fill-rule=\"evenodd\" fill-opacity=\"1\" /><path clip-path=\"url(#clip460)\" d=\"M 0 0 M257.982 504.1 L282.093 504.1 L282.093 507.298 L257.982 507.298 L257.982 504.1 Z\" fill=\"#000000\" fill-rule=\"evenodd\" fill-opacity=\"1\" /><path clip-path=\"url(#clip460)\" d=\"M 0 0 M290.952 514.576 L297.158 514.576 L297.158 493.154 L290.406 494.508 L290.406 491.048 L297.121 489.694 L300.92 489.694 L300.92 514.576 L307.126 514.576 L307.126 517.774 L290.952 517.774 L290.952 514.576 Z\" fill=\"#000000\" fill-rule=\"evenodd\" fill-opacity=\"1\" /><path clip-path=\"url(#clip460)\" d=\"M 0 0 M325.238 493.004 L315.646 507.994 L325.238 507.994 L325.238 493.004 M324.242 489.694 L329.019 489.694 L329.019 507.994 L333.025 507.994 L333.025 511.153 L329.019 511.153 L329.019 517.774 L325.238 517.774 L325.238 511.153 L312.562 511.153 L312.562 507.486 L324.242 489.694 Z\" fill=\"#000000\" fill-rule=\"evenodd\" fill-opacity=\"1\" /><path clip-path=\"url(#clip460)\" d=\"M 0 0 M103.608 183.611 L91.8021 202.06 L103.608 202.06 L103.608 183.611 M102.381 179.537 L108.26 179.537 L108.26 202.06 L113.191 202.06 L113.191 205.949 L108.26 205.949 L108.26 214.097 L103.608 214.097 L103.608 205.949 L88.0058 205.949 L88.0058 201.435 L102.381 179.537 Z\" fill=\"#000000\" fill-rule=\"evenodd\" fill-opacity=\"1\" /><path clip-path=\"url(#clip460)\" d=\"M 0 0 M120.922 208.218 L125.807 208.218 L125.807 214.097 L120.922 214.097 L120.922 208.218 Z\" fill=\"#000000\" fill-rule=\"evenodd\" fill-opacity=\"1\" /><path clip-path=\"url(#clip460)\" d=\"M 0 0 M145.992 182.616 Q142.381 182.616 140.552 186.181 Q138.746 189.722 138.746 196.852 Q138.746 203.958 140.552 207.523 Q142.381 211.065 145.992 211.065 Q149.626 211.065 151.431 207.523 Q153.26 203.958 153.26 196.852 Q153.26 189.722 151.431 186.181 Q149.626 182.616 145.992 182.616 M145.992 178.912 Q151.802 178.912 154.857 183.519 Q157.936 188.102 157.936 196.852 Q157.936 205.579 154.857 210.185 Q151.802 214.768 145.992 214.768 Q140.181 214.768 137.103 210.185 Q134.047 205.579 134.047 196.852 Q134.047 188.102 137.103 183.519 Q140.181 178.912 145.992 178.912 Z\" fill=\"#000000\" fill-rule=\"evenodd\" fill-opacity=\"1\" /><path clip-path=\"url(#clip460)\" d=\"M 0 0 M194.325 188.634 L183.746 199.259 L194.325 209.838 L191.57 212.639 L180.945 202.014 L170.32 212.639 L167.589 209.838 L178.144 199.259 L167.589 188.634 L170.32 185.833 L180.945 196.458 L191.57 185.833 L194.325 188.634 Z\" fill=\"#000000\" fill-rule=\"evenodd\" fill-opacity=\"1\" /><path clip-path=\"url(#clip460)\" d=\"M 0 0 M206.686 210.162 L214.325 210.162 L214.325 183.796 L206.014 185.463 L206.014 181.204 L214.278 179.537 L218.954 179.537 L218.954 210.162 L226.593 210.162 L226.593 214.097 L206.686 214.097 L206.686 210.162 Z\" fill=\"#000000\" fill-rule=\"evenodd\" fill-opacity=\"1\" /><path clip-path=\"url(#clip460)\" d=\"M 0 0 M246.037 182.616 Q242.426 182.616 240.598 186.181 Q238.792 189.722 238.792 196.852 Q238.792 203.958 240.598 207.523 Q242.426 211.065 246.037 211.065 Q249.672 211.065 251.477 207.523 Q253.306 203.958 253.306 196.852 Q253.306 189.722 251.477 186.181 Q249.672 182.616 246.037 182.616 M246.037 178.912 Q251.848 178.912 254.903 183.519 Q257.982 188.102 257.982 196.852 Q257.982 205.579 254.903 210.185 Q251.848 214.768 246.037 214.768 Q240.227 214.768 237.149 210.185 Q234.093 205.579 234.093 196.852 Q234.093 188.102 237.149 183.519 Q240.227 178.912 246.037 178.912 Z\" fill=\"#000000\" fill-rule=\"evenodd\" fill-opacity=\"1\" /><path clip-path=\"url(#clip460)\" d=\"M 0 0 M257.982 173.013 L282.093 173.013 L282.093 176.211 L257.982 176.211 L257.982 173.013 Z\" fill=\"#000000\" fill-rule=\"evenodd\" fill-opacity=\"1\" /><path clip-path=\"url(#clip460)\" d=\"M 0 0 M290.952 183.489 L297.158 183.489 L297.158 162.067 L290.406 163.422 L290.406 159.961 L297.121 158.607 L300.92 158.607 L300.92 183.489 L307.126 183.489 L307.126 186.687 L290.952 186.687 L290.952 183.489 Z\" fill=\"#000000\" fill-rule=\"evenodd\" fill-opacity=\"1\" /><path clip-path=\"url(#clip460)\" d=\"M 0 0 M325.238 161.917 L315.646 176.907 L325.238 176.907 L325.238 161.917 M324.242 158.607 L329.019 158.607 L329.019 176.907 L333.025 176.907 L333.025 180.066 L329.019 180.066 L329.019 186.687 L325.238 186.687 L325.238 180.066 L312.562 180.066 L312.562 176.399 L324.242 158.607 Z\" fill=\"#000000\" fill-rule=\"evenodd\" fill-opacity=\"1\" /><polyline clip-path=\"url(#clip462)\" style=\"stroke:#009af9; stroke-width:4; stroke-opacity:1; fill:none\" points=\"\n",
       "  425.168,1440.67 503.145,1234.83 581.122,1087.79 659.099,984.872 737.076,955.466 815.052,926.06 893.029,881.95 971.006,911.356 1048.98,881.95 1126.96,896.653 \n",
       "  1204.94,867.247 1282.91,881.95 1360.89,852.543 1438.87,940.763 1516.84,955.466 1594.82,823.137 1672.8,881.95 1750.77,867.247 1828.75,881.95 1906.73,852.543 \n",
       "  1984.71,808.434 2062.68,911.356 2140.66,734.918 2218.64,543.776 2296.61,87.9763 \n",
       "  \"/>\n",
       "<polyline clip-path=\"url(#clip462)\" style=\"stroke:#e26f46; stroke-width:4; stroke-opacity:1; fill:none\" points=\"\n",
       "  425.168,1445.72 503.145,1175.14 581.122,1018.09 659.099,931.722 737.076,887.26 815.052,866.177 893.029,857.178 971.006,853.837 1048.98,852.815 1126.96,852.58 \n",
       "  1204.94,852.546 1282.91,852.543 1360.89,852.543 1438.87,852.543 1516.84,852.541 1594.82,852.507 1672.8,852.272 1750.77,851.25 1828.75,847.909 1906.73,838.91 \n",
       "  1984.71,817.826 2062.68,773.365 2140.66,687 2218.64,529.946 2296.61,259.371 \n",
       "  \"/>\n",
       "<path clip-path=\"url(#clip460)\" d=\"\n",
       "M2013.79 276.658 L2286.63 276.658 L2286.63 95.2176 L2013.79 95.2176  Z\n",
       "  \" fill=\"#ffffff\" fill-rule=\"evenodd\" fill-opacity=\"1\"/>\n",
       "<polyline clip-path=\"url(#clip460)\" style=\"stroke:#000000; stroke-width:4; stroke-opacity:1; fill:none\" points=\"\n",
       "  2013.79,276.658 2286.63,276.658 2286.63,95.2176 2013.79,95.2176 2013.79,276.658 \n",
       "  \"/>\n",
       "<polyline clip-path=\"url(#clip460)\" style=\"stroke:#009af9; stroke-width:4; stroke-opacity:1; fill:none\" points=\"\n",
       "  2035.83,155.698 2168.08,155.698 \n",
       "  \"/>\n",
       "<path clip-path=\"url(#clip460)\" d=\"M 0 0 M2203.96 175.385 Q2202.16 180.015 2200.44 181.427 Q2198.73 182.839 2195.86 182.839 L2192.46 182.839 L2192.46 179.274 L2194.96 179.274 Q2196.72 179.274 2197.69 178.44 Q2198.66 177.607 2199.84 174.505 L2200.6 172.561 L2190.12 147.052 L2194.63 147.052 L2202.73 167.329 L2210.84 147.052 L2215.35 147.052 L2203.96 175.385 Z\" fill=\"#000000\" fill-rule=\"evenodd\" fill-opacity=\"1\" /><path clip-path=\"url(#clip460)\" d=\"M 0 0 M2222.64 169.042 L2230.28 169.042 L2230.28 142.677 L2221.97 144.343 L2221.97 140.084 L2230.23 138.418 L2234.91 138.418 L2234.91 169.042 L2242.55 169.042 L2242.55 172.978 L2222.64 172.978 L2222.64 169.042 Z\" fill=\"#000000\" fill-rule=\"evenodd\" fill-opacity=\"1\" /><polyline clip-path=\"url(#clip460)\" style=\"stroke:#e26f46; stroke-width:4; stroke-opacity:1; fill:none\" points=\"\n",
       "  2035.83,216.178 2168.08,216.178 \n",
       "  \"/>\n",
       "<path clip-path=\"url(#clip460)\" d=\"M 0 0 M2203.96 235.865 Q2202.16 240.495 2200.44 241.907 Q2198.73 243.319 2195.86 243.319 L2192.46 243.319 L2192.46 239.754 L2194.96 239.754 Q2196.72 239.754 2197.69 238.92 Q2198.66 238.087 2199.84 234.985 L2200.6 233.041 L2190.12 207.532 L2194.63 207.532 L2202.73 227.809 L2210.84 207.532 L2215.35 207.532 L2203.96 235.865 Z\" fill=\"#000000\" fill-rule=\"evenodd\" fill-opacity=\"1\" /><path clip-path=\"url(#clip460)\" d=\"M 0 0 M2225.86 229.522 L2242.18 229.522 L2242.18 233.458 L2220.23 233.458 L2220.23 229.522 Q2222.9 226.768 2227.48 222.138 Q2232.09 217.485 2233.27 216.143 Q2235.51 213.62 2236.39 211.884 Q2237.29 210.124 2237.29 208.435 Q2237.29 205.68 2235.35 203.944 Q2233.43 202.208 2230.33 202.208 Q2228.13 202.208 2225.67 202.972 Q2223.24 203.735 2220.47 205.286 L2220.47 200.564 Q2223.29 199.43 2225.74 198.851 Q2228.2 198.273 2230.23 198.273 Q2235.6 198.273 2238.8 200.958 Q2241.99 203.643 2241.99 208.134 Q2241.99 210.263 2241.18 212.185 Q2240.4 214.083 2238.29 216.675 Q2237.71 217.347 2234.61 220.564 Q2231.51 223.759 2225.86 229.522 Z\" fill=\"#000000\" fill-rule=\"evenodd\" fill-opacity=\"1\" /></svg>\n"
      ]
     },
     "execution_count": 15,
     "metadata": {},
     "output_type": "execute_result"
    }
   ],
   "source": [
    "Plots.plot(x, [y1; y2])"
   ]
  },
  {
   "cell_type": "markdown",
   "metadata": {},
   "source": [
    "3. **What I found**: $y_2=(x-1)^7$ is smooth while $y_1$ is more zigzag. The reason is many terms in the expansion is very small ($~10^{-14}$), causing rounding error of floating points."
   ]
  },
  {
   "cell_type": "markdown",
   "metadata": {},
   "source": [
    "## Q5\n",
    "\n",
    "1. Show the **Sherman-Morrison formula**\n",
    "$$\n",
    "\t(\\mathbf{A} + \\mathbf{u} \\mathbf{u}^T)^{-1} = \\mathbf{A}^{-1} - \\frac{1}{1 + \\mathbf{u}^T \\mathbf{A}^{-1} \\mathbf{u}} \\mathbf{A}^{-1} \\mathbf{u} \\mathbf{u}^T \\mathbf{A}^{-1},\n",
    "$$\n",
    "where $\\mathbf{A} \\in \\mathbb{R}^{n \\times n}$ is nonsingular and $\\mathbf{u} \\in \\mathbb{R}^n$. This formula supplies the inverse of the symmetric, rank-one  perturbation of $\\mathbf{A}$.\n",
    "\n",
    "2. Show the **Woodbury formula**\n",
    "$$\n",
    "\t(\\mathbf{A} + \\mathbf{U} \\mathbf{V}^T)^{-1} = \\mathbf{A}^{-1} - \\mathbf{A}^{-1} \\mathbf{U} (\\mathbf{I}_m + \\mathbf{V}^T \\mathbf{A}^{-1} \\mathbf{U})^{-1} \\mathbf{V}^T \\mathbf{A}^{-1},\n",
    "$$\n",
    "where $\\mathbf{A} \\in \\mathbb{R}^{n \\times n}$ is nonsingular, $\\mathbf{U}, \\mathbf{V} \\in \\mathbb{R}^{n \\times m}$, and $\\mathbf{I}_m$ is the $m \\times m$ identity matrix. In many applications $m$ is much smaller than $n$. Woodbury formula generalizes Sherman-Morrison and is valuable because the smaller matrix $\\mathbf{I}_m + \\mathbf{V}^T \\mathbf{A}^{-1} \\mathbf{U}$ is cheaper to invert than the larger matrix $\\mathbf{A} + \\mathbf{U} \\mathbf{V}^T$.\n",
    "\n",
    "3. Show the **binomial inversion formula**\n",
    "$$\n",
    "\t(\\mathbf{A} + \\mathbf{U} \\mathbf{B} \\mathbf{V}^T)^{-1} = \\mathbf{A}^{-1} - \\mathbf{A}^{-1} \\mathbf{U} (\\mathbf{B}^{-1} + \\mathbf{V}^T \\mathbf{A}^{-1} \\mathbf{U})^{-1} \\mathbf{V}^T \\mathbf{A}^{-1},\n",
    "$$\n",
    "where $\\mathbf{A}$ and $\\mathbf{B}$ are nonsingular.\n",
    "\n",
    "4. Show the identity\n",
    "$$\n",
    "\t\\text{det}(\\mathbf{A} + \\mathbf{U} \\mathbf{V}^T) = \\text{det}(\\mathbf{A}) \\text{det}(\\mathbf{I}_m + \\mathbf{V}^T \\mathbf{A}^{-1} \\mathbf{U}).\n",
    "$$\n",
    "This formula is useful for evaluating the density of a multivariate normal with covariance matrix $\\mathbf{A} + \\mathbf{U} \\mathbf{V}^T$.\n",
    "\n",
    "**Hint**: 1 and 2 are special cases of 3."
   ]
  },
  {
   "cell_type": "markdown",
   "metadata": {},
   "source": [
    "## Sol Q5\n",
    "\n",
    "1. **Sherman-Morrison Formula**: Direct approach.\n",
    "\\begin{align}\n",
    "&\\ \\ \\ \\ \\left(A^{-1}-\\frac{1}{1+u^TA^{-1}u}A^{-1}uu^TA^{-1}\\right)\\left(A+uu^T\\right)\\\\\n",
    "&=I+A^{-1}uu^T-\\frac{1}{1+u^TA^{-1}u}A^{-1}uu^T-\\frac{1}{1+u^TA^{-1}u}A^{-1}u(u^TA^{-1}u)u^T\\\\\n",
    "&=I+A^{-1}uu^T-\\left(\\frac{1+u^TA^{-1}u}{1+u^TA^{-1}u}\\right)A^{-1}uu^T\\\\\n",
    "&=I\n",
    "\\end{align}\n",
    "\n",
    "2. **Woodbury Formula**: the result follows immediately by letting $B=I_m$ in *binomial inversion formula*,.\n",
    "\n",
    "3. **Binomial Inversion Formula**: Algebraic approach.\n",
    "\n",
    "ETS \n",
    "$$\n",
    "A^{-1}=(A+UBV^T)^{-1}+A^{-1}U(B^{-1}+V^TA^{-1}U)^{-1}V^TA\n",
    "$$ \n",
    "\n",
    "First, note that\n",
    "$$\n",
    "    U+UBV^TA^{-1}U=UB(B^{-1}+V^TA^{-1}U)=(A+UBV^T)A^{-1}U\n",
    "$$\n",
    "since $A,B$ is non-singular. Thus,\n",
    "$$\n",
    "    (A+UBV^T)^{-1}UB=A^{-1}U(B^{-1}+V^TA^{-1}U)^{-1}\n",
    "$$\n",
    "Hence,\n",
    "\\begin{align}\n",
    "A^{-1}&=(A+UBV^T)^{-1}(A+UBV^T)A^{-1}\\\\\n",
    "&=(A+UBV^T)^{-1}(I+UBV^TA)\\\\\n",
    "&=(A+UBV^T)^{-1}+\\left[(A+UBV^T)UB\\right]V^{T}A\\\\\n",
    "&=_{\\text{see above}}(A+UBV^T)^{-1}+A^{-1}U(B^{-1}+V^TA^{-1}U)^{-1}V^TA\n",
    "\\end{align}\n",
    "\n",
    "4. **Determinant Formula**\n",
    "\n",
    "WLOG, suppose $A\\in\\mathbb{R}^{n\\times n}$ and $U,V^T\\in\\mathbb{R}^{n\\times m}$. Then is it enough to show\n",
    "\n",
    "\\begin{align}\\tag{*}\n",
    "\\det|I_m+V^TA^{-1}U|=\\det|I_n+A^{-1}UV^{T}|\n",
    "\\end{align}\n",
    "\n",
    "Then \n",
    "$$\n",
    "\\det|A|\\det|I_m+V^TA^{-1}U|=\\det|A\\left(I_n+A^{-1}UV^T\\right)|=\\det|A+UV^T|\n",
    "$$\n",
    "But (*) follows from a lemma in **Biostat 250A**:\n",
    "$$\n",
    "\\det|I_m+AB|=\\det|I_n+BA|\n",
    "$$\n",
    "The proof is shown below.\n",
    "\\begin{align}\n",
    "\\det|I+AB|&=\\det\\left|\\left(\\begin{matrix}I+AB&A\\\\\n",
    "0&I\\end{matrix}\\right)\\right|\\\\\n",
    "&=\\det\\left|\\left(\\begin{matrix}I&A\\\\\n",
    "-B&I\\end{matrix}\\right)\\left(\\begin{matrix}I&0\\\\\n",
    "B&I\\end{matrix}\\right)\\right|\\\\\n",
    "&=\\det\\left|\\left(\\begin{matrix}I&0\\\\\n",
    "B&I\\end{matrix}\\right)\\left(\\begin{matrix}I&A\\\\\n",
    "-B&I\\end{matrix}\\right)\\right|\\\\\n",
    "&=\\det\\left|\\left(\\begin{matrix}I&A\\\\\n",
    "0&I+BA\\end{matrix}\\right)\\right|\\\\\n",
    "&=\\det|I+BA|\n",
    "\\end{align}"
   ]
  },
  {
   "cell_type": "markdown",
   "metadata": {},
   "source": [
    "## Q6\n",
    "\n",
    "Demonstrate the following facts about triangular matrices in Julia (one example for each fact). Mathematically curious ones are also encouraged to prove them. \n",
    "\n",
    "Note a unit triangular matrix is a triangular matrix with all diagonal entries being 1.\n",
    "\n",
    "1. The product of two upper (lower) triangular matrices is upper (lower) triangular.\n",
    "\n",
    "2. The inverse of an upper (lower) triangular matrix is upper (lower) triangular.\n",
    "\n",
    "3. The product of two unit upper (lower) triangular matrices is unit upper (lower) triangular.\n",
    "\n",
    "4. The inverse of a unit upper (lower) triangular matrix is unit upper (lower) triangular.\n",
    "\n",
    "5. An orthogonal upper (lower) triangular matrix is diagonal."
   ]
  },
  {
   "cell_type": "markdown",
   "metadata": {},
   "source": [
    "## Sol Q6"
   ]
  },
  {
   "cell_type": "code",
   "execution_count": 16,
   "metadata": {},
   "outputs": [],
   "source": [
    "using LinearAlgebra"
   ]
  },
  {
   "cell_type": "markdown",
   "metadata": {},
   "source": [
    "1."
   ]
  },
  {
   "cell_type": "code",
   "execution_count": 17,
   "metadata": {},
   "outputs": [
    {
     "data": {
      "text/plain": [
       "5×5 UpperTriangular{Float64, Matrix{Float64}}:\n",
       " -0.238221  0.322963  -0.517434  -0.61059   -0.631303\n",
       "   ⋅        1.37326    0.428111  -1.54666    0.306924\n",
       "   ⋅         ⋅        -1.47204   -0.157649   0.0192221\n",
       "   ⋅         ⋅          ⋅        -1.57835   -0.481792\n",
       "   ⋅         ⋅          ⋅          ⋅        -0.478032"
      ]
     },
     "execution_count": 17,
     "metadata": {},
     "output_type": "execute_result"
    }
   ],
   "source": [
    "upp1 = UpperTriangular(randn(5,5))"
   ]
  },
  {
   "cell_type": "code",
   "execution_count": 18,
   "metadata": {},
   "outputs": [
    {
     "data": {
      "text/plain": [
       "5×5 UpperTriangular{Float64, Matrix{Float64}}:\n",
       " -0.664324  0.830531  -2.20172     0.853198  -1.32726\n",
       "   ⋅        1.49601    0.0240794  -0.237516   0.49263\n",
       "   ⋅         ⋅         0.869765    0.572846   0.72787\n",
       "   ⋅         ⋅          ⋅         -1.35908    0.298287\n",
       "   ⋅         ⋅          ⋅           ⋅        -0.902357"
      ]
     },
     "execution_count": 18,
     "metadata": {},
     "output_type": "execute_result"
    }
   ],
   "source": [
    "upp2 = UpperTriangular(randn(5,5))"
   ]
  },
  {
   "cell_type": "code",
   "execution_count": 19,
   "metadata": {},
   "outputs": [
    {
     "data": {
      "text/plain": [
       "5×5 UpperTriangular{Float64, Matrix{Float64}}:\n",
       " 0.158256  0.285307   0.0822264   0.253475   0.486187\n",
       "  ⋅        2.0544     0.405423    2.02111    0.249813\n",
       "  ⋅         ⋅        -1.28033    -0.628993  -1.13582\n",
       "  ⋅         ⋅          ⋅          2.14511   -0.0360538\n",
       "  ⋅         ⋅          ⋅           ⋅         0.431356"
      ]
     },
     "execution_count": 19,
     "metadata": {},
     "output_type": "execute_result"
    }
   ],
   "source": [
    "upp1 * upp2"
   ]
  },
  {
   "cell_type": "markdown",
   "metadata": {},
   "source": [
    "2."
   ]
  },
  {
   "cell_type": "code",
   "execution_count": 20,
   "metadata": {},
   "outputs": [
    {
     "data": {
      "text/plain": [
       "5×5 UpperTriangular{Float64, Matrix{Float64}}:\n",
       " -4.19779  0.98724    1.76267    0.480454   5.76423\n",
       "   ⋅       0.728197   0.21178   -0.734727   1.21656\n",
       "   ⋅        ⋅        -0.679329   0.067853  -0.095703\n",
       "   ⋅        ⋅          ⋅        -0.633573   0.638555\n",
       "   ⋅        ⋅          ⋅          ⋅        -2.09191"
      ]
     },
     "execution_count": 20,
     "metadata": {},
     "output_type": "execute_result"
    }
   ],
   "source": [
    "inv(upp1)"
   ]
  },
  {
   "cell_type": "markdown",
   "metadata": {},
   "source": [
    "3."
   ]
  },
  {
   "cell_type": "code",
   "execution_count": 21,
   "metadata": {},
   "outputs": [
    {
     "data": {
      "text/plain": [
       "3×3 Matrix{Int64}:\n",
       " 1  0  -8\n",
       " 0  1   0\n",
       " 0  0   1"
      ]
     },
     "execution_count": 21,
     "metadata": {},
     "output_type": "execute_result"
    }
   ],
   "source": [
    "unit_upp1 = [1 2 3; 0 1 4; 0 0 1]\n",
    "unit_upp2 = [1 -2 -3; 0 1 -4; 0 0 1]\n",
    "unit_upp1 * unit_upp2"
   ]
  },
  {
   "cell_type": "markdown",
   "metadata": {},
   "source": [
    "4."
   ]
  },
  {
   "cell_type": "code",
   "execution_count": 22,
   "metadata": {},
   "outputs": [
    {
     "data": {
      "text/plain": [
       "3×3 Matrix{Float64}:\n",
       " 1.0  -2.0   5.0\n",
       " 0.0   1.0  -4.0\n",
       " 0.0   0.0   1.0"
      ]
     },
     "execution_count": 22,
     "metadata": {},
     "output_type": "execute_result"
    }
   ],
   "source": [
    "inv(unit_upp1)"
   ]
  },
  {
   "cell_type": "markdown",
   "metadata": {},
   "source": [
    "5. I will prove the easiest case, i,e, the matrix is $2\\times 2$. Assume $A$ is orthogonal and\n",
    "$$A=\\left(\\begin{matrix}a&b\\\\\n",
    "c&0\\end{matrix}\\right)$$\n",
    "Then\n",
    "$$A^TA=\\left(\\begin{matrix}a^2+b^2&bc\\\\\n",
    "bc&c^2\\end{matrix}\\right)=I$$\n",
    "Hence,\n",
    "$$c=\\pm1, b=0\\text{ and }a=\\pm1$$\n",
    "which means $A$ is diagonal."
   ]
  }
 ],
 "metadata": {
  "kernelspec": {
   "display_name": "Julia 1.6.0",
   "language": "julia",
   "name": "julia-1.6"
  },
  "language_info": {
   "file_extension": ".jl",
   "mimetype": "application/julia",
   "name": "julia",
   "version": "1.6.0"
  },
  "toc": {
   "colors": {
    "hover_highlight": "#DAA520",
    "running_highlight": "#FF0000",
    "selected_highlight": "#FFD700"
   },
   "moveMenuLeft": true,
   "nav_menu": {
    "height": "153px",
    "width": "252px"
   },
   "navigate_menu": true,
   "number_sections": false,
   "sideBar": true,
   "skip_h1_title": true,
   "threshold": 4,
   "toc_cell": false,
   "toc_section_display": "block",
   "toc_window_display": true,
   "widenNotebook": false
  },
  "toc-autonumbering": false
 },
 "nbformat": 4,
 "nbformat_minor": 4
}
