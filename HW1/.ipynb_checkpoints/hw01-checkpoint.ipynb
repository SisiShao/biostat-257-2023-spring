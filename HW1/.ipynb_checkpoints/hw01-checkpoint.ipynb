{
 "cells": [
  {
   "cell_type": "markdown",
   "metadata": {},
   "source": [
    "# Biostat/Biomath M257 Homework 1\n",
    "**Subtitle:** Due Apr 14 @ 11:59PM\\\n",
    "**Author:** Sisi Shao 205645669\\\n",
    "**Date:** Apr 10"
   ]
  },
  {
   "cell_type": "markdown",
   "metadata": {},
   "source": [
    "## Q1\n",
    "\n",
    "**No handwritten homework reports are accepted for this course.**  We work with Git/GitHub.  Efficient and abundant use of Git, e.g., **frequent and well-documented** commits, is an important criterion for grading your homework.\n",
    "\n",
    "1. If you don't have a GitHub account, apply for the [Student Developer Pack](https://education.github.com/pack) at GitHub using your UCLA email.\n",
    "\n",
    "2. Create a **private** repository `biostat-257-2023-spring` and add `Hua-Zhou` and `parsajamshidian` (TA) as your collaborators.\n",
    "\n",
    "3. Top directories of the repository should be `hw1`, `hw2`, ... You may create other branches for developing your homework solutions; but the `master` branch will be your presentation area. Put your homework submission files (Jupyter notebook `.ipynb`, html converted from notebook, all code and data set to reproduce results) in the `master` branch. \n",
    "\n",
    "4. After each homework due date, teaching assistant and instructor will check out your `master` branch for grading. Tag each of your homework submissions with tag names `hw1`, `hw2`, ...  Tagging time will be used as your submission time. That means if you tag your hw1 submission after deadline, penalty points will be deducted for late submission.  \n",
    "\n",
    "5. Read the [style guide](https://github.com/invenia/BlueStyle) for Julia programming. Following rules in the style guide will be strictly enforced when grading: (1) four space indenting rule, (2) 92 charcter rule, (3) space after comma rule, (4) no space before comma rule, (5) space around binary operator rule."
   ]
  },
  {
   "cell_type": "markdown",
   "metadata": {},
   "source": [
    "## Q2\n",
    "\n",
    "Let's check whether floating-point numbers obey certain algebraic rules. For 2-5, one counter-example suffices.\n",
    "\n",
    "1. Associative rule for addition says `(x + y) + z == x + (y + z)`. Check association rule using `x = 0.1`, `y = 0.1` and `z = 1.0` in Julia. Explain what you find.\n",
    "\n",
    "2. Do floating-point numbers obey the associative rule for multiplication: `(x * y) * z == x * (y * z)`?\n",
    "\n",
    "3. Do floating-point numbers obey the distributive rule: `a * (x + y) == a * x + a * y`?  \n",
    "\n",
    "4. Is `0 * x == 0` true for all floating-point number `x`? \n",
    "\n",
    "5. Is `x / a == x * (1 / a)` always true?"
   ]
  },
  {
   "cell_type": "markdown",
   "metadata": {},
   "source": [
    "## Q2 Answers\n",
    "\n",
    "- 1"
   ]
  },
  {
   "cell_type": "code",
   "execution_count": 7,
   "metadata": {},
   "outputs": [
    {
     "data": {
      "text/plain": [
       "false"
      ]
     },
     "execution_count": 7,
     "metadata": {},
     "output_type": "execute_result"
    }
   ],
   "source": [
    "x = y = 0.1; z = 1.0;\n",
    "(x + y) + z == x + (y + z)"
   ]
  },
  {
   "cell_type": "markdown",
   "metadata": {},
   "source": [
    "The association rule doesn't hold due to round off of floating point numbers."
   ]
  },
  {
   "cell_type": "markdown",
   "metadata": {},
   "source": [
    "- 2"
   ]
  },
  {
   "cell_type": "code",
   "execution_count": 10,
   "metadata": {},
   "outputs": [
    {
     "data": {
      "text/plain": [
       "false"
      ]
     },
     "execution_count": 10,
     "metadata": {},
     "output_type": "execute_result"
    }
   ],
   "source": [
    "x=1.2;y=0.1;z=12;\n",
    "(x * y) * z == x * (y * z)"
   ]
  },
  {
   "cell_type": "markdown",
   "metadata": {},
   "source": [
    "The associative rule doesn't hold due to round off of floating point numbers."
   ]
  },
  {
   "cell_type": "markdown",
   "metadata": {},
   "source": [
    "- 3"
   ]
  },
  {
   "cell_type": "code",
   "execution_count": 12,
   "metadata": {},
   "outputs": [
    {
     "data": {
      "text/plain": [
       "false"
      ]
     },
     "execution_count": 12,
     "metadata": {},
     "output_type": "execute_result"
    }
   ],
   "source": [
    "a=1.2;x=1.0;y=0.1;\n",
    "a * (x + y) == a * x + a * y"
   ]
  },
  {
   "cell_type": "markdown",
   "metadata": {},
   "source": [
    "The distributive rule doesn't hold due to round off of floating point numbers."
   ]
  },
  {
   "cell_type": "markdown",
   "metadata": {},
   "source": [
    "- 4"
   ]
  },
  {
   "cell_type": "code",
   "execution_count": 13,
   "metadata": {},
   "outputs": [
    {
     "data": {
      "text/plain": [
       "false"
      ]
     },
     "execution_count": 13,
     "metadata": {},
     "output_type": "execute_result"
    }
   ],
   "source": [
    "x = Inf\n",
    "0*x==0"
   ]
  },
  {
   "cell_type": "markdown",
   "metadata": {},
   "source": [
    " `0 * x == 0` not true for all floating-point number `x`"
   ]
  },
  {
   "cell_type": "markdown",
   "metadata": {},
   "source": [
    "- 5"
   ]
  },
  {
   "cell_type": "code",
   "execution_count": 17,
   "metadata": {},
   "outputs": [
    {
     "data": {
      "text/plain": [
       "false"
      ]
     },
     "execution_count": 17,
     "metadata": {},
     "output_type": "execute_result"
    }
   ],
   "source": [
    "x = 1e-12; a = 1e38;\n",
    "x / a == x * (1 / a)"
   ]
  },
  {
   "cell_type": "markdown",
   "metadata": {},
   "source": [
    "`x / a == x * (1 / a)` not always true"
   ]
  },
  {
   "cell_type": "markdown",
   "metadata": {},
   "source": [
    "## Q3\n",
    "\n",
    "Consider Julia function\n",
    "```julia\n",
    "function g(k)\n",
    "    for i in 1:10\n",
    "        k = 5k - 1\n",
    "    end\n",
    "    k\n",
    "end\n",
    "```\n",
    "1. Use `@code_llvm` to find the LLVM bitcode of compiled `g` with `Int64` input.   \n",
    "2. Use `@code_llvm` to find the LLVM bitcode of compiled `g` with `Float64` input.  \n",
    "3. Compare the bitcode from questions 1 and 2. What do you find?  \n",
    "4. Read Julia documentation on `@fastmath` and repeat the questions 1-3 on the function  \n",
    "\n",
    "```julia\n",
    "function g_fastmath(k)  \n",
    "    @fastmath for i in 1:10  \n",
    "        k = 5k - 1\n",
    "    end\n",
    "    k\n",
    "end\n",
    "```\n",
    "Explain what does the macro `@fastmath` do? And why are the bitcodes for `g` and `g_fastmath` with `Float64` input different? (Hint: Q2)"
   ]
  },
  {
   "cell_type": "markdown",
   "metadata": {},
   "source": [
    "- 1"
   ]
  },
  {
   "cell_type": "code",
   "execution_count": 24,
   "metadata": {},
   "outputs": [
    {
     "name": "stdout",
     "output_type": "stream",
     "text": [
      "\u001b[90m;  @ In[23]:1 within `g`\u001b[39m\n",
      "\u001b[95mdefine\u001b[39m \u001b[36mi64\u001b[39m \u001b[93m@julia_g_5516\u001b[39m\u001b[33m(\u001b[39m\u001b[36mi64\u001b[39m \u001b[95msignext\u001b[39m \u001b[0m%0\u001b[33m)\u001b[39m \u001b[0m#0 \u001b[33m{\u001b[39m\n",
      "\u001b[91mtop:\u001b[39m\n",
      "\u001b[90m;  @ In[23]:3 within `g`\u001b[39m\n",
      "\u001b[90m; ┌ @ int.jl:88 within `*`\u001b[39m\n",
      "   \u001b[0m%1 \u001b[0m= \u001b[96m\u001b[1mmul\u001b[22m\u001b[39m \u001b[36mi64\u001b[39m \u001b[0m%0\u001b[0m, \u001b[33m9765625\u001b[39m\n",
      "\u001b[90m; └\u001b[39m\n",
      "\u001b[90m; ┌ @ int.jl:86 within `-`\u001b[39m\n",
      "   \u001b[0m%2 \u001b[0m= \u001b[96m\u001b[1madd\u001b[22m\u001b[39m \u001b[36mi64\u001b[39m \u001b[0m%1\u001b[0m, \u001b[33m-2441406\u001b[39m\n",
      "\u001b[90m; └\u001b[39m\n",
      "\u001b[90m;  @ In[23]:5 within `g`\u001b[39m\n",
      "  \u001b[96m\u001b[1mret\u001b[22m\u001b[39m \u001b[36mi64\u001b[39m \u001b[0m%2\n",
      "\u001b[33m}\u001b[39m\n"
     ]
    }
   ],
   "source": [
    "function g(k)\n",
    "    for i in 1:10\n",
    "        k = 5k - 1\n",
    "    end\n",
    "    k\n",
    "end\n",
    "@code_llvm g(1)"
   ]
  },
  {
   "cell_type": "markdown",
   "metadata": {},
   "source": [
    "- 2"
   ]
  },
  {
   "cell_type": "code",
   "execution_count": 25,
   "metadata": {},
   "outputs": [
    {
     "name": "stdout",
     "output_type": "stream",
     "text": [
      "\u001b[90m;  @ In[23]:1 within `g`\u001b[39m\n",
      "\u001b[95mdefine\u001b[39m \u001b[36mdouble\u001b[39m \u001b[93m@julia_g_5539\u001b[39m\u001b[33m(\u001b[39m\u001b[36mdouble\u001b[39m \u001b[0m%0\u001b[33m)\u001b[39m \u001b[0m#0 \u001b[33m{\u001b[39m\n",
      "\u001b[91mtop:\u001b[39m\n",
      "\u001b[90m;  @ In[23]:3 within `g`\u001b[39m\n",
      "\u001b[90m; ┌ @ promotion.jl:389 within `*` @ float.jl:385\u001b[39m\n",
      "   \u001b[0m%1 \u001b[0m= \u001b[96m\u001b[1mfmul\u001b[22m\u001b[39m \u001b[36mdouble\u001b[39m \u001b[0m%0\u001b[0m, \u001b[33m5.000000e+00\u001b[39m\n",
      "\u001b[90m; └\u001b[39m\n",
      "\u001b[90m; ┌ @ promotion.jl:390 within `-` @ float.jl:384\u001b[39m\n",
      "   \u001b[0m%2 \u001b[0m= \u001b[96m\u001b[1mfadd\u001b[22m\u001b[39m \u001b[36mdouble\u001b[39m \u001b[0m%1\u001b[0m, \u001b[33m-1.000000e+00\u001b[39m\n",
      "\u001b[90m; └\u001b[39m\n",
      "\u001b[90m; ┌ @ promotion.jl:389 within `*` @ float.jl:385\u001b[39m\n",
      "   \u001b[0m%3 \u001b[0m= \u001b[96m\u001b[1mfmul\u001b[22m\u001b[39m \u001b[36mdouble\u001b[39m \u001b[0m%2\u001b[0m, \u001b[33m5.000000e+00\u001b[39m\n",
      "\u001b[90m; └\u001b[39m\n",
      "\u001b[90m; ┌ @ promotion.jl:390 within `-` @ float.jl:384\u001b[39m\n",
      "   \u001b[0m%4 \u001b[0m= \u001b[96m\u001b[1mfadd\u001b[22m\u001b[39m \u001b[36mdouble\u001b[39m \u001b[0m%3\u001b[0m, \u001b[33m-1.000000e+00\u001b[39m\n",
      "\u001b[90m; └\u001b[39m\n",
      "\u001b[90m; ┌ @ promotion.jl:389 within `*` @ float.jl:385\u001b[39m\n",
      "   \u001b[0m%5 \u001b[0m= \u001b[96m\u001b[1mfmul\u001b[22m\u001b[39m \u001b[36mdouble\u001b[39m \u001b[0m%4\u001b[0m, \u001b[33m5.000000e+00\u001b[39m\n",
      "\u001b[90m; └\u001b[39m\n",
      "\u001b[90m; ┌ @ promotion.jl:390 within `-` @ float.jl:384\u001b[39m\n",
      "   \u001b[0m%6 \u001b[0m= \u001b[96m\u001b[1mfadd\u001b[22m\u001b[39m \u001b[36mdouble\u001b[39m \u001b[0m%5\u001b[0m, \u001b[33m-1.000000e+00\u001b[39m\n",
      "\u001b[90m; └\u001b[39m\n",
      "\u001b[90m; ┌ @ promotion.jl:389 within `*` @ float.jl:385\u001b[39m\n",
      "   \u001b[0m%7 \u001b[0m= \u001b[96m\u001b[1mfmul\u001b[22m\u001b[39m \u001b[36mdouble\u001b[39m \u001b[0m%6\u001b[0m, \u001b[33m5.000000e+00\u001b[39m\n",
      "\u001b[90m; └\u001b[39m\n",
      "\u001b[90m; ┌ @ promotion.jl:390 within `-` @ float.jl:384\u001b[39m\n",
      "   \u001b[0m%8 \u001b[0m= \u001b[96m\u001b[1mfadd\u001b[22m\u001b[39m \u001b[36mdouble\u001b[39m \u001b[0m%7\u001b[0m, \u001b[33m-1.000000e+00\u001b[39m\n",
      "\u001b[90m; └\u001b[39m\n",
      "\u001b[90m; ┌ @ promotion.jl:389 within `*` @ float.jl:385\u001b[39m\n",
      "   \u001b[0m%9 \u001b[0m= \u001b[96m\u001b[1mfmul\u001b[22m\u001b[39m \u001b[36mdouble\u001b[39m \u001b[0m%8\u001b[0m, \u001b[33m5.000000e+00\u001b[39m\n",
      "\u001b[90m; └\u001b[39m\n",
      "\u001b[90m; ┌ @ promotion.jl:390 within `-` @ float.jl:384\u001b[39m\n",
      "   \u001b[0m%10 \u001b[0m= \u001b[96m\u001b[1mfadd\u001b[22m\u001b[39m \u001b[36mdouble\u001b[39m \u001b[0m%9\u001b[0m, \u001b[33m-1.000000e+00\u001b[39m\n",
      "\u001b[90m; └\u001b[39m\n",
      "\u001b[90m; ┌ @ promotion.jl:389 within `*` @ float.jl:385\u001b[39m\n",
      "   \u001b[0m%11 \u001b[0m= \u001b[96m\u001b[1mfmul\u001b[22m\u001b[39m \u001b[36mdouble\u001b[39m \u001b[0m%10\u001b[0m, \u001b[33m5.000000e+00\u001b[39m\n",
      "\u001b[90m; └\u001b[39m\n",
      "\u001b[90m; ┌ @ promotion.jl:390 within `-` @ float.jl:384\u001b[39m\n",
      "   \u001b[0m%12 \u001b[0m= \u001b[96m\u001b[1mfadd\u001b[22m\u001b[39m \u001b[36mdouble\u001b[39m \u001b[0m%11\u001b[0m, \u001b[33m-1.000000e+00\u001b[39m\n",
      "\u001b[90m; └\u001b[39m\n",
      "\u001b[90m; ┌ @ promotion.jl:389 within `*` @ float.jl:385\u001b[39m\n",
      "   \u001b[0m%13 \u001b[0m= \u001b[96m\u001b[1mfmul\u001b[22m\u001b[39m \u001b[36mdouble\u001b[39m \u001b[0m%12\u001b[0m, \u001b[33m5.000000e+00\u001b[39m\n",
      "\u001b[90m; └\u001b[39m\n",
      "\u001b[90m; ┌ @ promotion.jl:390 within `-` @ float.jl:384\u001b[39m\n",
      "   \u001b[0m%14 \u001b[0m= \u001b[96m\u001b[1mfadd\u001b[22m\u001b[39m \u001b[36mdouble\u001b[39m \u001b[0m%13\u001b[0m, \u001b[33m-1.000000e+00\u001b[39m\n",
      "\u001b[90m; └\u001b[39m\n",
      "\u001b[90m; ┌ @ promotion.jl:389 within `*` @ float.jl:385\u001b[39m\n",
      "   \u001b[0m%15 \u001b[0m= \u001b[96m\u001b[1mfmul\u001b[22m\u001b[39m \u001b[36mdouble\u001b[39m \u001b[0m%14\u001b[0m, \u001b[33m5.000000e+00\u001b[39m\n",
      "\u001b[90m; └\u001b[39m\n",
      "\u001b[90m; ┌ @ promotion.jl:390 within `-` @ float.jl:384\u001b[39m\n",
      "   \u001b[0m%16 \u001b[0m= \u001b[96m\u001b[1mfadd\u001b[22m\u001b[39m \u001b[36mdouble\u001b[39m \u001b[0m%15\u001b[0m, \u001b[33m-1.000000e+00\u001b[39m\n",
      "\u001b[90m; └\u001b[39m\n",
      "\u001b[90m; ┌ @ promotion.jl:389 within `*` @ float.jl:385\u001b[39m\n",
      "   \u001b[0m%17 \u001b[0m= \u001b[96m\u001b[1mfmul\u001b[22m\u001b[39m \u001b[36mdouble\u001b[39m \u001b[0m%16\u001b[0m, \u001b[33m5.000000e+00\u001b[39m\n",
      "\u001b[90m; └\u001b[39m\n",
      "\u001b[90m; ┌ @ promotion.jl:390 within `-` @ float.jl:384\u001b[39m\n",
      "   \u001b[0m%18 \u001b[0m= \u001b[96m\u001b[1mfadd\u001b[22m\u001b[39m \u001b[36mdouble\u001b[39m \u001b[0m%17\u001b[0m, \u001b[33m-1.000000e+00\u001b[39m\n",
      "\u001b[90m; └\u001b[39m\n",
      "\u001b[90m; ┌ @ promotion.jl:389 within `*` @ float.jl:385\u001b[39m\n",
      "   \u001b[0m%19 \u001b[0m= \u001b[96m\u001b[1mfmul\u001b[22m\u001b[39m \u001b[36mdouble\u001b[39m \u001b[0m%18\u001b[0m, \u001b[33m5.000000e+00\u001b[39m\n",
      "\u001b[90m; └\u001b[39m\n",
      "\u001b[90m; ┌ @ promotion.jl:390 within `-` @ float.jl:384\u001b[39m\n",
      "   \u001b[0m%20 \u001b[0m= \u001b[96m\u001b[1mfadd\u001b[22m\u001b[39m \u001b[36mdouble\u001b[39m \u001b[0m%19\u001b[0m, \u001b[33m-1.000000e+00\u001b[39m\n",
      "\u001b[90m; └\u001b[39m\n",
      "\u001b[90m;  @ In[23]:5 within `g`\u001b[39m\n",
      "  \u001b[96m\u001b[1mret\u001b[22m\u001b[39m \u001b[36mdouble\u001b[39m \u001b[0m%20\n",
      "\u001b[33m}\u001b[39m\n"
     ]
    }
   ],
   "source": [
    "@code_llvm g(1.0)"
   ]
  },
  {
   "cell_type": "markdown",
   "metadata": {},
   "source": [
    "- 3"
   ]
  },
  {
   "cell_type": "markdown",
   "metadata": {},
   "source": [
    "The LLVM bitcode generated by @code_llvm for the g function with Int64 and Float64 inputs are different. The LLVM bitcode for g with Int64 input involves only integer operations, while the LLVM bitcode for g with Float64 input involves floating-point operations. This is because the * and - operators used in the loop of the g function are interpreted differently for Int64 and Float64 inputs, and the corresponding LLVM bitcode reflects those differences."
   ]
  },
  {
   "cell_type": "markdown",
   "metadata": {},
   "source": [
    "- 4"
   ]
  },
  {
   "cell_type": "code",
   "execution_count": 26,
   "metadata": {},
   "outputs": [
    {
     "data": {
      "text/plain": [
       "g_fastmath (generic function with 1 method)"
      ]
     },
     "execution_count": 26,
     "metadata": {},
     "output_type": "execute_result"
    }
   ],
   "source": [
    "function g_fastmath(k)  \n",
    "    @fastmath for i in 1:10  \n",
    "        k = 5k - 1\n",
    "    end\n",
    "    k\n",
    "end"
   ]
  },
  {
   "cell_type": "code",
   "execution_count": 28,
   "metadata": {},
   "outputs": [
    {
     "name": "stdout",
     "output_type": "stream",
     "text": [
      "\u001b[90m;  @ In[26]:1 within `g_fastmath`\u001b[39m\n",
      "\u001b[95mdefine\u001b[39m \u001b[36mi64\u001b[39m \u001b[93m@julia_g_fastmath_5595\u001b[39m\u001b[33m(\u001b[39m\u001b[36mi64\u001b[39m \u001b[95msignext\u001b[39m \u001b[0m%0\u001b[33m)\u001b[39m \u001b[0m#0 \u001b[33m{\u001b[39m\n",
      "\u001b[91mtop:\u001b[39m\n",
      "\u001b[90m;  @ In[26]:3 within `g_fastmath`\u001b[39m\n",
      "\u001b[90m; ┌ @ fastmath.jl:270 within `mul_fast`\u001b[39m\n",
      "\u001b[90m; │┌ @ int.jl:88 within `*`\u001b[39m\n",
      "    \u001b[0m%1 \u001b[0m= \u001b[96m\u001b[1mmul\u001b[22m\u001b[39m \u001b[36mi64\u001b[39m \u001b[0m%0\u001b[0m, \u001b[33m9765625\u001b[39m\n",
      "\u001b[90m; └└\u001b[39m\n",
      "\u001b[90m; ┌ @ fastmath.jl:270 within `sub_fast`\u001b[39m\n",
      "\u001b[90m; │┌ @ int.jl:86 within `-`\u001b[39m\n",
      "    \u001b[0m%2 \u001b[0m= \u001b[96m\u001b[1madd\u001b[22m\u001b[39m \u001b[36mi64\u001b[39m \u001b[0m%1\u001b[0m, \u001b[33m-2441406\u001b[39m\n",
      "\u001b[90m; └└\u001b[39m\n",
      "\u001b[90m;  @ In[26]:5 within `g_fastmath`\u001b[39m\n",
      "  \u001b[96m\u001b[1mret\u001b[22m\u001b[39m \u001b[36mi64\u001b[39m \u001b[0m%2\n",
      "\u001b[33m}\u001b[39m\n"
     ]
    }
   ],
   "source": [
    "@code_llvm g_fastmath(1)  "
   ]
  },
  {
   "cell_type": "code",
   "execution_count": 29,
   "metadata": {},
   "outputs": [
    {
     "name": "stdout",
     "output_type": "stream",
     "text": [
      "\u001b[90m;  @ In[26]:1 within `g_fastmath`\u001b[39m\n",
      "\u001b[95mdefine\u001b[39m \u001b[36mdouble\u001b[39m \u001b[93m@julia_g_fastmath_5597\u001b[39m\u001b[33m(\u001b[39m\u001b[36mdouble\u001b[39m \u001b[0m%0\u001b[33m)\u001b[39m \u001b[0m#0 \u001b[33m{\u001b[39m\n",
      "\u001b[91mtop:\u001b[39m\n",
      "\u001b[90m;  @ In[26]:3 within `g_fastmath`\u001b[39m\n",
      "\u001b[90m; ┌ @ fastmath.jl:267 within `mul_fast` @ fastmath.jl:167\u001b[39m\n",
      "   \u001b[0m%1 \u001b[0m= \u001b[96m\u001b[1mfmul\u001b[22m\u001b[39m \u001b[95mfast\u001b[39m \u001b[36mdouble\u001b[39m \u001b[0m%0\u001b[0m, \u001b[33m0x4162A05F20000000\u001b[39m\n",
      "\u001b[90m; └\u001b[39m\n",
      "\u001b[90m; ┌ @ fastmath.jl:267 within `sub_fast` @ fastmath.jl:166\u001b[39m\n",
      "   \u001b[0m%2 \u001b[0m= \u001b[96m\u001b[1mfadd\u001b[22m\u001b[39m \u001b[95mfast\u001b[39m \u001b[36mdouble\u001b[39m \u001b[0m%1\u001b[0m, \u001b[33m0xC142A05F00000000\u001b[39m\n",
      "\u001b[90m; └\u001b[39m\n",
      "\u001b[90m;  @ In[26]:5 within `g_fastmath`\u001b[39m\n",
      "  \u001b[96m\u001b[1mret\u001b[22m\u001b[39m \u001b[36mdouble\u001b[39m \u001b[0m%2\n",
      "\u001b[33m}\u001b[39m\n"
     ]
    }
   ],
   "source": [
    "@code_llvm g_fastmath(1.0)  "
   ]
  },
  {
   "cell_type": "markdown",
   "metadata": {},
   "source": [
    "The @fastmath macro in Julia allows the compiler to perform certain floating-point operations in a way that may not strictly follow the IEEE 754 standard, but can result in faster code. Specifically, the @fastmath macro allows the compiler to:\n",
    "\n",
    "Reorder floating-point operations that are not data-dependent.\n",
    "Eliminate NaN (not a number) and infinity checks.\n",
    "Replace some functions with faster, but potentially less accurate approximations.\n",
    "Assume that floating-point arithmetic is associative and distributive."
   ]
  },
  {
   "cell_type": "markdown",
   "metadata": {},
   "source": [
    "*Note that the @fastmath macro only affects floating-point operations, and has no effect on integer operations.*"
   ]
  },
  {
   "cell_type": "markdown",
   "metadata": {},
   "source": [
    "## Q4\n",
    "\n",
    "Create the vector `x = (0.988, 0.989, 0.990, ..., 1.010, 1.011, 1.012)`.   \n",
    "\n",
    "1. Plot the polynomial `y = x^7 - 7x^6 + 21x^5 - 35x^4 + 35x^3 - 21x^2 + 7x - 1` at points `x`.  \n",
    "\n",
    "2. Plot the polynomial `y = (x - 1)^7` at points `x`.  \n",
    "\n",
    "3. Explain what you found."
   ]
  },
  {
   "cell_type": "code",
   "execution_count": 21,
   "metadata": {},
   "outputs": [
    {
     "data": {
      "text/plain": [
       "1-element Vector{Vector{Float64}}:\n",
       " [-3.583180800000022e-14, -1.9487171000000122e-14, -1.0000000000000062e-14, -4.78296900000003e-15, -2.097152000000013e-15, -8.235430000000051e-16, -2.7993600000000173e-16, -7.812500000000048e-17, -1.63840000000001e-17, -2.1870000000000135e-18  …  2.1869999999994473e-18, 1.63840000000001e-17, 7.812499999998834e-17, 2.7993600000000173e-16, 8.235429999999137e-16, 2.097152000000013e-15, 4.7829689999996165e-15, 1.0000000000000062e-14, 1.9487170999998746e-14, 3.583180800000022e-14]"
      ]
     },
     "execution_count": 21,
     "metadata": {},
     "output_type": "execute_result"
    }
   ],
   "source": [
    "using Plots\n",
    "x = [0.988:0.001:1.012]\n",
    "y1 = map.(x->x^7-7x^6+21x^5-35x^4+35x^3 - 21x^2 + 7x - 1,x)\n",
    "y2 = map.(x->(x - 1)^7,x)"
   ]
  },
  {
   "cell_type": "code",
   "execution_count": 22,
   "metadata": {},
   "outputs": [
    {
     "data": {
      "image/svg+xml": [
       "<?xml version=\"1.0\" encoding=\"utf-8\"?>\n",
       "<svg xmlns=\"http://www.w3.org/2000/svg\" xmlns:xlink=\"http://www.w3.org/1999/xlink\" width=\"600\" height=\"400\" viewBox=\"0 0 2400 1600\">\n",
       "<defs>\n",
       "  <clipPath id=\"clip910\">\n",
       "    <rect x=\"0\" y=\"0\" width=\"2400\" height=\"1600\"/>\n",
       "  </clipPath>\n",
       "</defs>\n",
       "<path clip-path=\"url(#clip910)\" d=\"M0 1600 L2400 1600 L2400 0 L0 0  Z\" fill=\"#ffffff\" fill-rule=\"evenodd\" fill-opacity=\"1\"/>\n",
       "<defs>\n",
       "  <clipPath id=\"clip911\">\n",
       "    <rect x=\"480\" y=\"0\" width=\"1681\" height=\"1600\"/>\n",
       "  </clipPath>\n",
       "</defs>\n",
       "<path clip-path=\"url(#clip910)\" d=\"M369.025 1486.45 L2352.76 1486.45 L2352.76 47.2441 L369.025 47.2441  Z\" fill=\"#ffffff\" fill-rule=\"evenodd\" fill-opacity=\"1\"/>\n",
       "<defs>\n",
       "  <clipPath id=\"clip912\">\n",
       "    <rect x=\"369\" y=\"47\" width=\"1985\" height=\"1440\"/>\n",
       "  </clipPath>\n",
       "</defs>\n",
       "<polyline clip-path=\"url(#clip912)\" style=\"stroke:#000000; stroke-linecap:round; stroke-linejoin:round; stroke-width:2; stroke-opacity:0.1; fill:none\" points=\"581.122,1486.45 581.122,47.2441 \"/>\n",
       "<polyline clip-path=\"url(#clip912)\" style=\"stroke:#000000; stroke-linecap:round; stroke-linejoin:round; stroke-width:2; stroke-opacity:0.1; fill:none\" points=\"971.006,1486.45 971.006,47.2441 \"/>\n",
       "<polyline clip-path=\"url(#clip912)\" style=\"stroke:#000000; stroke-linecap:round; stroke-linejoin:round; stroke-width:2; stroke-opacity:0.1; fill:none\" points=\"1360.89,1486.45 1360.89,47.2441 \"/>\n",
       "<polyline clip-path=\"url(#clip912)\" style=\"stroke:#000000; stroke-linecap:round; stroke-linejoin:round; stroke-width:2; stroke-opacity:0.1; fill:none\" points=\"1750.77,1486.45 1750.77,47.2441 \"/>\n",
       "<polyline clip-path=\"url(#clip912)\" style=\"stroke:#000000; stroke-linecap:round; stroke-linejoin:round; stroke-width:2; stroke-opacity:0.1; fill:none\" points=\"2140.66,1486.45 2140.66,47.2441 \"/>\n",
       "<polyline clip-path=\"url(#clip910)\" style=\"stroke:#000000; stroke-linecap:round; stroke-linejoin:round; stroke-width:4; stroke-opacity:1; fill:none\" points=\"369.025,1486.45 2352.76,1486.45 \"/>\n",
       "<polyline clip-path=\"url(#clip910)\" style=\"stroke:#000000; stroke-linecap:round; stroke-linejoin:round; stroke-width:4; stroke-opacity:1; fill:none\" points=\"581.122,1486.45 581.122,1467.55 \"/>\n",
       "<polyline clip-path=\"url(#clip910)\" style=\"stroke:#000000; stroke-linecap:round; stroke-linejoin:round; stroke-width:4; stroke-opacity:1; fill:none\" points=\"971.006,1486.45 971.006,1467.55 \"/>\n",
       "<polyline clip-path=\"url(#clip910)\" style=\"stroke:#000000; stroke-linecap:round; stroke-linejoin:round; stroke-width:4; stroke-opacity:1; fill:none\" points=\"1360.89,1486.45 1360.89,1467.55 \"/>\n",
       "<polyline clip-path=\"url(#clip910)\" style=\"stroke:#000000; stroke-linecap:round; stroke-linejoin:round; stroke-width:4; stroke-opacity:1; fill:none\" points=\"1750.77,1486.45 1750.77,1467.55 \"/>\n",
       "<polyline clip-path=\"url(#clip910)\" style=\"stroke:#000000; stroke-linecap:round; stroke-linejoin:round; stroke-width:4; stroke-opacity:1; fill:none\" points=\"2140.66,1486.45 2140.66,1467.55 \"/>\n",
       "<path clip-path=\"url(#clip910)\" d=\"M528.344 1517.37 Q524.733 1517.37 522.905 1520.93 Q521.099 1524.47 521.099 1531.6 Q521.099 1538.71 522.905 1542.27 Q524.733 1545.82 528.344 1545.82 Q531.979 1545.82 533.784 1542.27 Q535.613 1538.71 535.613 1531.6 Q535.613 1524.47 533.784 1520.93 Q531.979 1517.37 528.344 1517.37 M528.344 1513.66 Q534.154 1513.66 537.21 1518.27 Q540.289 1522.85 540.289 1531.6 Q540.289 1540.33 537.21 1544.94 Q534.154 1549.52 528.344 1549.52 Q522.534 1549.52 519.455 1544.94 Q516.4 1540.33 516.4 1531.6 Q516.4 1522.85 519.455 1518.27 Q522.534 1513.66 528.344 1513.66 Z\" fill=\"#000000\" fill-rule=\"nonzero\" fill-opacity=\"1\" /><path clip-path=\"url(#clip910)\" d=\"M548.506 1542.97 L553.39 1542.97 L553.39 1548.85 L548.506 1548.85 L548.506 1542.97 Z\" fill=\"#000000\" fill-rule=\"nonzero\" fill-opacity=\"1\" /><path clip-path=\"url(#clip910)\" d=\"M563.714 1548.13 L563.714 1543.87 Q565.474 1544.7 567.279 1545.14 Q569.085 1545.58 570.821 1545.58 Q575.451 1545.58 577.881 1542.48 Q580.335 1539.36 580.682 1533.01 Q579.339 1535.01 577.279 1536.07 Q575.219 1537.13 572.719 1537.13 Q567.534 1537.13 564.502 1534.01 Q561.492 1530.86 561.492 1525.42 Q561.492 1520.1 564.64 1516.88 Q567.789 1513.66 573.02 1513.66 Q579.015 1513.66 582.163 1518.27 Q585.335 1522.85 585.335 1531.6 Q585.335 1539.77 581.446 1544.66 Q577.58 1549.52 571.029 1549.52 Q569.27 1549.52 567.464 1549.17 Q565.659 1548.82 563.714 1548.13 M573.02 1533.48 Q576.168 1533.48 577.997 1531.32 Q579.849 1529.17 579.849 1525.42 Q579.849 1521.7 577.997 1519.54 Q576.168 1517.37 573.02 1517.37 Q569.872 1517.37 568.02 1519.54 Q566.191 1521.7 566.191 1525.42 Q566.191 1529.17 568.02 1531.32 Q569.872 1533.48 573.02 1533.48 Z\" fill=\"#000000\" fill-rule=\"nonzero\" fill-opacity=\"1\" /><path clip-path=\"url(#clip910)\" d=\"M593.876 1548.13 L593.876 1543.87 Q595.636 1544.7 597.441 1545.14 Q599.247 1545.58 600.983 1545.58 Q605.612 1545.58 608.043 1542.48 Q610.497 1539.36 610.844 1533.01 Q609.501 1535.01 607.441 1536.07 Q605.381 1537.13 602.881 1537.13 Q597.696 1537.13 594.663 1534.01 Q591.654 1530.86 591.654 1525.42 Q591.654 1520.1 594.802 1516.88 Q597.95 1513.66 603.182 1513.66 Q609.177 1513.66 612.325 1518.27 Q615.497 1522.85 615.497 1531.6 Q615.497 1539.77 611.608 1544.66 Q607.742 1549.52 601.191 1549.52 Q599.432 1549.52 597.626 1549.17 Q595.821 1548.82 593.876 1548.13 M603.182 1533.48 Q606.33 1533.48 608.159 1531.32 Q610.011 1529.17 610.011 1525.42 Q610.011 1521.7 608.159 1519.54 Q606.33 1517.37 603.182 1517.37 Q600.034 1517.37 598.182 1519.54 Q596.353 1521.7 596.353 1525.42 Q596.353 1529.17 598.182 1531.32 Q600.034 1533.48 603.182 1533.48 Z\" fill=\"#000000\" fill-rule=\"nonzero\" fill-opacity=\"1\" /><path clip-path=\"url(#clip910)\" d=\"M633.899 1517.37 Q630.288 1517.37 628.46 1520.93 Q626.654 1524.47 626.654 1531.6 Q626.654 1538.71 628.46 1542.27 Q630.288 1545.82 633.899 1545.82 Q637.534 1545.82 639.339 1542.27 Q641.168 1538.71 641.168 1531.6 Q641.168 1524.47 639.339 1520.93 Q637.534 1517.37 633.899 1517.37 M633.899 1513.66 Q639.709 1513.66 642.765 1518.27 Q645.844 1522.85 645.844 1531.6 Q645.844 1540.33 642.765 1544.94 Q639.709 1549.52 633.899 1549.52 Q628.089 1549.52 625.01 1544.94 Q621.955 1540.33 621.955 1531.6 Q621.955 1522.85 625.01 1518.27 Q628.089 1513.66 633.899 1513.66 Z\" fill=\"#000000\" fill-rule=\"nonzero\" fill-opacity=\"1\" /><path clip-path=\"url(#clip910)\" d=\"M918.726 1517.37 Q915.115 1517.37 913.286 1520.93 Q911.481 1524.47 911.481 1531.6 Q911.481 1538.71 913.286 1542.27 Q915.115 1545.82 918.726 1545.82 Q922.36 1545.82 924.166 1542.27 Q925.995 1538.71 925.995 1531.6 Q925.995 1524.47 924.166 1520.93 Q922.36 1517.37 918.726 1517.37 M918.726 1513.66 Q924.536 1513.66 927.592 1518.27 Q930.671 1522.85 930.671 1531.6 Q930.671 1540.33 927.592 1544.94 Q924.536 1549.52 918.726 1549.52 Q912.916 1549.52 909.837 1544.94 Q906.782 1540.33 906.782 1531.6 Q906.782 1522.85 909.837 1518.27 Q912.916 1513.66 918.726 1513.66 Z\" fill=\"#000000\" fill-rule=\"nonzero\" fill-opacity=\"1\" /><path clip-path=\"url(#clip910)\" d=\"M938.888 1542.97 L943.772 1542.97 L943.772 1548.85 L938.888 1548.85 L938.888 1542.97 Z\" fill=\"#000000\" fill-rule=\"nonzero\" fill-opacity=\"1\" /><path clip-path=\"url(#clip910)\" d=\"M954.096 1548.13 L954.096 1543.87 Q955.856 1544.7 957.661 1545.14 Q959.467 1545.58 961.203 1545.58 Q965.832 1545.58 968.263 1542.48 Q970.717 1539.36 971.064 1533.01 Q969.721 1535.01 967.661 1536.07 Q965.601 1537.13 963.101 1537.13 Q957.916 1537.13 954.883 1534.01 Q951.874 1530.86 951.874 1525.42 Q951.874 1520.1 955.022 1516.88 Q958.17 1513.66 963.402 1513.66 Q969.397 1513.66 972.545 1518.27 Q975.717 1522.85 975.717 1531.6 Q975.717 1539.77 971.828 1544.66 Q967.962 1549.52 961.411 1549.52 Q959.652 1549.52 957.846 1549.17 Q956.041 1548.82 954.096 1548.13 M963.402 1533.48 Q966.55 1533.48 968.379 1531.32 Q970.231 1529.17 970.231 1525.42 Q970.231 1521.7 968.379 1519.54 Q966.55 1517.37 963.402 1517.37 Q960.254 1517.37 958.402 1519.54 Q956.573 1521.7 956.573 1525.42 Q956.573 1529.17 958.402 1531.32 Q960.254 1533.48 963.402 1533.48 Z\" fill=\"#000000\" fill-rule=\"nonzero\" fill-opacity=\"1\" /><path clip-path=\"url(#clip910)\" d=\"M984.258 1548.13 L984.258 1543.87 Q986.018 1544.7 987.823 1545.14 Q989.629 1545.58 991.365 1545.58 Q995.994 1545.58 998.425 1542.48 Q1000.88 1539.36 1001.23 1533.01 Q999.883 1535.01 997.823 1536.07 Q995.763 1537.13 993.263 1537.13 Q988.078 1537.13 985.045 1534.01 Q982.036 1530.86 982.036 1525.42 Q982.036 1520.1 985.184 1516.88 Q988.332 1513.66 993.564 1513.66 Q999.559 1513.66 1002.71 1518.27 Q1005.88 1522.85 1005.88 1531.6 Q1005.88 1539.77 1001.99 1544.66 Q998.124 1549.52 991.573 1549.52 Q989.814 1549.52 988.008 1549.17 Q986.203 1548.82 984.258 1548.13 M993.564 1533.48 Q996.712 1533.48 998.541 1531.32 Q1000.39 1529.17 1000.39 1525.42 Q1000.39 1521.7 998.541 1519.54 Q996.712 1517.37 993.564 1517.37 Q990.416 1517.37 988.564 1519.54 Q986.735 1521.7 986.735 1525.42 Q986.735 1529.17 988.564 1531.32 Q990.416 1533.48 993.564 1533.48 Z\" fill=\"#000000\" fill-rule=\"nonzero\" fill-opacity=\"1\" /><path clip-path=\"url(#clip910)\" d=\"M1014.33 1514.29 L1032.68 1514.29 L1032.68 1518.22 L1018.61 1518.22 L1018.61 1526.7 Q1019.63 1526.35 1020.65 1526.19 Q1021.67 1526 1022.68 1526 Q1028.47 1526 1031.85 1529.17 Q1035.23 1532.34 1035.23 1537.76 Q1035.23 1543.34 1031.76 1546.44 Q1028.29 1549.52 1021.97 1549.52 Q1019.79 1549.52 1017.52 1549.15 Q1015.28 1548.78 1012.87 1548.04 L1012.87 1543.34 Q1014.95 1544.47 1017.17 1545.03 Q1019.4 1545.58 1021.87 1545.58 Q1025.88 1545.58 1028.22 1543.48 Q1030.55 1541.37 1030.55 1537.76 Q1030.55 1534.15 1028.22 1532.04 Q1025.88 1529.94 1021.87 1529.94 Q1020 1529.94 1018.12 1530.35 Q1016.27 1530.77 1014.33 1531.65 L1014.33 1514.29 Z\" fill=\"#000000\" fill-rule=\"nonzero\" fill-opacity=\"1\" /><path clip-path=\"url(#clip910)\" d=\"M1297.88 1544.91 L1305.52 1544.91 L1305.52 1518.55 L1297.21 1520.21 L1297.21 1515.95 L1305.47 1514.29 L1310.15 1514.29 L1310.15 1544.91 L1317.79 1544.91 L1317.79 1548.85 L1297.88 1548.85 L1297.88 1544.91 Z\" fill=\"#000000\" fill-rule=\"nonzero\" fill-opacity=\"1\" /><path clip-path=\"url(#clip910)\" d=\"M1327.23 1542.97 L1332.12 1542.97 L1332.12 1548.85 L1327.23 1548.85 L1327.23 1542.97 Z\" fill=\"#000000\" fill-rule=\"nonzero\" fill-opacity=\"1\" /><path clip-path=\"url(#clip910)\" d=\"M1352.3 1517.37 Q1348.69 1517.37 1346.86 1520.93 Q1345.06 1524.47 1345.06 1531.6 Q1345.06 1538.71 1346.86 1542.27 Q1348.69 1545.82 1352.3 1545.82 Q1355.94 1545.82 1357.74 1542.27 Q1359.57 1538.71 1359.57 1531.6 Q1359.57 1524.47 1357.74 1520.93 Q1355.94 1517.37 1352.3 1517.37 M1352.3 1513.66 Q1358.11 1513.66 1361.17 1518.27 Q1364.25 1522.85 1364.25 1531.6 Q1364.25 1540.33 1361.17 1544.94 Q1358.11 1549.52 1352.3 1549.52 Q1346.49 1549.52 1343.41 1544.94 Q1340.36 1540.33 1340.36 1531.6 Q1340.36 1522.85 1343.41 1518.27 Q1346.49 1513.66 1352.3 1513.66 Z\" fill=\"#000000\" fill-rule=\"nonzero\" fill-opacity=\"1\" /><path clip-path=\"url(#clip910)\" d=\"M1382.46 1517.37 Q1378.85 1517.37 1377.02 1520.93 Q1375.22 1524.47 1375.22 1531.6 Q1375.22 1538.71 1377.02 1542.27 Q1378.85 1545.82 1382.46 1545.82 Q1386.1 1545.82 1387.9 1542.27 Q1389.73 1538.71 1389.73 1531.6 Q1389.73 1524.47 1387.9 1520.93 Q1386.1 1517.37 1382.46 1517.37 M1382.46 1513.66 Q1388.27 1513.66 1391.33 1518.27 Q1394.41 1522.85 1394.41 1531.6 Q1394.41 1540.33 1391.33 1544.94 Q1388.27 1549.52 1382.46 1549.52 Q1376.65 1549.52 1373.58 1544.94 Q1370.52 1540.33 1370.52 1531.6 Q1370.52 1522.85 1373.58 1518.27 Q1376.65 1513.66 1382.46 1513.66 Z\" fill=\"#000000\" fill-rule=\"nonzero\" fill-opacity=\"1\" /><path clip-path=\"url(#clip910)\" d=\"M1412.63 1517.37 Q1409.02 1517.37 1407.19 1520.93 Q1405.38 1524.47 1405.38 1531.6 Q1405.38 1538.71 1407.19 1542.27 Q1409.02 1545.82 1412.63 1545.82 Q1416.26 1545.82 1418.07 1542.27 Q1419.89 1538.71 1419.89 1531.6 Q1419.89 1524.47 1418.07 1520.93 Q1416.26 1517.37 1412.63 1517.37 M1412.63 1513.66 Q1418.44 1513.66 1421.49 1518.27 Q1424.57 1522.85 1424.57 1531.6 Q1424.57 1540.33 1421.49 1544.94 Q1418.44 1549.52 1412.63 1549.52 Q1406.82 1549.52 1403.74 1544.94 Q1400.68 1540.33 1400.68 1531.6 Q1400.68 1522.85 1403.74 1518.27 Q1406.82 1513.66 1412.63 1513.66 Z\" fill=\"#000000\" fill-rule=\"nonzero\" fill-opacity=\"1\" /><path clip-path=\"url(#clip910)\" d=\"M1688.26 1544.91 L1695.9 1544.91 L1695.9 1518.55 L1687.59 1520.21 L1687.59 1515.95 L1695.86 1514.29 L1700.53 1514.29 L1700.53 1544.91 L1708.17 1544.91 L1708.17 1548.85 L1688.26 1548.85 L1688.26 1544.91 Z\" fill=\"#000000\" fill-rule=\"nonzero\" fill-opacity=\"1\" /><path clip-path=\"url(#clip910)\" d=\"M1717.62 1542.97 L1722.5 1542.97 L1722.5 1548.85 L1717.62 1548.85 L1717.62 1542.97 Z\" fill=\"#000000\" fill-rule=\"nonzero\" fill-opacity=\"1\" /><path clip-path=\"url(#clip910)\" d=\"M1742.68 1517.37 Q1739.07 1517.37 1737.24 1520.93 Q1735.44 1524.47 1735.44 1531.6 Q1735.44 1538.71 1737.24 1542.27 Q1739.07 1545.82 1742.68 1545.82 Q1746.32 1545.82 1748.12 1542.27 Q1749.95 1538.71 1749.95 1531.6 Q1749.95 1524.47 1748.12 1520.93 Q1746.32 1517.37 1742.68 1517.37 M1742.68 1513.66 Q1748.49 1513.66 1751.55 1518.27 Q1754.63 1522.85 1754.63 1531.6 Q1754.63 1540.33 1751.55 1544.94 Q1748.49 1549.52 1742.68 1549.52 Q1736.87 1549.52 1733.8 1544.94 Q1730.74 1540.33 1730.74 1531.6 Q1730.74 1522.85 1733.8 1518.27 Q1736.87 1513.66 1742.68 1513.66 Z\" fill=\"#000000\" fill-rule=\"nonzero\" fill-opacity=\"1\" /><path clip-path=\"url(#clip910)\" d=\"M1772.85 1517.37 Q1769.24 1517.37 1767.41 1520.93 Q1765.6 1524.47 1765.6 1531.6 Q1765.6 1538.71 1767.41 1542.27 Q1769.24 1545.82 1772.85 1545.82 Q1776.48 1545.82 1778.29 1542.27 Q1780.11 1538.71 1780.11 1531.6 Q1780.11 1524.47 1778.29 1520.93 Q1776.48 1517.37 1772.85 1517.37 M1772.85 1513.66 Q1778.66 1513.66 1781.71 1518.27 Q1784.79 1522.85 1784.79 1531.6 Q1784.79 1540.33 1781.71 1544.94 Q1778.66 1549.52 1772.85 1549.52 Q1767.04 1549.52 1763.96 1544.94 Q1760.9 1540.33 1760.9 1531.6 Q1760.9 1522.85 1763.96 1518.27 Q1767.04 1513.66 1772.85 1513.66 Z\" fill=\"#000000\" fill-rule=\"nonzero\" fill-opacity=\"1\" /><path clip-path=\"url(#clip910)\" d=\"M1793.05 1514.29 L1811.41 1514.29 L1811.41 1518.22 L1797.34 1518.22 L1797.34 1526.7 Q1798.36 1526.35 1799.37 1526.19 Q1800.39 1526 1801.41 1526 Q1807.2 1526 1810.58 1529.17 Q1813.96 1532.34 1813.96 1537.76 Q1813.96 1543.34 1810.48 1546.44 Q1807.01 1549.52 1800.69 1549.52 Q1798.52 1549.52 1796.25 1549.15 Q1794 1548.78 1791.6 1548.04 L1791.6 1543.34 Q1793.68 1544.47 1795.9 1545.03 Q1798.12 1545.58 1800.6 1545.58 Q1804.61 1545.58 1806.94 1543.48 Q1809.28 1541.37 1809.28 1537.76 Q1809.28 1534.15 1806.94 1532.04 Q1804.61 1529.94 1800.6 1529.94 Q1798.73 1529.94 1796.85 1530.35 Q1795 1530.77 1793.05 1531.65 L1793.05 1514.29 Z\" fill=\"#000000\" fill-rule=\"nonzero\" fill-opacity=\"1\" /><path clip-path=\"url(#clip910)\" d=\"M2077.65 1544.91 L2085.29 1544.91 L2085.29 1518.55 L2076.98 1520.21 L2076.98 1515.95 L2085.24 1514.29 L2089.92 1514.29 L2089.92 1544.91 L2097.56 1544.91 L2097.56 1548.85 L2077.65 1548.85 L2077.65 1544.91 Z\" fill=\"#000000\" fill-rule=\"nonzero\" fill-opacity=\"1\" /><path clip-path=\"url(#clip910)\" d=\"M2107 1542.97 L2111.89 1542.97 L2111.89 1548.85 L2107 1548.85 L2107 1542.97 Z\" fill=\"#000000\" fill-rule=\"nonzero\" fill-opacity=\"1\" /><path clip-path=\"url(#clip910)\" d=\"M2132.07 1517.37 Q2128.46 1517.37 2126.63 1520.93 Q2124.83 1524.47 2124.83 1531.6 Q2124.83 1538.71 2126.63 1542.27 Q2128.46 1545.82 2132.07 1545.82 Q2135.71 1545.82 2137.51 1542.27 Q2139.34 1538.71 2139.34 1531.6 Q2139.34 1524.47 2137.51 1520.93 Q2135.71 1517.37 2132.07 1517.37 M2132.07 1513.66 Q2137.88 1513.66 2140.94 1518.27 Q2144.02 1522.85 2144.02 1531.6 Q2144.02 1540.33 2140.94 1544.94 Q2137.88 1549.52 2132.07 1549.52 Q2126.26 1549.52 2123.18 1544.94 Q2120.13 1540.33 2120.13 1531.6 Q2120.13 1522.85 2123.18 1518.27 Q2126.26 1513.66 2132.07 1513.66 Z\" fill=\"#000000\" fill-rule=\"nonzero\" fill-opacity=\"1\" /><path clip-path=\"url(#clip910)\" d=\"M2153.04 1544.91 L2160.68 1544.91 L2160.68 1518.55 L2152.37 1520.21 L2152.37 1515.95 L2160.64 1514.29 L2165.31 1514.29 L2165.31 1544.91 L2172.95 1544.91 L2172.95 1548.85 L2153.04 1548.85 L2153.04 1544.91 Z\" fill=\"#000000\" fill-rule=\"nonzero\" fill-opacity=\"1\" /><path clip-path=\"url(#clip910)\" d=\"M2192.39 1517.37 Q2188.78 1517.37 2186.95 1520.93 Q2185.15 1524.47 2185.15 1531.6 Q2185.15 1538.71 2186.95 1542.27 Q2188.78 1545.82 2192.39 1545.82 Q2196.03 1545.82 2197.83 1542.27 Q2199.66 1538.71 2199.66 1531.6 Q2199.66 1524.47 2197.83 1520.93 Q2196.03 1517.37 2192.39 1517.37 M2192.39 1513.66 Q2198.2 1513.66 2201.26 1518.27 Q2204.34 1522.85 2204.34 1531.6 Q2204.34 1540.33 2201.26 1544.94 Q2198.2 1549.52 2192.39 1549.52 Q2186.58 1549.52 2183.51 1544.94 Q2180.45 1540.33 2180.45 1531.6 Q2180.45 1522.85 2183.51 1518.27 Q2186.58 1513.66 2192.39 1513.66 Z\" fill=\"#000000\" fill-rule=\"nonzero\" fill-opacity=\"1\" /><polyline clip-path=\"url(#clip912)\" style=\"stroke:#000000; stroke-linecap:round; stroke-linejoin:round; stroke-width:2; stroke-opacity:0.1; fill:none\" points=\"369.025,1171.76 2352.76,1171.76 \"/>\n",
       "<polyline clip-path=\"url(#clip912)\" style=\"stroke:#000000; stroke-linecap:round; stroke-linejoin:round; stroke-width:2; stroke-opacity:0.1; fill:none\" points=\"369.025,825.686 2352.76,825.686 \"/>\n",
       "<polyline clip-path=\"url(#clip912)\" style=\"stroke:#000000; stroke-linecap:round; stroke-linejoin:round; stroke-width:2; stroke-opacity:0.1; fill:none\" points=\"369.025,479.608 2352.76,479.608 \"/>\n",
       "<polyline clip-path=\"url(#clip912)\" style=\"stroke:#000000; stroke-linecap:round; stroke-linejoin:round; stroke-width:2; stroke-opacity:0.1; fill:none\" points=\"369.025,133.53 2352.76,133.53 \"/>\n",
       "<polyline clip-path=\"url(#clip910)\" style=\"stroke:#000000; stroke-linecap:round; stroke-linejoin:round; stroke-width:4; stroke-opacity:1; fill:none\" points=\"369.025,1486.45 369.025,47.2441 \"/>\n",
       "<polyline clip-path=\"url(#clip910)\" style=\"stroke:#000000; stroke-linecap:round; stroke-linejoin:round; stroke-width:4; stroke-opacity:1; fill:none\" points=\"369.025,1171.76 387.922,1171.76 \"/>\n",
       "<polyline clip-path=\"url(#clip910)\" style=\"stroke:#000000; stroke-linecap:round; stroke-linejoin:round; stroke-width:4; stroke-opacity:1; fill:none\" points=\"369.025,825.686 387.922,825.686 \"/>\n",
       "<polyline clip-path=\"url(#clip910)\" style=\"stroke:#000000; stroke-linecap:round; stroke-linejoin:round; stroke-width:4; stroke-opacity:1; fill:none\" points=\"369.025,479.608 387.922,479.608 \"/>\n",
       "<polyline clip-path=\"url(#clip910)\" style=\"stroke:#000000; stroke-linecap:round; stroke-linejoin:round; stroke-width:4; stroke-opacity:1; fill:none\" points=\"369.025,133.53 387.922,133.53 \"/>\n",
       "<path clip-path=\"url(#clip910)\" d=\"M50.9921 1178.66 L80.6679 1178.66 L80.6679 1182.6 L50.9921 1182.6 L50.9921 1178.66 Z\" fill=\"#000000\" fill-rule=\"nonzero\" fill-opacity=\"1\" /><path clip-path=\"url(#clip910)\" d=\"M94.7882 1191.56 L111.108 1191.56 L111.108 1195.49 L89.1632 1195.49 L89.1632 1191.56 Q91.8252 1188.8 96.4085 1184.17 Q101.015 1179.52 102.196 1178.18 Q104.441 1175.65 105.321 1173.92 Q106.223 1172.16 106.223 1170.47 Q106.223 1167.71 104.279 1165.98 Q102.358 1164.24 99.2558 1164.24 Q97.0567 1164.24 94.603 1165.01 Q92.1725 1165.77 89.3947 1167.32 L89.3947 1162.6 Q92.2188 1161.46 94.6724 1160.89 Q97.1261 1160.31 99.1632 1160.31 Q104.534 1160.31 107.728 1162.99 Q110.922 1165.68 110.922 1170.17 Q110.922 1172.3 110.112 1174.22 Q109.325 1176.12 107.219 1178.71 Q106.64 1179.38 103.538 1182.6 Q100.436 1185.79 94.7882 1191.56 Z\" fill=\"#000000\" fill-rule=\"nonzero\" fill-opacity=\"1\" /><path clip-path=\"url(#clip910)\" d=\"M120.922 1189.61 L125.807 1189.61 L125.807 1195.49 L120.922 1195.49 L120.922 1189.61 Z\" fill=\"#000000\" fill-rule=\"nonzero\" fill-opacity=\"1\" /><path clip-path=\"url(#clip910)\" d=\"M145.992 1164.01 Q142.381 1164.01 140.552 1167.57 Q138.746 1171.12 138.746 1178.25 Q138.746 1185.35 140.552 1188.92 Q142.381 1192.46 145.992 1192.46 Q149.626 1192.46 151.431 1188.92 Q153.26 1185.35 153.26 1178.25 Q153.26 1171.12 151.431 1167.57 Q149.626 1164.01 145.992 1164.01 M145.992 1160.31 Q151.802 1160.31 154.857 1164.91 Q157.936 1169.5 157.936 1178.25 Q157.936 1186.97 154.857 1191.58 Q151.802 1196.16 145.992 1196.16 Q140.181 1196.16 137.103 1191.58 Q134.047 1186.97 134.047 1178.25 Q134.047 1169.5 137.103 1164.91 Q140.181 1160.31 145.992 1160.31 Z\" fill=\"#000000\" fill-rule=\"nonzero\" fill-opacity=\"1\" /><path clip-path=\"url(#clip910)\" d=\"M194.325 1170.03 L183.746 1180.65 L194.325 1191.23 L191.57 1194.03 L180.945 1183.41 L170.32 1194.03 L167.589 1191.23 L178.144 1180.65 L167.589 1170.03 L170.32 1167.23 L180.945 1177.85 L191.57 1167.23 L194.325 1170.03 Z\" fill=\"#000000\" fill-rule=\"nonzero\" fill-opacity=\"1\" /><path clip-path=\"url(#clip910)\" d=\"M206.686 1191.56 L214.325 1191.56 L214.325 1165.19 L206.014 1166.86 L206.014 1162.6 L214.278 1160.93 L218.954 1160.93 L218.954 1191.56 L226.593 1191.56 L226.593 1195.49 L206.686 1195.49 L206.686 1191.56 Z\" fill=\"#000000\" fill-rule=\"nonzero\" fill-opacity=\"1\" /><path clip-path=\"url(#clip910)\" d=\"M246.037 1164.01 Q242.426 1164.01 240.598 1167.57 Q238.792 1171.12 238.792 1178.25 Q238.792 1185.35 240.598 1188.92 Q242.426 1192.46 246.037 1192.46 Q249.672 1192.46 251.477 1188.92 Q253.306 1185.35 253.306 1178.25 Q253.306 1171.12 251.477 1167.57 Q249.672 1164.01 246.037 1164.01 M246.037 1160.31 Q251.848 1160.31 254.903 1164.91 Q257.982 1169.5 257.982 1178.25 Q257.982 1186.97 254.903 1191.58 Q251.848 1196.16 246.037 1196.16 Q240.227 1196.16 237.149 1191.58 Q234.093 1186.97 234.093 1178.25 Q234.093 1169.5 237.149 1164.91 Q240.227 1160.31 246.037 1160.31 Z\" fill=\"#000000\" fill-rule=\"nonzero\" fill-opacity=\"1\" /><path clip-path=\"url(#clip910)\" d=\"M257.982 1154.41 L282.093 1154.41 L282.093 1157.6 L257.982 1157.6 L257.982 1154.41 Z\" fill=\"#000000\" fill-rule=\"nonzero\" fill-opacity=\"1\" /><path clip-path=\"url(#clip910)\" d=\"M290.952 1164.88 L297.158 1164.88 L297.158 1143.46 L290.406 1144.82 L290.406 1141.36 L297.121 1140 L300.92 1140 L300.92 1164.88 L307.126 1164.88 L307.126 1168.08 L290.952 1168.08 L290.952 1164.88 Z\" fill=\"#000000\" fill-rule=\"nonzero\" fill-opacity=\"1\" /><path clip-path=\"url(#clip910)\" d=\"M325.238 1143.31 L315.646 1158.3 L325.238 1158.3 L325.238 1143.31 M324.242 1140 L329.019 1140 L329.019 1158.3 L333.025 1158.3 L333.025 1161.46 L329.019 1161.46 L329.019 1168.08 L325.238 1168.08 L325.238 1161.46 L312.562 1161.46 L312.562 1157.79 L324.242 1140 Z\" fill=\"#000000\" fill-rule=\"nonzero\" fill-opacity=\"1\" /><path clip-path=\"url(#clip910)\" d=\"M321.08 811.484 Q317.469 811.484 315.641 815.049 Q313.835 818.591 313.835 825.72 Q313.835 832.827 315.641 836.392 Q317.469 839.933 321.08 839.933 Q324.715 839.933 326.52 836.392 Q328.349 832.827 328.349 825.72 Q328.349 818.591 326.52 815.049 Q324.715 811.484 321.08 811.484 M321.08 807.781 Q326.891 807.781 329.946 812.387 Q333.025 816.971 333.025 825.72 Q333.025 834.447 329.946 839.054 Q326.891 843.637 321.08 843.637 Q315.27 843.637 312.192 839.054 Q309.136 834.447 309.136 825.72 Q309.136 816.971 312.192 812.387 Q315.27 807.781 321.08 807.781 Z\" fill=\"#000000\" fill-rule=\"nonzero\" fill-opacity=\"1\" /><path clip-path=\"url(#clip910)\" d=\"M94.7882 499.4 L111.108 499.4 L111.108 503.335 L89.1632 503.335 L89.1632 499.4 Q91.8252 496.646 96.4085 492.016 Q101.015 487.363 102.196 486.021 Q104.441 483.498 105.321 481.761 Q106.223 480.002 106.223 478.312 Q106.223 475.558 104.279 473.822 Q102.358 472.086 99.2558 472.086 Q97.0567 472.086 94.603 472.849 Q92.1725 473.613 89.3947 475.164 L89.3947 470.442 Q92.2188 469.308 94.6724 468.729 Q97.1261 468.15 99.1632 468.15 Q104.534 468.15 107.728 470.836 Q110.922 473.521 110.922 478.011 Q110.922 480.141 110.112 482.062 Q109.325 483.961 107.219 486.553 Q106.64 487.224 103.538 490.442 Q100.436 493.636 94.7882 499.4 Z\" fill=\"#000000\" fill-rule=\"nonzero\" fill-opacity=\"1\" /><path clip-path=\"url(#clip910)\" d=\"M120.922 497.456 L125.807 497.456 L125.807 503.335 L120.922 503.335 L120.922 497.456 Z\" fill=\"#000000\" fill-rule=\"nonzero\" fill-opacity=\"1\" /><path clip-path=\"url(#clip910)\" d=\"M145.992 471.854 Q142.381 471.854 140.552 475.419 Q138.746 478.961 138.746 486.09 Q138.746 493.197 140.552 496.761 Q142.381 500.303 145.992 500.303 Q149.626 500.303 151.431 496.761 Q153.26 493.197 153.26 486.09 Q153.26 478.961 151.431 475.419 Q149.626 471.854 145.992 471.854 M145.992 468.15 Q151.802 468.15 154.857 472.757 Q157.936 477.34 157.936 486.09 Q157.936 494.817 154.857 499.423 Q151.802 504.007 145.992 504.007 Q140.181 504.007 137.103 499.423 Q134.047 494.817 134.047 486.09 Q134.047 477.34 137.103 472.757 Q140.181 468.15 145.992 468.15 Z\" fill=\"#000000\" fill-rule=\"nonzero\" fill-opacity=\"1\" /><path clip-path=\"url(#clip910)\" d=\"M194.325 477.873 L183.746 488.498 L194.325 499.076 L191.57 501.877 L180.945 491.252 L170.32 501.877 L167.589 499.076 L178.144 488.498 L167.589 477.873 L170.32 475.072 L180.945 485.697 L191.57 475.072 L194.325 477.873 Z\" fill=\"#000000\" fill-rule=\"nonzero\" fill-opacity=\"1\" /><path clip-path=\"url(#clip910)\" d=\"M206.686 499.4 L214.325 499.4 L214.325 473.035 L206.014 474.701 L206.014 470.442 L214.278 468.775 L218.954 468.775 L218.954 499.4 L226.593 499.4 L226.593 503.335 L206.686 503.335 L206.686 499.4 Z\" fill=\"#000000\" fill-rule=\"nonzero\" fill-opacity=\"1\" /><path clip-path=\"url(#clip910)\" d=\"M246.037 471.854 Q242.426 471.854 240.598 475.419 Q238.792 478.961 238.792 486.09 Q238.792 493.197 240.598 496.761 Q242.426 500.303 246.037 500.303 Q249.672 500.303 251.477 496.761 Q253.306 493.197 253.306 486.09 Q253.306 478.961 251.477 475.419 Q249.672 471.854 246.037 471.854 M246.037 468.15 Q251.848 468.15 254.903 472.757 Q257.982 477.34 257.982 486.09 Q257.982 494.817 254.903 499.423 Q251.848 504.007 246.037 504.007 Q240.227 504.007 237.149 499.423 Q234.093 494.817 234.093 486.09 Q234.093 477.34 237.149 472.757 Q240.227 468.15 246.037 468.15 Z\" fill=\"#000000\" fill-rule=\"nonzero\" fill-opacity=\"1\" /><path clip-path=\"url(#clip910)\" d=\"M257.982 462.252 L282.093 462.252 L282.093 465.449 L257.982 465.449 L257.982 462.252 Z\" fill=\"#000000\" fill-rule=\"nonzero\" fill-opacity=\"1\" /><path clip-path=\"url(#clip910)\" d=\"M290.952 472.728 L297.158 472.728 L297.158 451.306 L290.406 452.66 L290.406 449.199 L297.121 447.845 L300.92 447.845 L300.92 472.728 L307.126 472.728 L307.126 475.925 L290.952 475.925 L290.952 472.728 Z\" fill=\"#000000\" fill-rule=\"nonzero\" fill-opacity=\"1\" /><path clip-path=\"url(#clip910)\" d=\"M325.238 451.155 L315.646 466.145 L325.238 466.145 L325.238 451.155 M324.242 447.845 L329.019 447.845 L329.019 466.145 L333.025 466.145 L333.025 469.305 L329.019 469.305 L329.019 475.925 L325.238 475.925 L325.238 469.305 L312.562 469.305 L312.562 465.637 L324.242 447.845 Z\" fill=\"#000000\" fill-rule=\"nonzero\" fill-opacity=\"1\" /><path clip-path=\"url(#clip910)\" d=\"M103.608 126.772 L91.8021 145.221 L103.608 145.221 L103.608 126.772 M102.381 122.697 L108.26 122.697 L108.26 145.221 L113.191 145.221 L113.191 149.109 L108.26 149.109 L108.26 157.257 L103.608 157.257 L103.608 149.109 L88.0058 149.109 L88.0058 144.596 L102.381 122.697 Z\" fill=\"#000000\" fill-rule=\"nonzero\" fill-opacity=\"1\" /><path clip-path=\"url(#clip910)\" d=\"M120.922 151.378 L125.807 151.378 L125.807 157.257 L120.922 157.257 L120.922 151.378 Z\" fill=\"#000000\" fill-rule=\"nonzero\" fill-opacity=\"1\" /><path clip-path=\"url(#clip910)\" d=\"M145.992 125.776 Q142.381 125.776 140.552 129.341 Q138.746 132.883 138.746 140.012 Q138.746 147.119 140.552 150.683 Q142.381 154.225 145.992 154.225 Q149.626 154.225 151.431 150.683 Q153.26 147.119 153.26 140.012 Q153.26 132.883 151.431 129.341 Q149.626 125.776 145.992 125.776 M145.992 122.072 Q151.802 122.072 154.857 126.679 Q157.936 131.262 157.936 140.012 Q157.936 148.739 154.857 153.345 Q151.802 157.929 145.992 157.929 Q140.181 157.929 137.103 153.345 Q134.047 148.739 134.047 140.012 Q134.047 131.262 137.103 126.679 Q140.181 122.072 145.992 122.072 Z\" fill=\"#000000\" fill-rule=\"nonzero\" fill-opacity=\"1\" /><path clip-path=\"url(#clip910)\" d=\"M194.325 131.795 L183.746 142.42 L194.325 152.998 L191.57 155.799 L180.945 145.174 L170.32 155.799 L167.589 152.998 L178.144 142.42 L167.589 131.795 L170.32 128.994 L180.945 139.619 L191.57 128.994 L194.325 131.795 Z\" fill=\"#000000\" fill-rule=\"nonzero\" fill-opacity=\"1\" /><path clip-path=\"url(#clip910)\" d=\"M206.686 153.322 L214.325 153.322 L214.325 126.957 L206.014 128.623 L206.014 124.364 L214.278 122.697 L218.954 122.697 L218.954 153.322 L226.593 153.322 L226.593 157.257 L206.686 157.257 L206.686 153.322 Z\" fill=\"#000000\" fill-rule=\"nonzero\" fill-opacity=\"1\" /><path clip-path=\"url(#clip910)\" d=\"M246.037 125.776 Q242.426 125.776 240.598 129.341 Q238.792 132.883 238.792 140.012 Q238.792 147.119 240.598 150.683 Q242.426 154.225 246.037 154.225 Q249.672 154.225 251.477 150.683 Q253.306 147.119 253.306 140.012 Q253.306 132.883 251.477 129.341 Q249.672 125.776 246.037 125.776 M246.037 122.072 Q251.848 122.072 254.903 126.679 Q257.982 131.262 257.982 140.012 Q257.982 148.739 254.903 153.345 Q251.848 157.929 246.037 157.929 Q240.227 157.929 237.149 153.345 Q234.093 148.739 234.093 140.012 Q234.093 131.262 237.149 126.679 Q240.227 122.072 246.037 122.072 Z\" fill=\"#000000\" fill-rule=\"nonzero\" fill-opacity=\"1\" /><path clip-path=\"url(#clip910)\" d=\"M257.982 116.174 L282.093 116.174 L282.093 119.371 L257.982 119.371 L257.982 116.174 Z\" fill=\"#000000\" fill-rule=\"nonzero\" fill-opacity=\"1\" /><path clip-path=\"url(#clip910)\" d=\"M290.952 126.65 L297.158 126.65 L297.158 105.228 L290.406 106.582 L290.406 103.121 L297.121 101.767 L300.92 101.767 L300.92 126.65 L307.126 126.65 L307.126 129.847 L290.952 129.847 L290.952 126.65 Z\" fill=\"#000000\" fill-rule=\"nonzero\" fill-opacity=\"1\" /><path clip-path=\"url(#clip910)\" d=\"M325.238 105.077 L315.646 120.067 L325.238 120.067 L325.238 105.077 M324.242 101.767 L329.019 101.767 L329.019 120.067 L333.025 120.067 L333.025 123.227 L329.019 123.227 L329.019 129.847 L325.238 129.847 L325.238 123.227 L312.562 123.227 L312.562 119.559 L324.242 101.767 Z\" fill=\"#000000\" fill-rule=\"nonzero\" fill-opacity=\"1\" /><polyline clip-path=\"url(#clip912)\" style=\"stroke:#009af9; stroke-linecap:round; stroke-linejoin:round; stroke-width:4; stroke-opacity:1; fill:none\" points=\"425.168,1440.44 503.145,1225.28 581.122,1071.59 659.099,964.006 737.076,933.268 815.052,841.055 893.029,856.424 971.006,887.162 1048.98,856.424 1126.96,871.793 1204.94,841.055 1282.91,856.424 1360.89,825.686 1438.87,917.899 1516.84,871.793 1594.82,794.948 1672.8,856.424 1750.77,841.055 1828.75,856.424 1906.73,825.686 1984.71,902.531 2062.68,887.162 2140.66,825.686 2218.64,502.938 2296.61,87.9763 \"/>\n",
       "<polyline clip-path=\"url(#clip912)\" style=\"stroke:#e26f46; stroke-linecap:round; stroke-linejoin:round; stroke-width:4; stroke-opacity:1; fill:none\" points=\"425.168,1445.72 503.145,1162.89 581.122,998.725 659.099,908.45 737.076,861.975 815.052,839.936 893.029,830.53 971.006,827.038 1048.98,825.969 1126.96,825.724 1204.94,825.688 1282.91,825.686 1360.89,825.686 1438.87,825.686 1516.84,825.684 1594.82,825.648 1672.8,825.402 1750.77,824.334 1828.75,820.842 1906.73,811.435 1984.71,789.397 2062.68,742.922 2140.66,652.647 2218.64,488.482 2296.61,205.656 \"/>\n",
       "<path clip-path=\"url(#clip910)\" d=\"M435.149 250.738 L685.953 250.738 L685.953 95.2176 L435.149 95.2176  Z\" fill=\"#ffffff\" fill-rule=\"evenodd\" fill-opacity=\"1\"/>\n",
       "<polyline clip-path=\"url(#clip910)\" style=\"stroke:#000000; stroke-linecap:round; stroke-linejoin:round; stroke-width:4; stroke-opacity:1; fill:none\" points=\"435.149,250.738 685.953,250.738 685.953,95.2176 435.149,95.2176 435.149,250.738 \"/>\n",
       "<polyline clip-path=\"url(#clip910)\" style=\"stroke:#009af9; stroke-linecap:round; stroke-linejoin:round; stroke-width:4; stroke-opacity:1; fill:none\" points=\"457.191,147.058 589.439,147.058 \"/>\n",
       "<path clip-path=\"url(#clip910)\" d=\"M625.323 166.745 Q623.518 171.375 621.805 172.787 Q620.092 174.199 617.221 174.199 L613.819 174.199 L613.819 170.634 L616.319 170.634 Q618.078 170.634 619.05 169.8 Q620.022 168.967 621.203 165.865 L621.967 163.921 L611.481 138.412 L615.995 138.412 L624.096 158.689 L632.198 138.412 L636.712 138.412 L625.323 166.745 Z\" fill=\"#000000\" fill-rule=\"nonzero\" fill-opacity=\"1\" /><path clip-path=\"url(#clip910)\" d=\"M644.004 160.402 L651.643 160.402 L651.643 134.037 L643.332 135.703 L643.332 131.444 L651.596 129.778 L656.272 129.778 L656.272 160.402 L663.911 160.402 L663.911 164.338 L644.004 164.338 L644.004 160.402 Z\" fill=\"#000000\" fill-rule=\"nonzero\" fill-opacity=\"1\" /><polyline clip-path=\"url(#clip910)\" style=\"stroke:#e26f46; stroke-linecap:round; stroke-linejoin:round; stroke-width:4; stroke-opacity:1; fill:none\" points=\"457.191,198.898 589.439,198.898 \"/>\n",
       "<path clip-path=\"url(#clip910)\" d=\"M625.323 218.585 Q623.518 223.215 621.805 224.627 Q620.092 226.039 617.221 226.039 L613.819 226.039 L613.819 222.474 L616.319 222.474 Q618.078 222.474 619.05 221.64 Q620.022 220.807 621.203 217.705 L621.967 215.761 L611.481 190.252 L615.995 190.252 L624.096 210.529 L632.198 190.252 L636.712 190.252 L625.323 218.585 Z\" fill=\"#000000\" fill-rule=\"nonzero\" fill-opacity=\"1\" /><path clip-path=\"url(#clip910)\" d=\"M647.221 212.242 L663.541 212.242 L663.541 216.178 L641.596 216.178 L641.596 212.242 Q644.258 209.488 648.842 204.858 Q653.448 200.205 654.629 198.863 Q656.874 196.34 657.754 194.604 Q658.656 192.844 658.656 191.155 Q658.656 188.4 656.712 186.664 Q654.791 184.928 651.689 184.928 Q649.49 184.928 647.036 185.692 Q644.606 186.455 641.828 188.006 L641.828 183.284 Q644.652 182.15 647.106 181.571 Q649.559 180.993 651.596 180.993 Q656.967 180.993 660.161 183.678 Q663.356 186.363 663.356 190.854 Q663.356 192.983 662.545 194.905 Q661.758 196.803 659.652 199.395 Q659.073 200.067 655.971 203.284 Q652.869 206.479 647.221 212.242 Z\" fill=\"#000000\" fill-rule=\"nonzero\" fill-opacity=\"1\" /></svg>\n"
      ]
     },
     "execution_count": 22,
     "metadata": {},
     "output_type": "execute_result"
    }
   ],
   "source": [
    "Plots.plot(x,[y1;y2])"
   ]
  },
  {
   "cell_type": "markdown",
   "metadata": {},
   "source": [
    "## Q5\n",
    "\n",
    "1. Show the **Sherman-Morrison formula**\n",
    "$$\n",
    "\t(\\mathbf{A} + \\mathbf{u} \\mathbf{u}^T)^{-1} = \\mathbf{A}^{-1} - \\frac{1}{1 + \\mathbf{u}^T \\mathbf{A}^{-1} \\mathbf{u}} \\mathbf{A}^{-1} \\mathbf{u} \\mathbf{u}^T \\mathbf{A}^{-1},\n",
    "$$\n",
    "where $\\mathbf{A} \\in \\mathbb{R}^{n \\times n}$ is nonsingular and $\\mathbf{u} \\in \\mathbb{R}^n$. This formula supplies the inverse of the symmetric, rank-one  perturbation of $\\mathbf{A}$.\n",
    "\n",
    "2. Show the **Woodbury formula**\n",
    "$$\n",
    "\t(\\mathbf{A} + \\mathbf{U} \\mathbf{V}^T)^{-1} = \\mathbf{A}^{-1} - \\mathbf{A}^{-1} \\mathbf{U} (\\mathbf{I}_m + \\mathbf{V}^T \\mathbf{A}^{-1} \\mathbf{U})^{-1} \\mathbf{V}^T \\mathbf{A}^{-1},\n",
    "$$\n",
    "where $\\mathbf{A} \\in \\mathbb{R}^{n \\times n}$ is nonsingular, $\\mathbf{U}, \\mathbf{V} \\in \\mathbb{R}^{n \\times m}$, and $\\mathbf{I}_m$ is the $m \\times m$ identity matrix. In many applications $m$ is much smaller than $n$. Woodbury formula generalizes Sherman-Morrison and is valuable because the smaller matrix $\\mathbf{I}_m + \\mathbf{V}^T \\mathbf{A}^{-1} \\mathbf{U}$ is cheaper to invert than the larger matrix $\\mathbf{A} + \\mathbf{U} \\mathbf{V}^T$.\n",
    "\n",
    "3. Show the **binomial inversion formula**\n",
    "$$\n",
    "\t(\\mathbf{A} + \\mathbf{U} \\mathbf{B} \\mathbf{V}^T)^{-1} = \\mathbf{A}^{-1} - \\mathbf{A}^{-1} \\mathbf{U} (\\mathbf{B}^{-1} + \\mathbf{V}^T \\mathbf{A}^{-1} \\mathbf{U})^{-1} \\mathbf{V}^T \\mathbf{A}^{-1},\n",
    "$$\n",
    "where $\\mathbf{A}$ and $\\mathbf{B}$ are nonsingular.\n",
    "\n",
    "4. Show the identity\n",
    "$$\n",
    "\t\\text{det}(\\mathbf{A} + \\mathbf{U} \\mathbf{V}^T) = \\text{det}(\\mathbf{A}) \\text{det}(\\mathbf{I}_m + \\mathbf{V}^T \\mathbf{A}^{-1} \\mathbf{U}).\n",
    "$$\n",
    "This formula is useful for evaluating the density of a multivariate normal with covariance matrix $\\mathbf{A} + \\mathbf{U} \\mathbf{V}^T$.\n",
    "\n",
    "**Hint**: 1 and 2 are special cases of 3. For 4, show that\n",
    "$$\n",
    "\\begin{pmatrix}\n",
    "- \\mathbf{A} & \\mathbf{O} \\\\\n",
    "\\mathbf{O} & \\mathbf{I} + \\mathbf{V}^T \\mathbf{A}^{-1} \\mathbf{U}\n",
    "\\end{pmatrix} = \\begin{pmatrix}\n",
    "\\mathbf{I} & \\mathbf{O} \\\\\n",
    "\\mathbf{V}^T \\mathbf{A}^{-1} & \\mathbf{I}\n",
    "\\end{pmatrix} \\begin{pmatrix}\n",
    "- \\mathbf{A} & \\mathbf{U} \\\\\n",
    "\\mathbf{V}^T & \\mathbf{I}\n",
    "\\end{pmatrix} \\begin{pmatrix}\n",
    "\\mathbf{I} & \\mathbf{A}^{-1} \\mathbf{U} \\\\\n",
    "\\mathbf{O} & \\mathbf{I}\n",
    "\\end{pmatrix}.\n",
    "$$"
   ]
  },
  {
   "cell_type": "markdown",
   "metadata": {},
   "source": [
    "1. **Sherman-Morrison Formula**: Direct approach.\n",
    "\\begin{align}\n",
    "&\\ \\ \\ \\ \\left(A^{-1}-\\frac{1}{1+u^TA^{-1}u}A^{-1}uu^TA^{-1}\\right)\\left(A+uu^T\\right)\\\\\n",
    "&=I+A^{-1}uu^T-\\frac{1}{1+u^TA^{-1}u}A^{-1}uu^T-\\frac{1}{1+u^TA^{-1}u}A^{-1}u(u^TA^{-1}u)u^T\\\\\n",
    "&=I+A^{-1}uu^T-\\left(\\frac{1+u^TA^{-1}u}{1+u^TA^{-1}u}\\right)A^{-1}uu^T\\\\\n",
    "&=I\n",
    "\\end{align}"
   ]
  },
  {
   "cell_type": "markdown",
   "metadata": {},
   "source": [
    "2. **Woodbury Formula**: the result follows immediately by letting $B=I_m$ in *binomial inversion formula*,."
   ]
  },
  {
   "cell_type": "markdown",
   "metadata": {},
   "source": [
    "3. **Binomial Inversion Formula**: Algebraic approach.\n",
    "\n",
    "ETS \n",
    "$$\n",
    "A^{-1}=(A+UBV^T)^{-1}+A^{-1}U(B^{-1}+V^TA^{-1}U)^{-1}V^TA^{-1}\n",
    "$$ \n",
    "\n",
    "First, note that\n",
    "$$\n",
    "    U+UBV^TA^{-1}U=UB(B^{-1}+V^TA^{-1}U)=(A+UBV^T)A^{-1}U\n",
    "$$\n",
    "since $A,B$ is non-singular. Thus,\n",
    "$$\n",
    "    (A+UBV^T)^{-1}UB=A^{-1}U(B^{-1}+V^TA^{-1}U)^{-1}\n",
    "$$\n",
    "Hence,\n",
    "\\begin{align}\n",
    "A^{-1}&=(A+UBV^T)^{-1}(A+UBV^T)A^{-1}\\\\\n",
    "&=(A+UBV^T)^{-1}(I+UBV^TA^{-1})\\\\\n",
    "&=(A+UBV^T)^{-1}+\\left[(A+UBV^T)^{-1}UB\\right]V^{T}A^{-1}\\\\\n",
    "&=_{\\text{see above}}(A+UBV^T)^{-1}+A^{-1}U(B^{-1}+V^TA^{-1}U)^{-1}V^TA^{-1}\n",
    "\\end{align}"
   ]
  },
  {
   "cell_type": "markdown",
   "metadata": {},
   "source": [
    "4. **Determinant Formula**\n",
    "\n",
    "WLOG, suppose $A\\in\\mathbb{R}^{n\\times n}$ and $U,V^T\\in\\mathbb{R}^{n\\times m}$. Then is it enough to show\n",
    "\n",
    "\\begin{align}\\tag{*}\n",
    "\\det|I_m+V^TA^{-1}U|=\\det|I_n+A^{-1}UV^{T}|\n",
    "\\end{align}\n",
    "\n",
    "Then \n",
    "$$\n",
    "\\det|A|\\det|I_m+V^TA^{-1}U|=\\det|A\\left(I_n+A^{-1}UV^T\\right)|=\\det|A+UV^T|\n",
    "$$\n",
    "But ($*$) follows from a lemma in **Biostat 250A**:\n",
    "$$\\det|I_m+AB|=\\det|I_n+BA|\n",
    "$$\n",
    "The proof is shown below.\n",
    "\\begin{align}\n",
    "\\det|I+AB|&=\\det\\left|\\left(\\begin{matrix}I+AB&A\\\\\n",
    "0&I\\end{matrix}\\right)\\right|\\\\\n",
    "&=\\det\\left|\\left(\\begin{matrix}I&A\\\\\n",
    "-B&I\\end{matrix}\\right)\\left(\\begin{matrix}I&0\\\\\n",
    "B&I\\end{matrix}\\right)\\right|\\\\\n",
    "&=\\det\\left|\\left(\\begin{matrix}I&0\\\\\n",
    "B&I\\end{matrix}\\right)\\left(\\begin{matrix}I&A\\\\\n",
    "-B&I\\end{matrix}\\right)\\right|\\\\\n",
    "&=\\det\\left|\\left(\\begin{matrix}I&A\\\\\n",
    "0&I+BA\\end{matrix}\\right)\\right|\\\\\n",
    "&=\\det|I+BA|\n",
    "\\end{align}"
   ]
  },
  {
   "cell_type": "markdown",
   "metadata": {},
   "source": [
    "## Q6\n",
    "\n",
    "Demonstrate the following facts about triangular and orthogonal matrices in Julia (one numerical example for each fact). Mathematically curious ones are also encouraged to prove them. \n",
    "\n",
    "Note a unit triangular matrix is a triangular matrix with all diagonal entries being 1.\n",
    "\n",
    "1. The product of two upper (lower) triangular matrices is upper (lower) triangular.\n",
    "\n",
    "2. The inverse of an upper (lower) triangular matrix is upper (lower) triangular.\n",
    "\n",
    "3. The product of two unit upper (lower) triangular matrices is unit upper (lower) triangular.\n",
    "\n",
    "4. The inverse of a unit upper (lower) triangular matrix is unit upper (lower) triangular.\n",
    "\n",
    "5. An orthogonal upper (lower) triangular matrix is diagonal. (You just need to prove this.)\n",
    "\n",
    "6. The product of two orthogonal matrices is orthogonal."
   ]
  },
  {
   "cell_type": "code",
   "execution_count": 33,
   "metadata": {},
   "outputs": [],
   "source": [
    "using LinearAlgebra"
   ]
  },
  {
   "cell_type": "markdown",
   "metadata": {},
   "source": [
    "- 1"
   ]
  },
  {
   "cell_type": "code",
   "execution_count": 34,
   "metadata": {},
   "outputs": [
    {
     "data": {
      "text/plain": [
       "5×5 UpperTriangular{Float64, Matrix{Float64}}:\n",
       " -0.480808  -1.61409    1.31808   -1.47594   -0.927262\n",
       "   ⋅         0.699413   1.17464    2.22725   -0.0585575\n",
       "   ⋅          ⋅        -0.118624  -0.729925   0.214909\n",
       "   ⋅          ⋅          ⋅         0.586765  -0.32481\n",
       "   ⋅          ⋅          ⋅          ⋅         0.126653"
      ]
     },
     "execution_count": 34,
     "metadata": {},
     "output_type": "execute_result"
    }
   ],
   "source": [
    "upp1 = UpperTriangular(randn(5,5))"
   ]
  },
  {
   "cell_type": "code",
   "execution_count": 35,
   "metadata": {},
   "outputs": [
    {
     "data": {
      "text/plain": [
       "5×5 UpperTriangular{Float64, Matrix{Float64}}:\n",
       " 0.127926  -0.0570782   0.00746865  -0.0966526   1.08102\n",
       "  ⋅         1.16742    -1.60273      0.744285    0.4777\n",
       "  ⋅          ⋅          0.0114593    1.12313     0.415154\n",
       "  ⋅          ⋅           ⋅           0.346625    0.183376\n",
       "  ⋅          ⋅           ⋅            ⋅         -0.68077"
      ]
     },
     "execution_count": 35,
     "metadata": {},
     "output_type": "execute_result"
    }
   ],
   "source": [
    "upp2 = UpperTriangular(randn(5,5))"
   ]
  },
  {
   "cell_type": "code",
   "execution_count": 36,
   "metadata": {},
   "outputs": [
    {
     "data": {
      "text/plain": [
       "5×5 UpperTriangular{Float64, Matrix{Float64}}:\n",
       " -0.0615079  -1.85687    2.59846     -0.186101  -0.383004\n",
       "   ⋅          0.816506  -1.10751      2.61186    1.27006\n",
       "   ⋅           ⋅        -0.00135935  -0.38624   -0.329402\n",
       "   ⋅           ⋅          ⋅           0.203388   0.32872\n",
       "   ⋅           ⋅          ⋅            ⋅        -0.0862213"
      ]
     },
     "execution_count": 36,
     "metadata": {},
     "output_type": "execute_result"
    }
   ],
   "source": [
    "upp1 * upp2"
   ]
  },
  {
   "cell_type": "markdown",
   "metadata": {},
   "source": [
    "- 2"
   ]
  },
  {
   "cell_type": "code",
   "execution_count": 37,
   "metadata": {},
   "outputs": [
    {
     "data": {
      "text/plain": [
       "5×5 UpperTriangular{Float64, Matrix{Float64}}:\n",
       " -2.07983  -4.7998   -70.6385   -74.8855   -89.6335\n",
       "   ⋅        1.42977   14.1579    12.185      7.88681\n",
       "   ⋅         ⋅        -8.42998  -10.4867   -12.5897\n",
       "   ⋅         ⋅          ⋅         1.70426    4.37071\n",
       "   ⋅         ⋅          ⋅          ⋅         7.89562"
      ]
     },
     "execution_count": 37,
     "metadata": {},
     "output_type": "execute_result"
    }
   ],
   "source": [
    "inv(upp1)"
   ]
  },
  {
   "cell_type": "markdown",
   "metadata": {},
   "source": [
    "- 3"
   ]
  },
  {
   "cell_type": "code",
   "execution_count": 39,
   "metadata": {},
   "outputs": [
    {
     "data": {
      "text/plain": [
       "3×3 Matrix{Int64}:\n",
       " 1  0  -8\n",
       " 0  1   0\n",
       " 0  0   1"
      ]
     },
     "execution_count": 39,
     "metadata": {},
     "output_type": "execute_result"
    }
   ],
   "source": [
    "unit_upp1 = [1 2 3; 0 1 4; 0 0 1]\n",
    "unit_upp2 = [1 -2 -3; 0 1 -4; 0 0 1]\n",
    "unit_upp1 * unit_upp2"
   ]
  },
  {
   "cell_type": "markdown",
   "metadata": {},
   "source": [
    "- 4"
   ]
  },
  {
   "cell_type": "code",
   "execution_count": 40,
   "metadata": {},
   "outputs": [
    {
     "data": {
      "text/plain": [
       "3×3 Matrix{Float64}:\n",
       " 1.0  -2.0   5.0\n",
       " 0.0   1.0  -4.0\n",
       " 0.0   0.0   1.0"
      ]
     },
     "execution_count": 40,
     "metadata": {},
     "output_type": "execute_result"
    }
   ],
   "source": [
    "inv(unit_upp1)"
   ]
  },
  {
   "cell_type": "markdown",
   "metadata": {},
   "source": [
    "5. I will prove the easiest case, i,e, the matrix is $2\\times 2$. Assume $A$ is orthogonal and\n",
    "$$A=\\left(\\begin{matrix}a&b\\\\\n",
    "c&0\\end{matrix}\\right)$$\n",
    "Then\n",
    "$$A^TA=\\left(\\begin{matrix}a^2+b^2&bc\\\\\n",
    "bc&c^2\\end{matrix}\\right)=I$$\n",
    "Hence,\n",
    "$$c=\\pm1, b=0\\text{ and }a=\\pm1$$\n",
    "which means $A$ is diagonal."
   ]
  },
  {
   "cell_type": "markdown",
   "metadata": {},
   "source": [
    "- 6"
   ]
  },
  {
   "cell_type": "code",
   "execution_count": 43,
   "metadata": {},
   "outputs": [
    {
     "name": "stdout",
     "output_type": "stream",
     "text": [
      "Q1 is orthogonal: true\n",
      "Q2 is orthogonal: true\n",
      "Q = Q1 * Q2 is orthogonal: true\n"
     ]
    }
   ],
   "source": [
    "using LinearAlgebra\n",
    "\n",
    "# Generate two random orthogonal matrices\n",
    "Q1 = qr(rand(3, 3)).Q\n",
    "Q2 = qr(rand(3, 3)).Q\n",
    "\n",
    "# Compute the product of the two matrices\n",
    "Q = Q1 * Q2\n",
    "\n",
    "# Check if Q is orthogonal\n",
    "println(\"Q1 is orthogonal: \", isapprox(Q1' * Q1, I))\n",
    "println(\"Q2 is orthogonal: \", isapprox(Q2' * Q2, I))\n",
    "println(\"Q = Q1 * Q2 is orthogonal: \", isapprox(Q' * Q, I))"
   ]
  },
  {
   "cell_type": "markdown",
   "metadata": {},
   "source": [
    "## Q7\n",
    "\n",
    "Let the $n \\times n$ matrix `H` have elements `H[i, j] = 1 / (i + j - 1)`.  \n",
    "\n",
    "1. Write a function `h(n)` that outputs $n \\times n$ matrix `H`. Try at least 4 ways, e.g., $ij$-looping, $ji$-looping, [comprehension](https://docs.julialang.org/en/v1/manual/arrays/#man-comprehensions), and vectorization (R style). Compute and print `H` for `n = 5`.   \n",
    "\n",
    "2. Compare their efficiencies (using `BenchmarkTools`) at `n = 5000`."
   ]
  },
  {
   "cell_type": "code",
   "execution_count": 47,
   "metadata": {},
   "outputs": [
    {
     "name": "stdout",
     "output_type": "stream",
     "text": [
      "[1.0 0.5 0.3333333333333333 0.25 0.2; 0.5 0.3333333333333333 0.25 0.2 0.16666666666666666; 0.3333333333333333 0.25 0.2 0.16666666666666666 0.14285714285714285; 0.25 0.2 0.16666666666666666 0.14285714285714285 0.125; 0.2 0.16666666666666666 0.14285714285714285 0.125 0.1111111111111111]\n",
      "[1.0 0.5 0.3333333333333333 0.25 0.2; 0.5 0.3333333333333333 0.25 0.2 0.16666666666666666; 0.3333333333333333 0.25 0.2 0.16666666666666666 0.14285714285714285; 0.25 0.2 0.16666666666666666 0.14285714285714285 0.125; 0.2 0.16666666666666666 0.14285714285714285 0.125 0.1111111111111111]\n",
      "[1.0 0.5 0.3333333333333333 0.25 0.2; 0.5 0.3333333333333333 0.25 0.2 0.16666666666666666; 0.3333333333333333 0.25 0.2 0.16666666666666666 0.14285714285714285; 0.25 0.2 0.16666666666666666 0.14285714285714285 0.125; 0.2 0.16666666666666666 0.14285714285714285 0.125 0.1111111111111111]\n",
      "[1.0 0.5 0.3333333333333333 0.25 0.2; 0.5 0.3333333333333333 0.25 0.2 0.16666666666666666; 0.3333333333333333 0.25 0.2 0.16666666666666666 0.14285714285714285; 0.25 0.2 0.16666666666666666 0.14285714285714285 0.125; 0.2 0.16666666666666666 0.14285714285714285 0.125 0.1111111111111111]\n"
     ]
    },
    {
     "data": {
      "text/plain": [
       "BenchmarkTools.Trial: 40 samples with 1 evaluation.\n",
       " Range \u001b[90m(\u001b[39m\u001b[36m\u001b[1mmin\u001b[22m\u001b[39m … \u001b[35mmax\u001b[39m\u001b[90m):  \u001b[39m\u001b[36m\u001b[1m 97.459 ms\u001b[22m\u001b[39m … \u001b[35m277.438 ms\u001b[39m  \u001b[90m┊\u001b[39m GC \u001b[90m(\u001b[39mmin … max\u001b[90m): \u001b[39m 0.00% … 65.30%\n",
       " Time  \u001b[90m(\u001b[39m\u001b[34m\u001b[1mmedian\u001b[22m\u001b[39m\u001b[90m):     \u001b[39m\u001b[34m\u001b[1m121.028 ms               \u001b[22m\u001b[39m\u001b[90m┊\u001b[39m GC \u001b[90m(\u001b[39mmedian\u001b[90m):    \u001b[39m12.28%\n",
       " Time  \u001b[90m(\u001b[39m\u001b[32m\u001b[1mmean\u001b[22m\u001b[39m ± \u001b[32mσ\u001b[39m\u001b[90m):   \u001b[39m\u001b[32m\u001b[1m126.788 ms\u001b[22m\u001b[39m ± \u001b[32m 36.968 ms\u001b[39m  \u001b[90m┊\u001b[39m GC \u001b[90m(\u001b[39mmean ± σ\u001b[90m):  \u001b[39m18.23% ± 16.46%\n",
       "\n",
       "  \u001b[39m \u001b[39m█\u001b[39m \u001b[39m \u001b[39m \u001b[39m \u001b[34m \u001b[39m\u001b[39m \u001b[39m \u001b[39m \u001b[32m \u001b[39m\u001b[39m \u001b[39m \u001b[39m▂\u001b[39m \u001b[39m \u001b[39m \u001b[39m \u001b[39m \u001b[39m \u001b[39m \u001b[39m \u001b[39m \u001b[39m \u001b[39m \u001b[39m \u001b[39m \u001b[39m \u001b[39m \u001b[39m \u001b[39m \u001b[39m \u001b[39m \u001b[39m \u001b[39m \u001b[39m \u001b[39m \u001b[39m \u001b[39m \u001b[39m \u001b[39m \u001b[39m \u001b[39m \u001b[39m \u001b[39m \u001b[39m \u001b[39m \u001b[39m \u001b[39m \u001b[39m \u001b[39m \u001b[39m \u001b[39m \u001b[39m \u001b[39m \u001b[39m \u001b[39m \u001b[39m \u001b[39m \u001b[39m \u001b[39m \u001b[39m \u001b[39m \n",
       "  \u001b[39m▇\u001b[39m█\u001b[39m█\u001b[39m▇\u001b[39m▁\u001b[39m▄\u001b[34m▁\u001b[39m\u001b[39m▁\u001b[39m▁\u001b[39m▁\u001b[32m▅\u001b[39m\u001b[39m▅\u001b[39m█\u001b[39m█\u001b[39m▅\u001b[39m▄\u001b[39m▅\u001b[39m▁\u001b[39m▁\u001b[39m▁\u001b[39m▁\u001b[39m▁\u001b[39m▁\u001b[39m▁\u001b[39m▁\u001b[39m▁\u001b[39m▁\u001b[39m▁\u001b[39m▁\u001b[39m▁\u001b[39m▁\u001b[39m▁\u001b[39m▁\u001b[39m▁\u001b[39m▁\u001b[39m▁\u001b[39m▁\u001b[39m▁\u001b[39m▁\u001b[39m▁\u001b[39m▁\u001b[39m▁\u001b[39m▁\u001b[39m▁\u001b[39m▁\u001b[39m▁\u001b[39m▁\u001b[39m▁\u001b[39m▁\u001b[39m▁\u001b[39m▁\u001b[39m▁\u001b[39m▁\u001b[39m▁\u001b[39m▄\u001b[39m▁\u001b[39m▁\u001b[39m▁\u001b[39m▁\u001b[39m▁\u001b[39m▄\u001b[39m \u001b[39m▁\n",
       "  97.5 ms\u001b[90m          Histogram: frequency by time\u001b[39m          277 ms \u001b[0m\u001b[1m<\u001b[22m\n",
       "\n",
       " Memory estimate\u001b[90m: \u001b[39m\u001b[33m190.73 MiB\u001b[39m, allocs estimate\u001b[90m: \u001b[39m\u001b[33m2\u001b[39m."
      ]
     },
     "execution_count": 47,
     "metadata": {},
     "output_type": "execute_result"
    }
   ],
   "source": [
    "using BenchmarkTools\n",
    "\n",
    "function h_ij_loop(n)\n",
    "    H = zeros(n, n)\n",
    "    for i in 1:n\n",
    "        for j in 1:n\n",
    "            H[i, j] = 1 / (i + j - 1)\n",
    "        end\n",
    "    end\n",
    "    return H\n",
    "end\n",
    "\n",
    "function h_ji_loop(n)\n",
    "    H = zeros(n, n)\n",
    "    for j in 1:n\n",
    "        for i in 1:n\n",
    "            H[i, j] = 1 / (i + j - 1)\n",
    "        end\n",
    "    end\n",
    "    return H\n",
    "end\n",
    "\n",
    "function h_comprehension(n)\n",
    "    [1 / (i + j - 1) for i in 1:n, j in 1:n]\n",
    "end\n",
    "\n",
    "function h_vectorization(n)\n",
    "    i = 1:n\n",
    "    j = i'\n",
    "    H = 1 ./ (i .+ j .- 1)\n",
    "    return H\n",
    "end\n",
    "\n",
    "# Compute and print H for n = 5\n",
    "println(h_ij_loop(5))\n",
    "println(h_ji_loop(5))\n",
    "println(h_comprehension(5))\n",
    "println(h_vectorization(5))\n",
    "\n",
    "# Benchmark the four approaches at n = 5000\n",
    "n = 5000\n",
    "@benchmark h_ij_loop($n)\n",
    "@benchmark h_ji_loop($n)\n",
    "@benchmark h_comprehension($n)\n",
    "@benchmark h_vectorization($n)\n"
   ]
  }
 ],
 "metadata": {
  "jupytext": {
   "formats": "ipynb,qmd"
  },
  "kernelspec": {
   "display_name": "Julia 1.8.5",
   "language": "julia",
   "name": "julia-1.8"
  },
  "language_info": {
   "file_extension": ".jl",
   "mimetype": "application/julia",
   "name": "julia",
   "version": "1.8.5"
  },
  "toc": {
   "colors": {
    "hover_highlight": "#DAA520",
    "running_highlight": "#FF0000",
    "selected_highlight": "#FFD700"
   },
   "moveMenuLeft": true,
   "nav_menu": {
    "height": "153px",
    "width": "252px"
   },
   "navigate_menu": true,
   "number_sections": false,
   "sideBar": true,
   "skip_h1_title": true,
   "threshold": 4,
   "toc_cell": false,
   "toc_section_display": "block",
   "toc_window_display": true,
   "widenNotebook": false
  },
  "toc-autonumbering": false
 },
 "nbformat": 4,
 "nbformat_minor": 4
}
