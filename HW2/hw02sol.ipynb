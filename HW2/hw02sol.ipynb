{
 "cells": [
  {
   "cell_type": "raw",
   "metadata": {},
   "source": [
    "---\n",
    "title: Biostat/Biomath M257 Homework 2\n",
    "subtitle: 'Due Apr 28 @ 11:59PM'\n",
    "author: Sisi Shao\n",
    "date: today\n",
    "format:\n",
    "  html:\n",
    "    theme: cosmo\n",
    "    embed-resources: true\n",
    "    number-sections: true\n",
    "    toc: true\n",
    "    toc-depth: 4\n",
    "    toc-location: left\n",
    "---"
   ]
  },
  {
   "cell_type": "markdown",
   "metadata": {},
   "source": [
    "System information (for reproducibility):"
   ]
  },
  {
   "cell_type": "code",
   "execution_count": 1,
   "metadata": {
    "tags": []
   },
   "outputs": [
    {
     "name": "stdout",
     "output_type": "stream",
     "text": [
      "Julia Version 1.8.5\n",
      "Commit 17cfb8e65ea (2023-01-08 06:45 UTC)\n",
      "Platform Info:\n",
      "  OS: macOS (arm64-apple-darwin21.5.0)\n",
      "  CPU: 10 × Apple M1 Max\n",
      "  WORD_SIZE: 64\n",
      "  LIBM: libopenlibm\n",
      "  LLVM: libLLVM-13.0.1 (ORCJIT, apple-m1)\n",
      "  Threads: 1 on 8 virtual cores\n"
     ]
    }
   ],
   "source": [
    "versioninfo()"
   ]
  },
  {
   "cell_type": "markdown",
   "metadata": {},
   "source": [
    "Load packages:"
   ]
  },
  {
   "cell_type": "code",
   "execution_count": 2,
   "metadata": {
    "scrolled": true,
    "tags": []
   },
   "outputs": [
    {
     "name": "stderr",
     "output_type": "stream",
     "text": [
      "\u001b[32m\u001b[1m  Activating\u001b[22m\u001b[39m project at `~/Downloads/SSS/Bio257_23Spring/HW/hw2`\n"
     ]
    },
    {
     "name": "stdout",
     "output_type": "stream",
     "text": [
      "\u001b[32m\u001b[1mStatus\u001b[22m\u001b[39m `~/Downloads/SSS/Bio257_23Spring/HW/hw2/Project.toml`\n",
      " \u001b[90m [6e4b80f9] \u001b[39mBenchmarkTools v1.3.2\n",
      " \u001b[90m [7073ff75] \u001b[39mIJulia v1.24.0\n",
      " \u001b[90m [916415d5] \u001b[39mImages v0.25.2\n",
      " \u001b[90m [bdcacae8] \u001b[39mLoopVectorization v0.12.157\n",
      " \u001b[90m [8bb1440f] \u001b[39mDelimitedFiles\n",
      " \u001b[90m [37e2e46d] \u001b[39mLinearAlgebra\n",
      " \u001b[90m [9abbd945] \u001b[39mProfile\n"
     ]
    }
   ],
   "source": [
    "using Pkg\n",
    "\n",
    "Pkg.activate(pwd())\n",
    "Pkg.instantiate()\n",
    "Pkg.status()"
   ]
  },
  {
   "cell_type": "code",
   "execution_count": 3,
   "metadata": {
    "tags": []
   },
   "outputs": [],
   "source": [
    "# load libraries\n",
    "using BenchmarkTools, DelimitedFiles, Images, LinearAlgebra, LoopVectorization\n",
    "using Profile, Random"
   ]
  },
  {
   "cell_type": "markdown",
   "metadata": {},
   "source": [
    "## Q1. Nonnegative Matrix Factorization\n",
    "\n",
    "Nonnegative matrix factorization (NNMF) was introduced by [Lee and Seung (1999)](https://www.nature.com/articles/44565) as an alternative to principal components and vector quantization with applications in data compression, clustering, and deconvolution. In this homework we consider algorithms for fitting NNMF and (optionally) high performance computing using graphical processing units (GPUs).\n",
    "\n",
    "<img src=\"./nnmf.png\" width=\"500\" align=\"center\"/>\n",
    "\n",
    "In mathematical terms, one approximates a data matrix $\\mathbf{X} \\in \\mathbb{R}^{m \\times n}$ with nonnegative entries $x_{ij}$ by a product of two low-rank matrices $\\mathbf{V} \\in \\mathbb{R}^{m \\times r}$ and $\\mathbf{W} \\in \\mathbb{R}^{r \\times n}$ with nonnegative entries $v_{ik}$ and $w_{kj}$. Consider minimization of the squared Frobenius norm\n",
    "$$\n",
    "L(\\mathbf{V}, \\mathbf{W}) = \\|\\mathbf{X} - \\mathbf{V} \\mathbf{W}\\|_{\\text{F}}^2 = \\sum_i \\sum_j \\left(x_{ij} - \\sum_k v_{ik} w_{kj} \\right)^2, \\quad v_{ik} \\ge 0, w_{kj} \\ge 0,\n",
    "$$\n",
    "which should lead to a good factorization. Lee and Seung suggest an iterative algorithm with multiplicative updates\n",
    "$$\n",
    "v_{ik}^{(t+1)} = v_{ik}^{(t)} \\frac{\\sum_j x_{ij} w_{kj}^{(t)}}{\\sum_j b_{ij}^{(t)} w_{kj}^{(t)}}, \\quad \\text{where } b_{ij}^{(t)} = \\sum_k v_{ik}^{(t)} w_{kj}^{(t)},\n",
    "$$\n",
    "$$\n",
    "w_{kj}^{(t+1)} = w_{kj}^{(t)} \\frac{\\sum_i x_{ij} v_{ik}^{(t+1)}}{\\sum_i b_{ij}^{(t+1/2)} v_{ik}^{(t+1)}}, \\quad \\text{where } b_{ij}^{(t+1/2)} = \\sum_k v_{ik}^{(t+1)} w_{kj}^{(t)}\n",
    "$$\n",
    "that will drive the objective $L^{(t)} = L(\\mathbf{V}^{(t)}, \\mathbf{W}^{(t)})$ downhill. Superscript $t$ indicates the iteration number. In following questions, efficiency (both speed and memory) will be the most important criterion when grading this problem."
   ]
  },
  {
   "cell_type": "markdown",
   "metadata": {},
   "source": [
    "### Q1.1 Develop code\n",
    "\n",
    "Implement the algorithm with arguments: $\\mathbf{X}$ (data, each row is a vectorized image), rank $r$, convergence tolerance, and optional starting point."
   ]
  },
  {
   "cell_type": "code",
   "execution_count": 4,
   "metadata": {},
   "outputs": [
    {
     "data": {
      "text/plain": [
       "nnmf (generic function with 1 method)"
      ]
     },
     "execution_count": 4,
     "metadata": {},
     "output_type": "execute_result"
    }
   ],
   "source": [
    "import LinearAlgebra: BlasReal, copytri!\n",
    "\n",
    "function nnmf(\n",
    "    X       :: Matrix{T}, \n",
    "    r       :: Integer;\n",
    "    maxiter :: Integer = 1000, \n",
    "    tolfun  :: Number = 1e-4,\n",
    "    V       :: Matrix{T} = rand(T, size(X, 1), r),\n",
    "    W       :: Matrix{T} = rand(T, r, size(X, 2))\n",
    "    ) where T <: AbstractFloat\n",
    "    rr_storage = Matrix{T}(undef, r, r)\n",
    "    storage_V1 = similar(V)\n",
    "    storage_V2 = similar(V)\n",
    "    storage_W1 = similar(W)\n",
    "    storage_W2 = similar(W)\n",
    "    storage_X = similar(X)\n",
    "    x2norm = abs2(norm(X))\n",
    "    \n",
    "    X_err = similar(X)\n",
    "    \n",
    "    obj_old = 0\n",
    "    obj = 0\n",
    "#    fill!(rr_storage, 0)\n",
    "    niter = maxiter\n",
    "    for iter in 1:maxiter\n",
    "        #TODO: how to get rid of unnecessary allocation.\n",
    "        mul!(rr_storage, W, transpose(W))\n",
    "        mul!(storage_V2, V, rr_storage)\n",
    "        mul!(storage_V1, X, transpose(W))\n",
    "        \n",
    "#        V .= V .* storage_V1 ./ storage_V2\n",
    "#        V .*= storage_V1\n",
    "#        V ./= storage_V2\n",
    "        for idx in eachindex(V)\n",
    "            V[idx] *= storage_V1[idx]\n",
    "            V[idx] /= storage_V2[idx]\n",
    "        end\n",
    "#        rr_storage .= transpose(V) * V\n",
    "#        BLAS.syrk!('U', 'T', one(T), V, zero(T), rr_storage)\n",
    "#        rr_storage .= Symmetric(rr_storage)\n",
    "        mul!(rr_storage, transpose(V), V)\n",
    "        mul!(storage_W2, rr_storage, W)\n",
    "        mul!(storage_W1, transpose(V), X)\n",
    "        \n",
    "        obj_old = obj\n",
    "        obj = x2norm\n",
    "        for idx in eachindex(W)\n",
    "            obj += (storage_W2[idx] - 2 * storage_W1[idx]) * W[idx]\n",
    "            W[idx] *= storage_W1[idx]\n",
    "            W[idx] /= storage_W2[idx]\n",
    "        end\n",
    "#        W .= W .* storage_W1 ./ storage_W2\n",
    "        X_err .= X\n",
    "        mul!(X_err, V, W, -one(T), one(T))\n",
    "#        \n",
    "#        obj = sum(X_err .* X_err)\n",
    "        if abs(obj - obj_old) <= tolfun * (abs(obj_old) + 1)\n",
    "            niter = iter\n",
    "            break \n",
    "        end\n",
    "    end\n",
    "    \n",
    "    if niter == maxiter\n",
    "        @warn \"maxiter reached without convergence\"\n",
    "    end\n",
    "    # implementation\n",
    "    # Output\n",
    "    V, W, obj, niter\n",
    "end"
   ]
  },
  {
   "cell_type": "markdown",
   "metadata": {},
   "source": [
    "### Q1.2 Data\n",
    "\n",
    "Database 1 from the [MIT Center for Biological and Computational Learning (CBCL)](http://cbcl.mit.edu/software-datasets/FaceData2.html) reduces to a matrix $\\mathbf{X}$ containing $m = 2,429$ gray-scale face images with $n = 19 \\times 19 = 361$ pixels per face. Each image (row) is scaled to have mean and standard deviation 0.25.  \n",
    "\n",
    "Read in the [`nnmf-2429-by-361-face.txt`](https://raw.githubusercontent.com/ucla-biostat-257/2023spring/master/hw/hw2/nnmf-2429-by-361-face.txt) file, e.g., using [`readdlm`](https://docs.julialang.org/en/v1/stdlib/DelimitedFiles/#Delimited-Files) function, and display a couple of sample images, e.g., using the [Images.jl](https://juliaimages.org/stable/) package."
   ]
  },
  {
   "cell_type": "code",
   "execution_count": 5,
   "metadata": {
    "tags": []
   },
   "outputs": [
    {
     "data": {
      "image/png": "[encoded data removed]",
      "text/html": [
       "<img src=\"data:image/png;base64,iVBORw0KGgoAAAANSUhEUgAAAHIAAAByCAAAAACqttqhAAAABGdBTUEAALGPC/xhBQAAAAFzUkdCAK7OHOkAAAAgY0hSTQAAeiYAAICEAAD6AAAAgOgAAHUwAADqYAAAOpgAABdwnLpRPAAAAydJREFUaAW9wTFr3AUcx+EPyfc40oZrSogNh1JCQzlaQiQURdxcRHDwPbg7ODv5IsQX4OYglIK4SKGUaildQksJxnA2hMbjb45wzXmcCfKZ/lA6/54nN9Et9D4aoC6aojV0Da3SOkb30Sv0GDXoJtpFMzREoVwoF8qFcqFcDtAcnaInaA816CO0gm6iLXSIvqa1gsZolzd1USgXyoVyoVwolwV0iA7QBjqgdQ99hu6hL9B3tNZRQ2sZTVAXzVAoF8qFcqFcKJcZb/oSfYMGaIaeo2X0M/oX7aCP0bfoKprQmqEFFMqFcqFcKBfKZQ2NaH2PtlEH7aPL6IzWFfQANWiC+ugETWl1USgXyoVyoVwolw7qoVM0pTVBPXQD7aMFtERriO6iFbSMztCEVigXyoVyoVwol0/RI7SN+miGrqC/UR/9hUZoiHpoFe2gPmrQErpPK5QL5UK5UC6Uyw00RAN0HfXRHN1FY3SOOmgVnaItWhtoDY3QOlpFoVwoF8qFcqFcRuhzdIT6aBFdoD7aRRdogIa0eugW6qAtdILO0WsUyoVyoVwoF8rlFB2gd1EH9dAGOkO/oAG6jX5FHbSKPkTnaIymqEMrlAvlQrlQLpTLCK2iI3SBVtAAvYOOUR+toG30AzpCW+h3NEcNGqMjFMqFcqFcKBfK5QyN0BJq0Bw9RItoAT1AX6E9NEdj9BPaRGPUoAUUFMqFcqFcKBfKpYeCZqiPNtAYvUTvoSE6QMu0XqIf0Q66gy6hGa1QLpQL5UK5UC6HqIsW0RQ9Ro/QM3QJbaOr6BxtoT30FL1AD9EdNEHHKJQL5UK5UC6UyxCtoT56ie6jMdpEAzRAi+gE9dAMnaFDdI56aAMNUSgXyoVyoVwolzFq0FV0gP5DE7SLdtES2kR/oClv9xpdQ6eoQaFcKBfKhXKhXC6j52gdraGnvN0UvUBz3vQJmqITdBs9oBXKhXKhXCgXyuU1mqMRuoE2UBddQmfoOlpAY9RBe2gN/YNm6BX6k1YoF8qFcqFcKJc5rSfoGdpEH6ARalCDJqiLGnQH7aN1dIJ+Q/u0QrlQLpQL5UK5/wFd2bFZ/j51mAAAAABJRU5ErkJg\">"
      ],
      "text/plain": [
       "19×19 reinterpret(reshape, Gray{Float64}, ::Matrix{Float64}) with eltype Gray{Float64}:\n",
       " Gray{Float64}(0.14815)   …  Gray{Float64}(0.0)\n",
       " Gray{Float64}(0.018294)     Gray{Float64}(0.027569)\n",
       " Gray{Float64}(0.027569)     Gray{Float64}(0.0)\n",
       " Gray{Float64}(0.0)          Gray{Float64}(0.0090181)\n",
       " Gray{Float64}(0.083222)     Gray{Float64}(0.036844)\n",
       " Gray{Float64}(0.10177)   …  Gray{Float64}(0.064671)\n",
       " Gray{Float64}(0.38004)      Gray{Float64}(0.13887)\n",
       " Gray{Float64}(0.51917)      Gray{Float64}(0.30583)\n",
       " Gray{Float64}(0.43569)      Gray{Float64}(0.37076)\n",
       " Gray{Float64}(0.38004)      Gray{Float64}(0.37076)\n",
       " Gray{Float64}(0.29656)   …  Gray{Float64}(0.26873)\n",
       " Gray{Float64}(0.25946)      Gray{Float64}(0.28728)\n",
       " Gray{Float64}(0.31511)      Gray{Float64}(0.28728)\n",
       " Gray{Float64}(0.2038)       Gray{Float64}(0.19453)\n",
       " Gray{Float64}(0.083222)     Gray{Float64}(0.073946)\n",
       " Gray{Float64}(0.018294)  …  Gray{Float64}(0.0)\n",
       " Gray{Float64}(0.064671)     Gray{Float64}(0.0)\n",
       " Gray{Float64}(0.018294)     Gray{Float64}(0.0)\n",
       " Gray{Float64}(0.0)          Gray{Float64}(0.0)"
      ]
     },
     "execution_count": 5,
     "metadata": {},
     "output_type": "execute_result"
    }
   ],
   "source": [
    "X = readdlm(\"nnmf-2429-by-361-face.txt\")\n",
    "colorview(Gray, reshape(X[1, :], 19, 19))"
   ]
  },
  {
   "cell_type": "code",
   "execution_count": 6,
   "metadata": {
    "tags": []
   },
   "outputs": [
    {
     "data": {
      "image/png": "[encoded data removed]",
      "text/html": [
       "<img src=\"data:image/png;base64,iVBORw0KGgoAAAANSUhEUgAAAHIAAAByCAAAAACqttqhAAAABGdBTUEAALGPC/xhBQAAAAFzUkdCAK7OHOkAAAAgY0hSTQAAeiYAAICEAAD6AAAAgOgAAHUwAADqYAAAOpgAABdwnLpRPAAAAxZJREFUaAW9wU1rGwQcx/Ev2a+GkK7NioQOCfWhlCGUMZAdhM3DLiLi1XfiW9A34N2DB0HBi4ddRETxIMoY20FGoa0htCshtgkhpE/Id5dIGfP2/3zSRHN0Db2GbqGP0UdoE7VRi6seo6/Qz+gfNEYjtIJCuVAulAvlQrnMWbhAM/QIPULfoS30GeqiEfoCfc//G6NQLpQL5UK5UC49dBNdR8voGXqG/kYz9DnaRj+iA67aRpssHKATFMqFcqFcKBfKpY/6vMoULaMJ2kdn6IiFa+gv9ISXC+VCuVAulAvlwn/cRb+j2+geeoh20B3URqfoHPXQPTRGP6A1NGIhlAvlQrlQLpQLLyyhGXqALtE3aJmFKQtjFPQm+g110W004KpQLpQL5UK5UC7voTF6G91A5+h19IyFMRqiCZqjM3QfNdASOkID1EChXCgXyoVyoVzeRw20hrbQDP2EjtASmqA5Vw3QNnoXtdAMjdAJCuVCuVAulAvl8gYKaqMB6qNDFHSGmqiNOugYnaIh2kVt1EHLaAmFcqFcKBfKhXIJ6qA5mqAGWke/oB76BH2KvkZfohm6hdqoiVroEl2gUC6UC+VCuVAux+gcraIuWkdPUQedoMdoiP5APbSLGmgLnaMLdI4OUCgXyoVyoVwolyHqsNBFM3SBpiw8RJtoB62gCzRES2gJjdAcBYVyoVwoF8qFcpmic9REM/QItVCXhXfQKbqL9lEXHaInaIOFY3SCQrlQLpQL5UK59FEPBfXRDpqgm2gdbaIpOkMdtIf20AU6Rh00QQcolAvlQrlQLpTLPtpCQ3SIJugSXUdrKCjoEr2FGmiETtBTtIoaqI9CuVAulAvlQrkco310iW6gFhqhIfoTtdA6OkJz1ERt1EVNNEEz1EehXCgXyoVyoVwmaIA20Ar6FQ14uT1epY3uoEM0RccolAvlQrlQLpTLGRqgTbSGPkTfojHqoA3UQXO0y0IPfYBa6AiN0CkK5UK5UC6UC+XCCzP0HK2iU/QAPUdTNEFT1EP3URMFjVADzdAQnaFQLpQL5UK5UO5fXyqvoq5e8KgAAAAASUVORK5C\">"
      ],
      "text/plain": [
       "19×19 reinterpret(reshape, Gray{Float64}, ::Matrix{Float64}) with eltype Gray{Float64}:\n",
       " Gray{Float64}(0.02756)   …  Gray{Float64}(0.053845)\n",
       " Gray{Float64}(0.0)          Gray{Float64}(0.0)\n",
       " Gray{Float64}(0.11518)      Gray{Float64}(0.15899)\n",
       " Gray{Float64}(0.0)          Gray{Float64}(0.0)\n",
       " Gray{Float64}(0.0)          Gray{Float64}(0.0)\n",
       " Gray{Float64}(0.0)       …  Gray{Float64}(0.0)\n",
       " Gray{Float64}(0.20279)      Gray{Float64}(0.21156)\n",
       " Gray{Float64}(0.4306)       Gray{Float64}(0.4306)\n",
       " Gray{Float64}(0.53574)      Gray{Float64}(0.50945)\n",
       " Gray{Float64}(0.55326)      Gray{Float64}(0.52698)\n",
       " Gray{Float64}(0.49193)   …  Gray{Float64}(0.47441)\n",
       " Gray{Float64}(0.41307)      Gray{Float64}(0.49193)\n",
       " Gray{Float64}(0.36927)      Gray{Float64}(0.4306)\n",
       " Gray{Float64}(0.25536)      Gray{Float64}(0.33422)\n",
       " Gray{Float64}(0.1327)       Gray{Float64}(0.22032)\n",
       " Gray{Float64}(0.071368)  …  Gray{Float64}(0.10641)\n",
       " Gray{Float64}(0.018798)     Gray{Float64}(0.045083)\n",
       " Gray{Float64}(0.0)          Gray{Float64}(0.018798)\n",
       " Gray{Float64}(0.0)          Gray{Float64}(0.0012747)"
      ]
     },
     "execution_count": 6,
     "metadata": {},
     "output_type": "execute_result"
    }
   ],
   "source": [
    "colorview(Gray, reshape(X[12, :], 19, 19))"
   ]
  },
  {
   "cell_type": "markdown",
   "metadata": {},
   "source": [
    "### Q1.3 Correctness and efficiency\n",
    "\n",
    "Report the run times, using `@btime`, of your function for fitting NNMF on the MIT CBCL face data set at ranks $r=10, 20, 30, 40, 50$. For ease of comparison (and grading), please start your algorithm with the provided $\\mathbf{V}^{(0)}$ (first $r$ columns of [`V0.txt`](https://raw.githubusercontent.com/ucla-biostat-257/2023spring/master/hw/hw2/V0.txt)) and $\\mathbf{W}^{(0)}$ (first $r$ rows of [`W0.txt`](https://raw.githubusercontent.com/ucla-biostat-257/2023spring/master/hw/hw2/W0.txt)) and stopping criterion\n",
    "$$\n",
    "\\frac{|L^{(t+1)} - L^{(t)}|}{|L^{(t)}| + 1} \\le 10^{-4}.\n",
    "$$\n",
    "\n",
    "**Hint**: When I run the following code using my own implementation of `nnmf`\n",
    "```julia\n",
    "# provided start point\n",
    "V0full = readdlm(\"V0.txt\", ' ', Float64)\n",
    "W0full = readdlm(\"W0.txt\", ' ', Float64);\n",
    "\n",
    "# benchmarking\n",
    "for r in [10, 20, 30, 40, 50]\n",
    "    println(\"r=$r\")\n",
    "    V0 = V0full[:, 1:r]\n",
    "    W0 = W0full[1:r, :]\n",
    "    _, _, obj, niter = nnmf(X, r, V = V0, W = W0)\n",
    "    @btime nnmf($X, $r, V = $V0, W = $W0) setup=(\n",
    "        copyto!(V0, V0full[:, 1:r]), \n",
    "        copyto!(W0, W0full[1:r, :])\n",
    "        )\n",
    "    println(\"obj=$obj, niter=$niter\")\n",
    "end\n",
    "```\n",
    "the output is\n",
    "```\n",
    "r=10\n",
    "  162.662 ms (9 allocations: 437.19 KiB)\n",
    "obj=11730.866905748058, niter=239\n",
    "r=20\n",
    "  234.293 ms (9 allocations: 875.44 KiB)\n",
    "obj=8497.605595863002, niter=394\n",
    "r=30\n",
    "  259.524 ms (9 allocations: 1.28 MiB)\n",
    "obj=6621.94596847528, niter=482\n",
    "r=40\n",
    "  289.918 ms (9 allocations: 1.72 MiB)\n",
    "obj=5256.866299829562, niter=581\n",
    "r=50\n",
    "  397.511 ms (10 allocations: 2.15 MiB)\n",
    "obj=4430.362097310877, niter=698\n",
    "```\n",
    "Due to machine differences, your run times can be different from mine but certainly can not be order of magnitude longer. Your memory allocation should be less or equal to mine."
   ]
  },
  {
   "cell_type": "markdown",
   "metadata": {},
   "source": [
    "## Solution Q1.3"
   ]
  },
  {
   "cell_type": "code",
   "execution_count": 7,
   "metadata": {},
   "outputs": [
    {
     "name": "stdout",
     "output_type": "stream",
     "text": [
      "r=10\n",
      "  3.920 ms (15 allocations: 13.81 MiB)\n",
      "obj=11728.547948790188, niter=2\n",
      "r=20\n",
      "  4.593 ms (15 allocations: 14.24 MiB)\n",
      "obj=8495.940996629568, niter=2\n",
      "r=30\n",
      "  5.301 ms (15 allocations: 14.66 MiB)\n",
      "obj=6620.630487323468, niter=2\n",
      "r=40\n",
      "  5.855 ms (15 allocations: 15.10 MiB)\n",
      "obj=5255.825931542437, niter=2\n",
      "r=50\n",
      "  6.994 ms (16 allocations: 15.53 MiB)\n",
      "obj=4429.482800161475, niter=2\n"
     ]
    }
   ],
   "source": [
    "V0full = readdlm(\"V0.txt\")\n",
    "W0full = readdlm(\"W0.txt\")\n",
    "\n",
    "r = 50\n",
    "V0_ref = similar(V0full[:, 1:r])\n",
    "W0_ref = similar(W0full[1:r, :])\n",
    "\n",
    "obj = 0\n",
    "niter = 0\n",
    "for r in [10, 20, 30, 40, 50]\n",
    "    println(\"r=$r\")\n",
    "    V0 = V0full[:, 1:r]\n",
    "    W0 = W0full[1:r, :]\n",
    "    V, W, obj, niter = nnmf(X, r; V = V0, W = W0)\n",
    "    if (r == 50)\n",
    "        V, W, obj, niter = nnmf(X, r; V = V0, W = W0)\n",
    "        V0_ref .= V\n",
    "        W0_ref .= W\n",
    "    else\n",
    "        _, _, obj, niter = nnmf(X, r; V = V0, W = W0)\n",
    "    end\n",
    "    @btime nnmf($X, $r; V = $V0, W = $W0)\n",
    "    println(\"obj=$obj, niter=$niter\")\n",
    "end"
   ]
  },
  {
   "cell_type": "markdown",
   "metadata": {},
   "source": [
    "### Q1.4 Non-uniqueness\n",
    "\n",
    "Choose an $r \\in \\{10, 20, 30, 40, 50\\}$ and start your algorithm from a different $\\mathbf{V}^{(0)}$ and $\\mathbf{W}^{(0)}$. Do you obtain the same objective value and $(\\mathbf{V}, \\mathbf{W})$? Explain what you find."
   ]
  },
  {
   "cell_type": "code",
   "execution_count": 8,
   "metadata": {},
   "outputs": [
    {
     "name": "stdout",
     "output_type": "stream",
     "text": [
      "  1.643419 seconds (20.18 k allocations: 17.372 MiB, 1.84% compilation time)\n"
     ]
    },
    {
     "data": {
      "text/plain": [
       "([1.936302866519159e-14 0.03444776944437119 … 0.0370770054831084 6.022353719870616e-34; 0.0010504868932476015 0.027078794704269937 … 0.030330570910909356 1.080508727146923e-23; … ; 0.024082651367591506 0.023551973331618622 … 0.014266332917605734 0.009665975466860158; 0.00957112624235055 2.3974305851583187e-13 … 0.013623342313066797 0.016521169902849134], [9.857313321334958e-40 3.86916070677741e-27 … 8.885784753325514e-17 6.904802077966577e-45; 1.5161464118877119e-37 5.578410179465069e-23 … 6.867286074086178e-9 9.888883589391405e-45; … ; 3.250271743619598 1.4772357361218347 … 7.176985994916491e-10 2.4793350543857632e-8; 5.4133032992759515e-58 1.2843469418660428e-29 … 2.220726779682269e-8 2.1768206564119626e-55], 4481.82566709832, 612)"
      ]
     },
     "execution_count": 8,
     "metadata": {},
     "output_type": "execute_result"
    }
   ],
   "source": [
    "Random.seed!(1234)\n",
    "r = 50\n",
    "@time V0_50, W0_50, obj, niter = nnmf(X, r)"
   ]
  },
  {
   "cell_type": "code",
   "execution_count": 9,
   "metadata": {},
   "outputs": [
    {
     "data": {
      "text/plain": [
       "6.365943769265134"
      ]
     },
     "execution_count": 9,
     "metadata": {},
     "output_type": "execute_result"
    }
   ],
   "source": [
    "norm(V0_ref - V0_50)"
   ]
  },
  {
   "cell_type": "code",
   "execution_count": 10,
   "metadata": {},
   "outputs": [
    {
     "data": {
      "text/plain": [
       "293.4915800111663"
      ]
     },
     "execution_count": 10,
     "metadata": {},
     "output_type": "execute_result"
    }
   ],
   "source": [
    "norm(W0_ref - W0_50)"
   ]
  },
  {
   "cell_type": "markdown",
   "metadata": {},
   "source": [
    "The resulting numbers and iteration are approximately the same, but the objective value and $(V,W)$\n",
    " are noticeably different than before: W in particular deviates from the reference noticeably more than does V\n",
    " for the different starting point, suggesting that the decomposition is not unique for a given matrix and may vary depending on the starting matrices."
   ]
  },
  {
   "cell_type": "markdown",
   "metadata": {},
   "source": [
    "### Q1.5 Fixed point\n",
    "\n",
    "For the same $r$, start your algorithm from $v_{ik}^{(0)} = w_{kj}^{(0)} = 1$ for all $i,j,k$. Do you obtain the same objective value and $(\\mathbf{V}, \\mathbf{W})$? Explain what you find."
   ]
  },
  {
   "cell_type": "markdown",
   "metadata": {},
   "source": [
    "## Solution Q 1.5"
   ]
  },
  {
   "cell_type": "code",
   "execution_count": 11,
   "metadata": {},
   "outputs": [
    {
     "name": "stdout",
     "output_type": "stream",
     "text": [
      "  0.018003 seconds (28 allocations: 15.529 MiB)\n"
     ]
    },
    {
     "data": {
      "text/plain": [
       "([0.005474678688547898 0.005474678688547898 … 0.005474678688547898 0.005474678688547898; 0.005441387722114405 0.005441387722114405 … 0.005441387722114405 0.005441387722114405; … ; 0.005704039080945006 0.005704039080945006 … 0.005704039080945006 0.005704039080945006; 0.005606185103016937 0.005606185103016937 … 0.005606185103016937 0.005606185103016937], [0.3699517799476869 0.4606586011069409 … 0.5580793952009446 0.42552103824346577; 0.3699517799476869 0.4606586011069409 … 0.5580793952009446 0.42552103824346577; … ; 0.3699517799476869 0.4606586011069409 … 0.5580793952009446 0.42552103824346577; 0.3699517799476869 0.4606586011069409 … 0.5580793952009446 0.42552103824346577], 25297.01577848839, 4)"
      ]
     },
     "execution_count": 11,
     "metadata": {},
     "output_type": "execute_result"
    }
   ],
   "source": [
    "r = 50\n",
    "V = ones((size(X, 1), r))\n",
    "W = ones((r, size(X, 2)))\n",
    "@time V0_50, W0_50, obj, niter = nnmf(X, r; V = V, W = W)"
   ]
  },
  {
   "cell_type": "code",
   "execution_count": 12,
   "metadata": {},
   "outputs": [
    {
     "data": {
      "text/plain": [
       "4.8937247088304465"
      ]
     },
     "execution_count": 12,
     "metadata": {},
     "output_type": "execute_result"
    }
   ],
   "source": [
    "norm(V0_ref - V0_50)"
   ]
  },
  {
   "cell_type": "code",
   "execution_count": 13,
   "metadata": {},
   "outputs": [
    {
     "data": {
      "text/plain": [
       "222.19895804881068"
      ]
     },
     "execution_count": 13,
     "metadata": {},
     "output_type": "execute_result"
    }
   ],
   "source": [
    "norm(W0_ref - W0_50)"
   ]
  },
  {
   "cell_type": "markdown",
   "metadata": {},
   "source": [
    "The value of $V$ is very close to that of the reference $V$, but not so for $W$. The differences are noticeably similar in order of magnitude to those of the random $V^{(0)}$ and $W^{(0)}$ above from the preceding example with random matrices."
   ]
  },
  {
   "cell_type": "markdown",
   "metadata": {},
   "source": [
    "### Q1.6 Interpret NNMF result\n",
    "\n",
    "Plot the basis images (rows of $\\mathbf{W}$) at rank $r=50$. What do you find?"
   ]
  },
  {
   "cell_type": "code",
   "execution_count": 14,
   "metadata": {},
   "outputs": [
    {
     "data": {
      "image/png": "[encoded data removed]",
      "text/html": [
       "<img src=\"data:image/png;base64,iVBORw0KGgoAAAANSUhEUgAAAHIAAAByCAAAAACqttqhAAAABGdBTUEAALGPC/xhBQAAAAFzUkdCAK7OHOkAAAAgY0hSTQAAeiYAAICEAAD6AAAAgOgAAHUwAADqYAAAOpgAABdwnLpRPAAAAoRJREFUaAW9wU1qHAQAhuG35Jsxpk0zJXZSWymmMVUiom68gQvBleDWs3gTD+AJBA+ggi4sVIpghNREaJrmt0PTpCPvaiAI7UK/58lX6Av0GRry3ztA36JQF+pCXagLdVlBq2jI/2UJraFQF+pCXagLdVlED9EO+hs9RBP0LvoSzfPvvkM/oSM0RrfQCD1CoS7UhbpQF+oyQffQPtpCf6BDdBXdQ1+jBWa+Qd+jP9EELaHb6AYKCnWhLtSFulCXITpC22gXHaKgc7SFfkcfMrODnqEhOkJ7aIDm0Zso1IW6UBfqQl3W0RSdogFaQHPoMhqhVS5aRcfoAO2hIbqGNtDbKNSFulAX6kJdPkVjdIx20GM0RWfoObrKRZ+jj9EUnaFFdAsNmAl1oS7UhbpQlzEzV9A6WudVLaL3eFWhLtSFulAX6kJdqAt1oS7UhbpQF+pCXagLdaEu1IW6UBfqQl2oC69gE+2gd9AYnaL76CYa83KhLtSFulAX6vIYLXPRAZqgHfQD+hldR+fMLPFyExTqQl2oC3WhLvfRbTRE2+gJWkTnaISeo2O0gJbRFO2jPXSKrqFLaBOFulAX6kJdqMsueg0N0F/oAXqGltEAXUZDFHSEfkHHaIpuMnOGdlGoC3WhLtSFupyiEzRCA7SPfmXmDtpA8+gF2kKb6ACtobfQAD1FExTqQl2oC3WhLmfoEL2OVtBH6Bw9QjfQB2gFvUCLaA7NoQ20iqboEJ2gUBfqQl2oC3WZoFN0ju6gT9BdtIXm0RhdQVN0F62hN9AInaAHaBvtoVAX6kJdqAt1eYJO0CV0iN5H19ECMwtogIJGaIDm0AT9hn5EW+gpCnWhLtSFulD3DxZkdXylYkQ9AAAAAElFTkSuQmCC\">"
      ],
      "text/plain": [
       "19×19 reinterpret(reshape, Gray{Float64}, ::Matrix{Float64}) with eltype Gray{Float64}:\n",
       " Gray{Float64}(0.369952)  Gray{Float64}(0.689115)  …  Gray{Float64}(0.607336)\n",
       " Gray{Float64}(0.460659)  Gray{Float64}(0.819255)     Gray{Float64}(0.74691)\n",
       " Gray{Float64}(0.511296)  Gray{Float64}(0.7087)       Gray{Float64}(0.629522)\n",
       " Gray{Float64}(0.474287)  Gray{Float64}(0.532417)     Gray{Float64}(0.478299)\n",
       " Gray{Float64}(0.499041)  Gray{Float64}(0.481986)     Gray{Float64}(0.499971)\n",
       " Gray{Float64}(0.64284)   Gray{Float64}(0.638725)  …  Gray{Float64}(0.724563)\n",
       " Gray{Float64}(0.913642)  Gray{Float64}(1.06518)      Gray{Float64}(1.11017)\n",
       " Gray{Float64}(1.19382)   Gray{Float64}(1.48607)      Gray{Float64}(1.47248)\n",
       " Gray{Float64}(1.35108)   Gray{Float64}(1.66225)      Gray{Float64}(1.63825)\n",
       " Gray{Float64}(1.39667)   Gray{Float64}(1.67715)      Gray{Float64}(1.64401)\n",
       " Gray{Float64}(1.30356)   Gray{Float64}(1.54915)   …  Gray{Float64}(1.48545)\n",
       " Gray{Float64}(1.12893)   Gray{Float64}(1.32085)      Gray{Float64}(1.22891)\n",
       " Gray{Float64}(0.925852)  Gray{Float64}(1.06994)      Gray{Float64}(0.964077)\n",
       " Gray{Float64}(0.760286)  Gray{Float64}(0.877467)     Gray{Float64}(0.783931)\n",
       " Gray{Float64}(0.68102)   Gray{Float64}(0.787678)     Gray{Float64}(0.7066)\n",
       " Gray{Float64}(0.659674)  Gray{Float64}(0.745493)  …  Gray{Float64}(0.670585)\n",
       " Gray{Float64}(0.644518)  Gray{Float64}(0.691384)     Gray{Float64}(0.626929)\n",
       " Gray{Float64}(0.608924)  Gray{Float64}(0.619156)     Gray{Float64}(0.558079)\n",
       " Gray{Float64}(0.540148)  Gray{Float64}(0.497399)     Gray{Float64}(0.425521)"
      ]
     },
     "execution_count": 14,
     "metadata": {},
     "output_type": "execute_result"
    }
   ],
   "source": [
    "colorview(Gray, reshape(W[1, :], 19, 19))"
   ]
  },
  {
   "cell_type": "code",
   "execution_count": 15,
   "metadata": {},
   "outputs": [
    {
     "data": {
      "image/png": "[encoded data removed]",
      "text/html": [
       "<img src=\"data:image/png;base64,iVBORw0KGgoAAAANSUhEUgAAAHIAAAByCAAAAACqttqhAAAABGdBTUEAALGPC/xhBQAAAAFzUkdCAK7OHOkAAAAgY0hSTQAAeiYAAICEAAD6AAAAgOgAAHUwAADqYAAAOpgAABdwnLpRPAAAAoRJREFUaAW9wU1qHAQAhuG35Jsxpk0zJXZSWymmMVUiom68gQvBleDWs3gTD+AJBA+ggi4sVIpghNREaJrmt0PTpCPvaiAI7UK/58lX6Av0GRry3ztA36JQF+pCXagLdVlBq2jI/2UJraFQF+pCXagLdVlED9EO+hs9RBP0LvoSzfPvvkM/oSM0RrfQCD1CoS7UhbpQF+oyQffQPtpCf6BDdBXdQ1+jBWa+Qd+jP9EELaHb6AYKCnWhLtSFulCXITpC22gXHaKgc7SFfkcfMrODnqEhOkJ7aIDm0Zso1IW6UBfqQl3W0RSdogFaQHPoMhqhVS5aRcfoAO2hIbqGNtDbKNSFulAX6kJdPkVjdIx20GM0RWfoObrKRZ+jj9EUnaFFdAsNmAl1oS7UhbpQlzEzV9A6WudVLaL3eFWhLtSFulAX6kJdqAt1oS7UhbpQF+pCXagLdaEu1IW6UBfqQl2oC69gE+2gd9AYnaL76CYa83KhLtSFulAX6vIYLXPRAZqgHfQD+hldR+fMLPFyExTqQl2oC3WhLvfRbTRE2+gJWkTnaISeo2O0gJbRFO2jPXSKrqFLaBOFulAX6kJdqMsueg0N0F/oAXqGltEAXUZDFHSEfkHHaIpuMnOGdlGoC3WhLtSFupyiEzRCA7SPfmXmDtpA8+gF2kKb6ACtobfQAD1FExTqQl2oC3WhLmfoEL2OVtBH6Bw9QjfQB2gFvUCLaA7NoQ20iqboEJ2gUBfqQl2oC3WZoFN0ju6gT9BdtIXm0RhdQVN0F62hN9AInaAHaBvtoVAX6kJdqAt1eYJO0CV0iN5H19ECMwtogIJGaIDm0AT9hn5EW+gpCnWhLtSFulD3DxZkdXylYkQ9AAAAAElFTkSuQmCC\">"
      ],
      "text/plain": [
       "19×19 reinterpret(reshape, Gray{Float64}, ::Matrix{Float64}) with eltype Gray{Float64}:\n",
       " Gray{Float64}(0.369952)  Gray{Float64}(0.689115)  …  Gray{Float64}(0.607336)\n",
       " Gray{Float64}(0.460659)  Gray{Float64}(0.819255)     Gray{Float64}(0.74691)\n",
       " Gray{Float64}(0.511296)  Gray{Float64}(0.7087)       Gray{Float64}(0.629522)\n",
       " Gray{Float64}(0.474287)  Gray{Float64}(0.532417)     Gray{Float64}(0.478299)\n",
       " Gray{Float64}(0.499041)  Gray{Float64}(0.481986)     Gray{Float64}(0.499971)\n",
       " Gray{Float64}(0.64284)   Gray{Float64}(0.638725)  …  Gray{Float64}(0.724563)\n",
       " Gray{Float64}(0.913642)  Gray{Float64}(1.06518)      Gray{Float64}(1.11017)\n",
       " Gray{Float64}(1.19382)   Gray{Float64}(1.48607)      Gray{Float64}(1.47248)\n",
       " Gray{Float64}(1.35108)   Gray{Float64}(1.66225)      Gray{Float64}(1.63825)\n",
       " Gray{Float64}(1.39667)   Gray{Float64}(1.67715)      Gray{Float64}(1.64401)\n",
       " Gray{Float64}(1.30356)   Gray{Float64}(1.54915)   …  Gray{Float64}(1.48545)\n",
       " Gray{Float64}(1.12893)   Gray{Float64}(1.32085)      Gray{Float64}(1.22891)\n",
       " Gray{Float64}(0.925852)  Gray{Float64}(1.06994)      Gray{Float64}(0.964077)\n",
       " Gray{Float64}(0.760286)  Gray{Float64}(0.877467)     Gray{Float64}(0.783931)\n",
       " Gray{Float64}(0.68102)   Gray{Float64}(0.787678)     Gray{Float64}(0.7066)\n",
       " Gray{Float64}(0.659674)  Gray{Float64}(0.745493)  …  Gray{Float64}(0.670585)\n",
       " Gray{Float64}(0.644518)  Gray{Float64}(0.691384)     Gray{Float64}(0.626929)\n",
       " Gray{Float64}(0.608924)  Gray{Float64}(0.619156)     Gray{Float64}(0.558079)\n",
       " Gray{Float64}(0.540148)  Gray{Float64}(0.497399)     Gray{Float64}(0.425521)"
      ]
     },
     "execution_count": 15,
     "metadata": {},
     "output_type": "execute_result"
    }
   ],
   "source": [
    "colorview(Gray, reshape(W[5, :], 19, 19))"
   ]
  },
  {
   "cell_type": "code",
   "execution_count": 16,
   "metadata": {},
   "outputs": [
    {
     "data": {
      "image/png": "[encoded data removed]",
      "text/html": [
       "<img src=\"data:image/png;base64,iVBORw0KGgoAAAANSUhEUgAAAHIAAAByCAAAAACqttqhAAAABGdBTUEAALGPC/xhBQAAAAFzUkdCAK7OHOkAAAAgY0hSTQAAeiYAAICEAAD6AAAAgOgAAHUwAADqYAAAOpgAABdwnLpRPAAAAuFJREFUaAW9wUtu2wYYRtFL6iNtPZykTVwUHXb/a8osQIO0iS1LFiXxUdwRd/Cfk7/QH+gL+oA+oCf0CX1EB7RBM7qgN3REJ/SOTugX+geFcqFcKBfKhXLp0RZt0A29oHd0RgOa0A7d0U/0A72iAc1oQUE7FMqFcqFcKBfKJWhAV3RDA5rRDv2J/kbP6IS+om/oiEbUo0cUdEOhXCgXyoVyoVwmdEIjGtAFjSjohBa0Qf+ir+gnuqAJdegR9ahBoVwoF8qFcqFcWjShK7qhETVoQQN6Rx2rK5pRi0Z0Rw1q0QMK5UK5UC6UC+WyYzWjBm1QgzYoaIs+oRPaogmNqEctCjqgLQrlQrlQLpQL5fIZ7dAVXdGN1YIW9AV9RCf0jD6wmlHQA9qhBYVyoVwoF8qFcvmMnlGLruiGJjSgAf2OHtABPbN6RC3q0CMKOqNQLpQL5UK5UC57dEBPqEEjuqIf6A09oQ5t0QEt6DPaow5t0J1VKBfKhXKhXCiXDWpQj3p0Rxd0RR3qUYuCNuiCbugT2qEGTahBoVwoF8qFcqFcbuiCzuiK3tB39IJ69B/q0Cs6ogHdWP2GNuiCziiUC+VCuVAulMsJNeiOZvSKXtE7uqJf6Bu6oDN6QAf0HZ3RI7qhFxTKhXKhXCgXyuWIRnRCNzSgCV3RCzqin2hhFTSjI3pDPZrRCYVyoVwoF8qFcjmhEbXoiu4oaEEdWtCEWtSxuqA7WlDH6oJCuVAulAvlQrncUYtaNKB3NKMONWiDGtSgCR3RhBb0wGpBNxTKhXKhXCgXymVGE2pQi+7oxGqLDqhjNaALGtEWPaIGTWhGoVwoF8qFcqFcFjSiFvXoCS3ojh7QAfWsNqhBDdqjLasRTSiUC+VCuVAulMuMZrSgHfqI9mhALerRhtUe7VCHOjShM7qiOwrlQrlQLpQL5XJHE6sJ7VGP9qw2qEUN6lCDWjSiM3pFFzSjUC6UC+VCuVDuf5aPuKKgbzcJAAAAAElFTkSuQmCC\">"
      ],
      "text/plain": [
       "19×19 reinterpret(reshape, Gray{Float64}, ::Matrix{Float64}) with eltype Gray{Float64}:\n",
       " Gray{Float64}(0.101268)  Gray{Float64}(0.188634)  …  Gray{Float64}(0.166248)\n",
       " Gray{Float64}(0.126098)  Gray{Float64}(0.224258)     Gray{Float64}(0.204455)\n",
       " Gray{Float64}(0.139959)  Gray{Float64}(0.193995)     Gray{Float64}(0.172321)\n",
       " Gray{Float64}(0.129829)  Gray{Float64}(0.145741)     Gray{Float64}(0.130927)\n",
       " Gray{Float64}(0.136604)  Gray{Float64}(0.131936)     Gray{Float64}(0.136859)\n",
       " Gray{Float64}(0.175967)  Gray{Float64}(0.174841)  …  Gray{Float64}(0.198338)\n",
       " Gray{Float64}(0.250095)  Gray{Float64}(0.291577)     Gray{Float64}(0.30389)\n",
       " Gray{Float64}(0.326788)  Gray{Float64}(0.406787)     Gray{Float64}(0.403067)\n",
       " Gray{Float64}(0.369835)  Gray{Float64}(0.455013)     Gray{Float64}(0.448445)\n",
       " Gray{Float64}(0.382315)  Gray{Float64}(0.459094)     Gray{Float64}(0.450022)\n",
       " Gray{Float64}(0.356829)  Gray{Float64}(0.424054)  …  Gray{Float64}(0.406619)\n",
       " Gray{Float64}(0.309028)  Gray{Float64}(0.361561)     Gray{Float64}(0.336394)\n",
       " Gray{Float64}(0.253437)  Gray{Float64}(0.292878)     Gray{Float64}(0.263901)\n",
       " Gray{Float64}(0.208116)  Gray{Float64}(0.240192)     Gray{Float64}(0.214588)\n",
       " Gray{Float64}(0.186418)  Gray{Float64}(0.215614)     Gray{Float64}(0.19342)\n",
       " Gray{Float64}(0.180575)  Gray{Float64}(0.204067)  …  Gray{Float64}(0.183562)\n",
       " Gray{Float64}(0.176426)  Gray{Float64}(0.189255)     Gray{Float64}(0.171612)\n",
       " Gray{Float64}(0.166683)  Gray{Float64}(0.169484)     Gray{Float64}(0.152765)\n",
       " Gray{Float64}(0.147857)  Gray{Float64}(0.136155)     Gray{Float64}(0.11648)"
      ]
     },
     "execution_count": 16,
     "metadata": {},
     "output_type": "execute_result"
    }
   ],
   "source": [
    "colorview(Gray, reshape((V * W)[1,:], 19, 19))"
   ]
  },
  {
   "cell_type": "markdown",
   "metadata": {},
   "source": [
    "### Q1.7 GPU (optional)\n",
    "\n",
    "Investigate the GPU capabilities of Julia. Report the speed gain of your GPU code over CPU code at ranks $r=10, 20, 30, 40, 50$. Make sure to use the same starting point as in Q1.3."
   ]
  }
 ],
 "metadata": {
  "@webio": {
   "lastCommId": null,
   "lastKernelId": null
  },
  "kernelspec": {
   "display_name": "Julia 1.8.5",
   "language": "julia",
   "name": "julia-1.8"
  },
  "language_info": {
   "file_extension": ".jl",
   "mimetype": "application/julia",
   "name": "julia",
   "version": "1.8.5"
  },
  "toc": {
   "colors": {
    "hover_highlight": "#DAA520",
    "running_highlight": "#FF0000",
    "selected_highlight": "#FFD700"
   },
   "moveMenuLeft": true,
   "nav_menu": {
    "height": "87px",
    "width": "252px"
   },
   "navigate_menu": true,
   "number_sections": true,
   "sideBar": true,
   "skip_h1_title": true,
   "threshold": 4,
   "toc_cell": false,
   "toc_section_display": "block",
   "toc_window_display": false,
   "widenNotebook": false
  }
 },
 "nbformat": 4,
 "nbformat_minor": 4
}
