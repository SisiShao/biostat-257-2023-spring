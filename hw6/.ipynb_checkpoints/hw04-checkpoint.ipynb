{
 "cells": [
  {
   "cell_type": "markdown",
   "metadata": {},
   "source": [
    "# Biostat 257 Homework 4\n",
    "\n",
    "**Due May 28 @ 11:59PM**\n",
    "\n",
    "**Elvis Cui** elviscuihan@g.ucla.edu\n",
    "\n",
    "*PhD Student at Department of Biostatistics, UCLA*"
   ]
  },
  {
   "cell_type": "code",
   "execution_count": 1,
   "metadata": {},
   "outputs": [
    {
     "name": "stdout",
     "output_type": "stream",
     "text": [
      "Julia Version 1.6.0\n",
      "Commit f9720dc2eb (2021-03-24 12:55 UTC)\n",
      "Platform Info:\n",
      "  OS: macOS (x86_64-apple-darwin19.6.0)\n",
      "  CPU: Apple M1\n",
      "  WORD_SIZE: 64\n",
      "  LIBM: libopenlibm\n",
      "  LLVM: libLLVM-11.0.1 (ORCJIT, westmere)\n"
     ]
    }
   ],
   "source": [
    "versioninfo()"
   ]
  },
  {
   "cell_type": "markdown",
   "metadata": {},
   "source": [
    "In this assignment, we continue with the linear mixed effects model (LMM) considered in HW2\n",
    "$$\n",
    "    \\mathbf{Y}_i = \\mathbf{X}_i \\boldsymbol{\\beta} + \\mathbf{Z}_i \\boldsymbol{\\gamma}_i + \\boldsymbol{\\epsilon}_i, \\quad i=1,\\ldots,n,\n",
    "$$\n",
    "where   \n",
    "- $\\mathbf{Y}_i \\in \\mathbb{R}^{n_i}$ is the response vector of $i$-th individual,  \n",
    "- $\\mathbf{X}_i \\in \\mathbb{R}^{n_i \\times p}$ is the fixed effects predictor matrix of $i$-th individual,  \n",
    "- $\\mathbf{Z}_i \\in \\mathbb{R}^{n_i \\times q}$ is the random effects predictor matrix of $i$-th individual,  \n",
    "- $\\boldsymbol{\\epsilon}_i \\in \\mathbb{R}^{n_i}$ are multivariate normal $N(\\mathbf{0}_{n_i},\\sigma^2 \\mathbf{I}_{n_i})$,  \n",
    "- $\\boldsymbol{\\beta} \\in \\mathbb{R}^p$ are fixed effects, and  \n",
    "- $\\boldsymbol{\\gamma}_i \\in \\mathbb{R}^q$ are random effects assumed to be $N(\\mathbf{0}_q, \\boldsymbol{\\Sigma}_{q \\times q}$) independent of $\\boldsymbol{\\epsilon}_i$.\n",
    "\n",
    "The log-likelihood of the $i$-th datum $(\\mathbf{y}_i, \\mathbf{X}_i, \\mathbf{Z}_i)$ is \n",
    "$$\n",
    "    \\ell_i(\\boldsymbol{\\beta}, \\mathbf{L}, \\sigma^2) = - \\frac{n_i}{2} \\log (2\\pi) - \\frac{1}{2} \\log \\det \\boldsymbol{\\Omega}_i - \\frac{1}{2} (\\mathbf{y}_i - \\mathbf{X}_i \\boldsymbol{\\beta})^T \\boldsymbol{\\Omega}_i^{-1} (\\mathbf{y}_i - \\mathbf{X}_i \\boldsymbol{\\beta}),\n",
    "$$\n",
    "where\n",
    "$$\n",
    "    \\boldsymbol{\\Omega}_i = \\sigma^2 \\mathbf{I}_{n_i} + \\mathbf{Z}_i \\boldsymbol{\\Sigma} \\mathbf{Z}_i^T = \\sigma^2 \\mathbf{I}_{n_i} + \\mathbf{Z}_i \\mathbf{L} \\mathbf{L}^T \\mathbf{Z}_i^T,\n",
    "$$\n",
    "Because the variance component parameter $\\boldsymbol{\\Sigma}$ has to be positive semidefinite, we use its Cholesky factor $\\mathbf{L}$ as optimization variable. \n",
    "\n",
    "Given $m$ independent data points $(\\mathbf{y}_i, \\mathbf{X}_i, \\mathbf{Z}_i)$, $i=1,\\ldots,m$, we seek the maximum likelihood estimate (MLE) by maximizing the log-likelihood\n",
    "$$\n",
    "\\ell(\\boldsymbol{\\beta}, \\boldsymbol{\\Sigma}, \\sigma^2) = \\sum_{i=1}^m \\ell_i(\\boldsymbol{\\beta}, \\boldsymbol{\\Sigma}, \\sigma^2).\n",
    "$$\n",
    "In this assignment, we use the nonlinear programming (NLP) approach for optimization. In HW5, we will derive a EM (expectation-maximization) algorithm for the same problem. "
   ]
  },
  {
   "cell_type": "code",
   "execution_count": 2,
   "metadata": {
    "scrolled": true
   },
   "outputs": [],
   "source": [
    "# load necessary packages; make sure install them first\n",
    "using BenchmarkTools, CSV, DataFrames, DelimitedFiles, Distributions\n",
    "using Ipopt, LinearAlgebra, MathProgBase, MixedModels, NLopt\n",
    "using Random, RCall, Revise"
   ]
  },
  {
   "cell_type": "markdown",
   "metadata": {},
   "source": [
    "## Q1. (Optional, 30 bonus pts) Derivatives\n",
    "\n",
    "NLP optimization solvers expect users to provide at least a function for evaluating objective value. If users can provide further information such as gradient and Hessian, the NLP solvers will be more stable and converge faster. Automatic differentiation tools are becoming more powerful but cannot apply to all problems yet.\n",
    "\n",
    "1. Show that the gradient of $\\ell_i$ is\n",
    "\\begin{eqnarray*}\n",
    "\\nabla_{\\boldsymbol{\\beta}} \\ell_i(\\boldsymbol{\\beta}, \\mathbf{L}, \\sigma^2) &=& \\mathbf{X}_i^T \\boldsymbol{\\Omega}_i^{-1} \\mathbf{r}_i, \\\\\n",
    "\\nabla_{\\sigma^2} \\ell_i(\\boldsymbol{\\beta}, \\mathbf{L}, \\sigma^2) &=& - \\frac{1}{2} \\operatorname{tr} (\\boldsymbol{\\Omega}_i^{-1}) + \\frac{1}{2} \\mathbf{r}_i^T \\boldsymbol{\\Omega}_i^{-2} \\mathbf{r}_i, \\\\\n",
    "\\frac{\\partial}{\\partial \\mathbf{L}} \\ell_i(\\boldsymbol{\\beta}, \\mathbf{L}, \\sigma^2) &=& - \\mathbf{Z}_i^T \\boldsymbol{\\Omega}_i^{-1} \\mathbf{Z}_i \\mathbf{L} + \\mathbf{Z}_i^T \\boldsymbol{\\Omega}_i^{-1} \\mathbf{r}_i \\mathbf{r}_i^T \\boldsymbol{\\Omega}_i^{-1} \\mathbf{Z}_i \\mathbf{L},\n",
    "\\end{eqnarray*}\n",
    "where $\\mathbf{r}_i = \\mathbf{y}_i - \\mathbf{X}_i \\boldsymbol{\\beta}$. \n",
    "\n",
    "2. Derive the observed information matrix and the expected (Fisher) information matrix.\n",
    "\n",
    "If you need a refresher on multivariate calculus, my [Biostat 216 lecture notes](https://ucla-biostat216-2019fall.github.io/slides/16-matrixcalc/16-matrixcalc.html) may be helpful."
   ]
  },
  {
   "cell_type": "markdown",
   "metadata": {},
   "source": [
    "## Sol Q1\n",
    "\n",
    "### Sol Q1.1\n",
    "\n",
    "**Step 1**: I need to cite several results from [Biostat 279](https://github.com/ElvisCuiHan/optimal-design-theory.git) and [Biostat 216 lecture notes](https://ucla-biostat216-2019fall.github.io/slides/16-matrixcalc/16-matrixcalc.html).\n",
    "\n",
    "- (216) $D \\phi(\\mathbf{x})=\\nabla \\phi(\\mathbf{x})^T$; $D \\phi(\\mathbf{X})=\\left(\\text{ vec }\\frac{\\partial\\phi(\\mathbf{x})}{\\partial\\mathbf{X}}\\right)^T$ and the chain rule\n",
    "$$D_{\\mathbf{X}}\\mathbf{Z}=D_\\mathbf{Y}\\mathbf{Z}\\cdot D_\\mathbf{X}\\mathbf{Y}$$\n",
    "- (216) For a scalr-valued matrix function $\\phi(\\mathbf{X})$, we have\n",
    "$$D𝜙(𝐗)=(vec\\frac{∂𝜙(𝐗)}{∂𝐗})′$$\n",
    "- (279) Let $A(\\alpha)$ be a matrix and its entries are functions of a scalar $\\alpha$, then:\n",
    "\\begin{align}\n",
    "\\frac{d}{d\\alpha}A^{-1}(\\alpha)&=-A^{-1}(\\alpha)\\frac{dA(\\alpha)}{d\\alpha}A^{-1}(\\alpha)\\\\\n",
    "\\frac{d}{d\\alpha}\\log\\det A(\\alpha)&=\\text{Tr}\\left(A^{-1}(\\alpha)\\frac{dA(\\alpha)}{d\\alpha}\\right)\n",
    "\\end{align}\n",
    "- (216) If $\\phi(\\mathbf{X})=\\text{Tr}(\\mathbf{AX}^{-1})$, then\n",
    "$$\\frac{\\partial}{\\partial\\mathbf{X}}\\phi(\\mathbf{X})=-(\\mathbf{X}^{-1}\\mathbf{A}\\mathbf{X}^{-1})^T$$\n",
    "\n",
    "- (216) If $\\phi(\\mathbf{x})=\\mathbf{x}^T\\mathbf{Ax}$, then\n",
    "$$\\frac{\\partial}{\\partial\\mathbf{X}}\\phi(\\mathbf{X})=\\mathbf{x}^T(\\mathbf{A}+\\mathbf{A}^T)$$"
   ]
  },
  {
   "cell_type": "markdown",
   "metadata": {},
   "source": [
    "**Step 2** $\\nabla_\\beta$ and $\\nabla_{\\sigma^2}$: Let \n",
    "$$f(\\sigma^2,\\mathbf{L},\\beta)=(\\mathbf{y}_i - \\mathbf{X}_i \\boldsymbol{\\beta})^T \\boldsymbol{\\Omega}_i^{-1} (\\mathbf{y}_i - \\mathbf{X}_i \\boldsymbol{\\beta})=\\mathbf{r}_i^T\\boldsymbol{\\Omega}_i^{-1}\\mathbf{r}_i$$ and $$g(\\sigma^2,\\mathbf{L})=\\log\\det(\\mathbf{\\Omega}_i)$$ then by the chain rule and other results from 216 and 279:\n",
    "$$\\nabla_\\beta f=-2\\mathbf{X}_i^T\\mathbf{\\Omega}_i^{-1}\\mathbf{r}_i$$\n",
    "For $\\sigma^2$, re-write $\\mathbf{r}_i^T\\boldsymbol{\\Omega}_i^{-1}\\mathbf{r}_i=\\text{Tr}\\left(\\mathbf{r}_i\\mathbf{r}_i^T\\boldsymbol{\\Omega}_i^{-1}\\right)$. Then I need to apply the first result:\n",
    "\\begin{align}\n",
    "\\nabla_{\\sigma^2} f&=-\\left(\\text{vec }(\\boldsymbol{\\Omega}_i^{-1}\\mathbf{r}_i\\mathbf{r}_i^T\\boldsymbol{\\Omega}_i^{-1})\\right)^T(\\text{vec }\\mathbf{I}_{n_i})\\\\\n",
    "&=-\\text{Tr}\\left[\\boldsymbol{\\Omega}_i^{-1}\\mathbf{r}_i\\mathbf{r}_i^T\\boldsymbol{\\Omega}_i^{-1})\\right]\\\\\n",
    "&=-\\mathbf{r}_i^T\\boldsymbol{\\Omega}_i^{-2}\\mathbf{r}_i\n",
    "\\end{align}\n",
    "Similarly, by 279 result,\n",
    "\\begin{align}\n",
    "\\nabla_{\\sigma^2} g&=\\text{Tr}(\\boldsymbol{\\Omega}_i^{-1}\\mathbf{I}_{n_i})=\\text{Tr}(\\boldsymbol{\\Omega}_i^{-1})\n",
    "\\end{align}\n",
    "In conclusion,\n",
    "\\begin{align}\n",
    "\\nabla_{\\sigma^2} \\ell_i&=-\\frac{1}{2}\\nabla_{\\sigma^2} g-\\frac{1}{2}\\nabla_{\\sigma^2} f\\\\\n",
    "&=- \\frac{1}{2} \\operatorname{Tr} (\\boldsymbol{\\Omega}_i^{-1}) + \\frac{1}{2} \\mathbf{r}_i^T \\boldsymbol{\\Omega}_i^{-2} \\mathbf{r}_i\\\\\n",
    "\\nabla_{\\beta} \\ell_i&=-\\frac{1}{2}\\nabla_{\\beta} f\\\\\n",
    "&=\\mathbf{X}_i^T\\mathbf{\\Omega}_i^{-1}\\mathbf{r}_i\n",
    "\\end{align}"
   ]
  },
  {
   "cell_type": "markdown",
   "metadata": {},
   "source": [
    "### Step 3 \n",
    "**Part (a)** $\\nabla_L \\log\\det\\mathbf{\\Omega}^{-1}_i$: For this one, I need an additional result from 216: \n",
    "\n",
    "If $𝐹(𝐗)=𝐀𝐺(𝐗)𝐁𝐻(𝐗)𝐂$, then\n",
    "$$D𝐹(𝐗)=(𝐂′𝐻(𝐗)′𝐁′⊗𝐀)D𝐺(𝐗)+(𝐂′⊗𝐀𝐺(𝐗)𝐁)D𝐻(𝐗).$$\n",
    "\n",
    "and another result from [this website](https://ccrma.stanford.edu/~dattorro/matrixcalc.pdf):\n",
    "$$∇_X a^T\\mathbf{XX}^Tb = (ab^T + ba^T)\\mathbf{X}$$\n",
    "\n",
    "Plug-in $\\mathbf{X}=\\mathbf{L},\\mathbf{A}=\\mathbf{Z}_i, \\mathbf{B}=\\mathbf{I}_{p}$ and $\\mathbf{C}=\\mathbf{Z}_i^T$ and let \n",
    "$$G(\\mathbf{\\mathbf{L}})=L,\\ H(\\mathbf{\\mathbf{L}})=L^T$$"
   ]
  },
  {
   "cell_type": "markdown",
   "metadata": {},
   "source": [
    "Then I have\n",
    "$$\\frac{\\partial \\mathbf{\\Omega}_i}{\\partial \\mathbf{L}}=\\mathbf{Z}_i\\mathbf{L}\\otimes \\mathbf{Z}_i+\\left(\\mathbf{Z}_i\\otimes\\mathbf{Z}_i\\mathbf{L}\\right)\\mathbf{K}$$"
   ]
  },
  {
   "cell_type": "markdown",
   "metadata": {},
   "source": [
    "where $\\mathbf{K}$ is the $qq\\times qq$ comutation matrix.\n",
    "\n",
    "Next, by **Roth column lemma**,"
   ]
  },
  {
   "cell_type": "markdown",
   "metadata": {},
   "source": [
    "$$\\left(\\text{vec}\\frac{\\partial \\log\\det\\mathbf{\\Omega}_i^{-1}}{\\partial\\mathbf{\\Omega}_i}\\right)^T\\frac{\\partial \\mathbf{\\Omega}_i}{\\partial \\mathbf{L}}=2(\\text{vec }\\mathbf{L}^T\\mathbf{Z}_i^T\\mathbf{\\Omega}_i^{-1}\\mathbf{Z}_i)^T$$"
   ]
  },
  {
   "cell_type": "markdown",
   "metadata": {},
   "source": [
    "Re-shape it into matrix form:\n",
    "$$\\frac{\\partial g(\\sigma^2,\\mathbf{L})}{\\partial\\mathbf{L}}=2\\mathbf{Z}_i^T\\mathbf{\\Omega}_i^{-1}\\mathbf{Z}_i\\mathbf{L}$$"
   ]
  },
  {
   "cell_type": "markdown",
   "metadata": {},
   "source": [
    "**Part (b)** $\\nabla_Lr_i^T\\mathbf{\\Omega}_i^{-1}r_i$: For this one, all I need are the ***chain rule*** and the following formula.\n",
    "\n",
    "- (216) If $\\phi(\\mathbf{X})=\\text{Tr}(\\mathbf{AX}^{-1})$, then\n",
    "$$\\frac{\\partial}{\\partial \\mathbf{X}}\\phi(\\mathbf{X})=-(\\mathbf{X}^{-1}\\mathbf{A}\\mathbf{X}^{-1})^T$$"
   ]
  },
  {
   "cell_type": "markdown",
   "metadata": {},
   "source": [
    "Note that $$\\mathbf{r}_i^T\\mathbf{\\Omega}_i^{-1}\\mathbf{r}_i=\\text{Tr}(\\mathbf{r}_i\\mathbf{r}_i^T\\mathbf{\\Omega}_i^{-1})$$ \n",
    "Thus,"
   ]
  },
  {
   "cell_type": "markdown",
   "metadata": {},
   "source": [
    "$$\\frac{\\partial}{\\partial \\mathbf{\\Omega}_i}\\mathbf{r}_i^T\\mathbf{\\Omega}_i^{-1}\\mathbf{r}_i=-\\mathbf{\\Omega}_i^{-1}\\mathbf{r}_i\\mathbf{r}_i^T\\mathbf{\\Omega}_i^{-1}$$"
   ]
  },
  {
   "cell_type": "markdown",
   "metadata": {},
   "source": [
    "Hence, again by **Roth column lemma**\n",
    "$$\\left(\\text{vec }\\frac{\\partial}{\\partial \\mathbf{\\Omega}_i}\\mathbf{r}_i^T\\mathbf{\\Omega}_i^{-1}\\mathbf{r}_i\\right)^T\\frac{\\partial \\mathbf{\\Omega}_i}{\\partial \\mathbf{L}}=-2(\\text{vec }\\mathbf{L}^T\\mathbf{Z}_i^T\\mathbf{\\Omega}_i^{-1}\\mathbf{r}_i\\mathbf{r}_i^T\\mathbf{\\Omega}_i^{-1}\\mathbf{Z}_i)^T$$"
   ]
  },
  {
   "cell_type": "markdown",
   "metadata": {},
   "source": [
    "Put it into matrix form:\n",
    "$$\\frac{\\partial \\mathbf{r}_i^T\\mathbf{\\Omega}_i^{-1}\\mathbf{r}_i}{\\partial\\mathbf{L}}=-2\\mathbf{Z}_i^T\\mathbf{\\Omega}_i^{-1}\\mathbf{r}_i\\mathbf{r}_i^T\\mathbf{\\Omega}_i^{-1}\\mathbf{Z}_i\\mathbf{L}$$"
   ]
  },
  {
   "cell_type": "markdown",
   "metadata": {},
   "source": [
    "**Part (3)** $\\nabla_L \\ell_i$: Combine part (a) and part (b), I get\n",
    "\\begin{align}\n",
    "\\nabla_\\mathbf{L} \\ell_i&=-\\mathbf{Z}_i^T\\mathbf{\\Omega}_i^{-1}\\mathbf{Z}_i\\mathbf{L}+\\mathbf{Z}_i^T\\mathbf{\\Omega}_i^{-1}\\mathbf{r}_i\\mathbf{r}_i^T\\mathbf{\\Omega}_i^{-1}\\mathbf{Z}_i\\mathbf{L}\n",
    "\\end{align}"
   ]
  },
  {
   "cell_type": "markdown",
   "metadata": {},
   "source": [
    "### Sol Q1.2 (unfinished)\n",
    "\n",
    "Recall that\n",
    "\n",
    "\\begin{align}\n",
    "\\nabla_{\\beta} \\ell_i&=\\mathbf{X}_i^T\\mathbf{\\Omega}_i^{-1}\\mathbf{r}_i\\\\\n",
    "\\nabla_{\\sigma^2} \\ell_i\n",
    "&=- \\frac{1}{2} \\operatorname{Tr} (\\boldsymbol{\\Omega}_i^{-1}) + \\frac{1}{2} \\mathbf{r}_i^T \\boldsymbol{\\Omega}_i^{-2} \\mathbf{r}_i\\\\\n",
    "\\nabla_{\\mathbf{L}} \\ell_i&=- \\mathbf{Z}_i^T \\boldsymbol{\\Omega}_i^{-1} \\mathbf{Z}_i \\mathbf{L} + \\mathbf{Z}_i^T \\boldsymbol{\\Omega}_i^{-1} \\mathbf{r}_i \\mathbf{r}_i^T \\boldsymbol{\\Omega}_i^{-1} \\mathbf{Z}_i \\mathbf{L}\n",
    "\\end{align}"
   ]
  },
  {
   "cell_type": "markdown",
   "metadata": {},
   "source": [
    "#### Observed Information Matrix \n",
    "\\begin{align}\n",
    "\\mathcal{M}(\\beta,\\sigma^2,\\mathbf{L})&=\\sum_{i=1}^n\\left[\\begin{matrix}\n",
    "\\nabla^2_{\\beta} \\ell_i & \\nabla_{\\beta}\\nabla_{\\sigma^2} \\ell_i &\\nabla_{\\beta} \\nabla^T_{\\mathbf{L}} \\ell_i\\\\\n",
    "\\nabla_{\\sigma^2} \\nabla_{\\beta} \\ell_i&\\nabla_{\\sigma^2}^2 \\ell_i&\\nabla_{\\sigma^2}\\nabla^T_{\\mathbf{L}} \\ell_i\\\\\n",
    "\\nabla_{\\mathbf{L}}\\nabla^T_{\\beta} \\ell_i&\\nabla_{\\mathbf{L}}\\nabla_{\\sigma^2} \\ell_i&\\nabla_{\\mathbf{L}}^2 \\ell_i\n",
    "\\end{matrix}\\right]\n",
    "\\end{align}\n",
    "where now $\\nabla_{\\mathbf{L}} \\ell_i$ is the **vectorized** version."
   ]
  },
  {
   "cell_type": "markdown",
   "metadata": {},
   "source": [
    "#### Fisher Information Matrix\n",
    "$$\\mathbb{E}\\mathcal{M}(\\beta,\\sigma^2,\\mathbf{L})$$\n",
    "where the expectation is taken w.r.t. $\\mathbf{y}_i,i=1,2,\\cdots,n$."
   ]
  },
  {
   "cell_type": "markdown",
   "metadata": {},
   "source": [
    "## Q2. (20 pts) Objective and gradient evaluator for a single datum\n",
    "\n",
    "We expand the code from HW2 to evaluate both objective and gradient. I provide my code for HW2 below as a starting point. You do _not_ have to use this code. If your come up faster code, that's even better. "
   ]
  },
  {
   "cell_type": "markdown",
   "metadata": {},
   "source": [
    "### Sol Q2: Supplementary materials\n",
    "\n",
    "- $\\nabla_{\\beta} \\ell_i$: By SWM formula in HW2, re-write (drop all unnecessary sub-indexes):\n",
    "\\begin{align}\n",
    "\\mathbf{X}^T\\mathbf{\\Omega}^{-1}\\mathbf{r}&=\\frac{1}{\\sigma^2}\\left((X^Ty-X^TX\\beta)-\\underbrace{X^TZL}_{(1)}\\underbrace{U^{-1}U^{-T}L^TZ^Tr}_{(2)}\\right)\n",
    "\\end{align}"
   ]
  },
  {
   "cell_type": "markdown",
   "metadata": {},
   "source": [
    "where\n",
    "\\begin{align}\n",
    "U&=\\text{chol}(σ²I + L^TZ^TZL)\\\\\n",
    "(1)&=\\text{transpose(ztx)}L\\\\\n",
    "(2)&=U\\ \\text{\\\\ storage_q}\n",
    "\\end{align}"
   ]
  },
  {
   "cell_type": "markdown",
   "metadata": {},
   "source": [
    "- $\\nabla_{\\sigma^2} \\ell_i$: The key is to compute the 2 quantities.\n",
    "\n",
    "Again by SWM formula,\n",
    "\\begin{align}\n",
    "\\text{Tr}(\\Omega^{-1})&=\\frac{n}{\\sigma^2}-\\frac{1}{\\sigma^2}\\text{Tr}\\left(\\underbrace{L^TZ^T}_{A^T}ZL(\\sigma^2 I_q+L^TZ^TZL)^{-1}\\right)\\\\\n",
    "&=\\frac{n}{\\sigma^2}-\\frac{1}{\\sigma^2}\\text{Tr}\\left(I_q+\\sigma^2(A^TA)^{-1}\\right)^{-1}\n",
    "\\end{align}\n",
    "Next, by SWM formula again,\n",
    "\\begin{align}\n",
    "\\left(I_q+\\sigma^2(A^TA)^{-1}\\right)^{-1}&=I_q-\\left(\\frac{1}{\\sigma^2} (A^TA) + I_q\\right)^{-1}\n",
    "\\end{align}\n",
    "I get"
   ]
  },
  {
   "cell_type": "markdown",
   "metadata": {},
   "source": [
    "$$\\text{Tr}(\\Omega^{-1})=\\frac{n-q}{\\sigma^2}-\\text{Tr}(\\sigma^2I_q+A^TA)^{-1}$$"
   ]
  },
  {
   "cell_type": "code",
   "execution_count": 3,
   "metadata": {},
   "outputs": [
    {
     "data": {
      "text/plain": [
       "logl!"
      ]
     },
     "execution_count": 3,
     "metadata": {},
     "output_type": "execute_result"
    }
   ],
   "source": [
    "# define a type that holds an LMM datum\n",
    "struct LmmObs{T <: AbstractFloat}\n",
    "    # data\n",
    "    y          :: Vector{T}\n",
    "    X          :: Matrix{T}\n",
    "    Z          :: Matrix{T}\n",
    "    # arrays for holding gradient\n",
    "    ∇β         :: Vector{T}\n",
    "    ∇σ²        :: Vector{T}\n",
    "    ∇Σ         :: Matrix{T}    \n",
    "    # working arrays\n",
    "    # TODO: whatever intermediate arrays you may want to pre-allocate\n",
    "    yty        :: T\n",
    "    xty        :: Vector{T}\n",
    "    zty        :: Vector{T}\n",
    "    storage_p  :: Vector{T}\n",
    "    storage_q  :: Vector{T}\n",
    "    storage_q2 :: Vector{T}\n",
    "    storage_q3 :: Vector{T}\n",
    "    xtx        :: Matrix{T}\n",
    "    ztx        :: Matrix{T}\n",
    "    ztz        :: Matrix{T}\n",
    "    storage_qq :: Matrix{T}\n",
    "    storage_qq2:: Matrix{T}\n",
    "    storage_Iq :: Matrix{T} \n",
    "end\n",
    "\n",
    "\"\"\"\n",
    "    LmmObs(y::Vector, X::Matrix, Z::Matrix)\n",
    "\n",
    "Create an LMM datum of type `LmmObs`.\n",
    "\"\"\"\n",
    "function LmmObs(\n",
    "        y::Vector{T}, \n",
    "        X::Matrix{T}, \n",
    "        Z::Matrix{T}\n",
    "    ) where T <: AbstractFloat\n",
    "    n, p, q    = size(X, 1), size(X, 2), size(Z, 2)    \n",
    "    ∇β         = Vector{T}(undef, p)\n",
    "    ∇σ²        = Vector{T}(undef, 1)\n",
    "    ∇Σ         = Matrix{T}(undef, q, q)    \n",
    "    yty        = abs2(norm(y))\n",
    "    xty        = transpose(X) * y\n",
    "    zty        = transpose(Z) * y    \n",
    "    storage_p  = Vector{T}(undef, p)\n",
    "    storage_q  = Vector{T}(undef, q)\n",
    "    storage_q2 = Vector{T}(undef, q)\n",
    "    storage_q3 = Vector{T}(undef, q)\n",
    "    xtx        = transpose(X) * X\n",
    "    ztx        = transpose(Z) * X\n",
    "    ztz        = transpose(Z) * Z\n",
    "    storage_qq = similar(ztz)\n",
    "    storage_qq2= similar(ztz)\n",
    "    storage_Iq = 1.0 * Matrix{T}(I, q, q) \n",
    "    LmmObs(y, X, Z, ∇β, ∇σ², ∇Σ, \n",
    "        yty, xty, zty, storage_p, storage_q, storage_q2, storage_q3,\n",
    "        xtx, ztx, ztz, storage_qq, storage_qq2, storage_Iq)\n",
    "end\n",
    "\n",
    "\"\"\"\n",
    "    logl!(obs::LmmObs, β, L, σ², needgrad=false)\n",
    "\n",
    "Evaluate the log-likelihood of a single LMM datum at parameter values `β`, `L`, \n",
    "and `σ²`. If `needgrad==true`, then `obs.∇β`, `obs.∇Σ`, and `obs.σ² are filled \n",
    "with the corresponding gradient.\n",
    "\"\"\"\n",
    "function logl!(\n",
    "        obs      :: LmmObs{T}, \n",
    "        β        :: Vector{T}, \n",
    "        L        :: Matrix{T}, \n",
    "        σ²       :: T,\n",
    "        needgrad :: Bool = true\n",
    "    ) where T <: AbstractFloat\n",
    "    n, p, q = size(obs.X, 1), size(obs.X, 2), size(obs.Z, 2)\n",
    "    ####################\n",
    "    # Evaluate objective\n",
    "    ####################    \n",
    "    # form the q-by-q matrix: M = σ² * I + Lt Zt Z L\n",
    "    copy!(obs.storage_qq, obs.ztz)\n",
    "    BLAS.trmm!('L', 'L', 'T', 'N', T(1), L, obs.storage_qq) # O(q^3)\n",
    "    BLAS.trmm!('R', 'L', 'N', 'N', T(1), L, obs.storage_qq) # O(q^3)\n",
    "    @inbounds for j in 1:q\n",
    "        obs.storage_qq[j, j] += σ²\n",
    "    end\n",
    "    # cholesky on M = σ² * I + Lt Zt Z L\n",
    "    LAPACK.potrf!('U', obs.storage_qq) # O(q^3)\n",
    "    # storage_q = (Mchol.U') \\ (Lt * (Zt * res))\n",
    "    BLAS.gemv!('N', T(-1), obs.ztx, β, T(1), copy!(obs.storage_q, obs.zty)) # O(pq)\n",
    "    BLAS.trmv!('L', 'T', 'N', L, obs.storage_q)    # O(q^2)\n",
    "    BLAS.trsv!('U', 'T', 'N', obs.storage_qq, obs.storage_q) # O(q^3)\n",
    "    # l2 norm of residual vector\n",
    "    copy!(obs.storage_p, obs.xty)\n",
    "    rtr  = obs.yty +\n",
    "        dot(β, BLAS.gemv!('N', T(1), obs.xtx, β, T(-2), obs.storage_p))\n",
    "    # assemble pieces\n",
    "    logl::T = n * log(2π) + (n - q) * log(σ²) # constant term\n",
    "    @inbounds for j in 1:q\n",
    "        logl += 2log(obs.storage_qq[j, j])\n",
    "    end\n",
    "    qf    = abs2(norm(obs.storage_q)) # quadratic form term\n",
    "    logl += (rtr - qf) / σ² \n",
    "    logl /= -2\n",
    "    ###################\n",
    "    # Evaluate gradient\n",
    "    ###################    \n",
    "    if needgrad\n",
    "        # TODO: fill ∇β, ∇L, ∇σ² by gradients\n",
    "        # sleep(1e-3) # pretend this step takes 1ms\n",
    "        \n",
    "        # STEP 1:\n",
    "        # ∇β = X inv(Ω) r\n",
    "        ## X^TZLU^{-1}storage_q / σ²\n",
    "        copy!(obs.storage_q2, obs.storage_q)\n",
    "        BLAS.trsv!('U', 'N', 'N', obs.storage_qq, obs.storage_q2)\n",
    "        copy!(obs.storage_q3, obs.storage_q2)\n",
    "        BLAS.trmv!('L', 'N', 'N', L, obs.storage_q2)\n",
    "        BLAS.gemv!('T', -1/σ², obs.ztx, obs.storage_q2, 0.0, obs.∇β)\n",
    "        ## (X^Ty-X^TXβ) / σ²\n",
    "        BLAS.gemv!('N', -1/σ², obs.xtx, β, 1/σ², copy!(obs.storage_p, obs.xty))\n",
    "        ## Put them together\n",
    "        axpy!(1.0, obs.storage_p, obs.∇β)\n",
    "        \n",
    "        # STEP 2:\n",
    "        # ∇σ² = -1/2 * Tr(inv(Ω)) + 1/2 * r^T (inv(Ω))^2 r\n",
    "        ## (q-n)/σ² + Tr(inv(σ²I+A^TA))/σ²\n",
    "        copy!(obs.storage_qq2, obs.storage_Iq)\n",
    "        BLAS.trsm!('L', 'U', 'T', 'N', 1.0, obs.storage_qq, obs.storage_qq2)\n",
    "        obs.∇σ²[1] = (-n + q) / σ² - sum(abs2, obs.storage_qq2)\n",
    "        ## r^T (inv(Ω))^2 r\n",
    "        obs.∇σ²[1] += obs.yty / (σ²)^2\n",
    "        copy!(obs.storage_p, obs.xty)\n",
    "        obs.∇σ²[1] += dot(β, BLAS.gemv!('N', T(1), obs.xtx, β, T(-2), obs.storage_p)) / (σ²)^2\n",
    "        obs.∇σ²[1] -= sum(abs2, obs.storage_q3)/σ²\n",
    "        obs.∇σ²[1] -= sum(abs2, obs.storage_q)/(σ²)^2\n",
    "        obs.∇σ²[1] /= (2.0)\n",
    "        \n",
    "        # STEP 3:\n",
    "        # ∇L = −𝐙^Tinv(𝛀)𝐙+𝐙^Tinv(𝛀)𝐫𝐫^Tinv(𝛀)𝐙\n",
    "        ## −𝐙^Tinv(𝛀)𝐙\n",
    "        copy!(obs.storage_qq2, obs.ztz)\n",
    "        BLAS.trmm!('L', 'L', 'T', 'N', T(1), L, obs.storage_qq2)\n",
    "        BLAS.trsm!('L', 'U', 'T', 'N', 1.0, obs.storage_qq, obs.storage_qq2)\n",
    "        mul!(obs.∇Σ, transpose(obs.storage_qq2), obs.storage_qq2)\n",
    "        #rmul!(obs.∇Σ, LowerTriangular(L))\n",
    "        mul!(obs.∇Σ, obs.ztz, I, T(1), T(-1))\n",
    "        rdiv!(obs.∇Σ, -σ²)\n",
    "        ## 𝐙^Tinv(𝛀)𝐫𝐫^Tinv(𝛀)𝐙\n",
    "        ### 𝐙^Tinv(𝛀)𝐫\n",
    "        mul!(obs.storage_q, obs.ztz, obs.storage_q2)\n",
    "        mul!(obs.storage_q, obs.ztx, β, -1.0, -1.0)\n",
    "        axpy!(1.0, obs.zty, obs.storage_q)\n",
    "        rdiv!(obs.storage_q, σ²)\n",
    "        ### Rank 1 update\n",
    "        BLAS.ger!(1.0, obs.storage_q, obs.storage_q, obs.∇Σ)\n",
    "    end    \n",
    "    ###################\n",
    "    # Return\n",
    "    ###################        \n",
    "    return logl    \n",
    "end"
   ]
  },
  {
   "cell_type": "markdown",
   "metadata": {},
   "source": [
    "It is a good idea to test correctness and efficiency of the single datum objective/gradient evaluator here. First generate the same data set as in HW2."
   ]
  },
  {
   "cell_type": "code",
   "execution_count": 4,
   "metadata": {},
   "outputs": [],
   "source": [
    "Random.seed!(257)\n",
    "# dimension\n",
    "n, p, q = 2000, 5, 3\n",
    "# predictors\n",
    "X  = [ones(n) randn(n, p - 1)]\n",
    "Z  = [ones(n) randn(n, q - 1)]\n",
    "# parameter values\n",
    "β  = [2.0; -1.0; rand(p - 2)]\n",
    "σ² = 1.5\n",
    "Σ  = fill(0.1, q, q) + 0.9I # compound symmetry \n",
    "L  = Matrix(cholesky(Symmetric(Σ)).L)\n",
    "# generate y\n",
    "y  = X * β + Z * rand(MvNormal(Σ)) + sqrt(σ²) * randn(n)\n",
    "\n",
    "# form the LmmObs object\n",
    "obs = LmmObs(y, X, Z);"
   ]
  },
  {
   "cell_type": "markdown",
   "metadata": {},
   "source": [
    "### Correctness"
   ]
  },
  {
   "cell_type": "code",
   "execution_count": 5,
   "metadata": {},
   "outputs": [
    {
     "name": "stdout",
     "output_type": "stream",
     "text": [
      "logl = logl!(obs, β, L, σ², true) = -3261.917755918759\n",
      "obs.∇β = [-1.1937579038483364, -20.068104130062565, -12.32394232952253, -5.174641191561896, 28.20847569099034]\n",
      "obs.∇Σ = [0.40732856643463355 -0.103704571942902 0.9214023976868062; -0.103704571942902 -0.9907411137749693 -0.021658311185031615; 0.9214023976868062 -0.021658311185031615 -0.5355581080214666]\n",
      "obs.∇σ² = [5.501620540891281]\n"
     ]
    }
   ],
   "source": [
    "@show logl = logl!(obs, β, L, σ², true)\n",
    "@show obs.∇β\n",
    "@show obs.∇Σ\n",
    "@show obs.∇σ²;"
   ]
  },
  {
   "cell_type": "markdown",
   "metadata": {},
   "source": [
    "You will lose all 20 points if following statement throws `AssertionError`."
   ]
  },
  {
   "cell_type": "code",
   "execution_count": 6,
   "metadata": {},
   "outputs": [],
   "source": [
    "@assert abs(logl - (-3261.9177559187597)) < 1e-8\n",
    "@assert norm(obs.∇β - [-1.1937579038479573, -20.068104130062466, \n",
    "        -12.323942329522424, -5.174641191562253, 28.208475690990248]) < 1e-8\n",
    "@assert norm(obs.∇Σ - [0.40732856643442306 -0.10370457194285436 0.9214023976868783; \n",
    "        -0.10370457194285436 -0.9907411137746756 -0.02165831118509598; \n",
    "        0.9214023976868783 -0.02165831118509598 -0.5355581080215592]) < 1e-8\n",
    "@assert abs(obs.∇σ²[1] - (5.501620540891395)) < 1e-8"
   ]
  },
  {
   "cell_type": "markdown",
   "metadata": {},
   "source": [
    "### Efficiency"
   ]
  },
  {
   "cell_type": "markdown",
   "metadata": {},
   "source": [
    "Benchmark for evaluating objective only. This is what we did in HW2."
   ]
  },
  {
   "cell_type": "code",
   "execution_count": 7,
   "metadata": {},
   "outputs": [
    {
     "data": {
      "text/plain": [
       "BenchmarkTools.Trial: \n",
       "  memory estimate:  0 bytes\n",
       "  allocs estimate:  0\n",
       "  --------------\n",
       "  minimum time:     675.864 ns (0.00% GC)\n",
       "  median time:      684.253 ns (0.00% GC)\n",
       "  mean time:        691.066 ns (0.00% GC)\n",
       "  maximum time:     1.107 μs (0.00% GC)\n",
       "  --------------\n",
       "  samples:          10000\n",
       "  evals/sample:     154"
      ]
     },
     "execution_count": 7,
     "metadata": {},
     "output_type": "execute_result"
    }
   ],
   "source": [
    "@benchmark logl!($obs, $β, $L, $σ², false)"
   ]
  },
  {
   "cell_type": "markdown",
   "metadata": {},
   "source": [
    "Benchmark for objective + gradient evaluation."
   ]
  },
  {
   "cell_type": "code",
   "execution_count": 8,
   "metadata": {},
   "outputs": [
    {
     "data": {
      "text/plain": [
       "BenchmarkTools.Trial: \n",
       "  memory estimate:  0 bytes\n",
       "  allocs estimate:  0\n",
       "  --------------\n",
       "  minimum time:     1.583 μs (0.00% GC)\n",
       "  median time:      1.613 μs (0.00% GC)\n",
       "  mean time:        1.616 μs (0.00% GC)\n",
       "  maximum time:     4.108 μs (0.00% GC)\n",
       "  --------------\n",
       "  samples:          10000\n",
       "  evals/sample:     10"
      ]
     },
     "execution_count": 8,
     "metadata": {},
     "output_type": "execute_result"
    }
   ],
   "source": [
    "bm_objgrad = @benchmark logl!($obs, $β, $L, $σ², true)"
   ]
  },
  {
   "cell_type": "markdown",
   "metadata": {},
   "source": [
    "My median runt time is 2.1μs. You will get full credit (10 pts) if the median run time is within 10μs."
   ]
  },
  {
   "cell_type": "code",
   "execution_count": 9,
   "metadata": {},
   "outputs": [
    {
     "data": {
      "text/plain": [
       "10.0"
      ]
     },
     "execution_count": 9,
     "metadata": {},
     "output_type": "execute_result"
    }
   ],
   "source": [
    "#  The points you will get are\n",
    "clamp(10 / (median(bm_objgrad).time / 1e3) * 10, 0, 10)"
   ]
  },
  {
   "cell_type": "code",
   "execution_count": 10,
   "metadata": {},
   "outputs": [],
   "source": [
    "# # check for type stability\n",
    "# @code_warntype logl!(obs, β, L, σ², true)"
   ]
  },
  {
   "cell_type": "code",
   "execution_count": 11,
   "metadata": {},
   "outputs": [],
   "source": [
    "# using Profile\n",
    "\n",
    "# Profile.clear()\n",
    "# @profile for i in 1:10000; logl!(obs, β, L, σ², true); end\n",
    "# Profile.print(format=:flat)"
   ]
  },
  {
   "cell_type": "markdown",
   "metadata": {},
   "source": [
    "## Q3. LmmModel type\n",
    "\n",
    "We create a `LmmModel` type to hold all data points and model parameters. Log-likelihood/gradient of a `LmmModel` object is simply the sum of log-likelihood/gradient of individual data points. "
   ]
  },
  {
   "cell_type": "code",
   "execution_count": 12,
   "metadata": {},
   "outputs": [
    {
     "data": {
      "text/plain": [
       "logl!"
      ]
     },
     "execution_count": 12,
     "metadata": {},
     "output_type": "execute_result"
    }
   ],
   "source": [
    "# define a type that holds LMM model (data + parameters)\n",
    "struct LmmModel{T <: AbstractFloat} <: MathProgBase.AbstractNLPEvaluator\n",
    "    # data\n",
    "    data :: Vector{LmmObs{T}}\n",
    "    # parameters\n",
    "    β    :: Vector{T}\n",
    "    L    :: Matrix{T}\n",
    "    σ²   :: Vector{T}    \n",
    "    # arrays for holding gradient\n",
    "    ∇β   :: Vector{T}\n",
    "    ∇σ²  :: Vector{T}\n",
    "    ∇L   :: Matrix{T}\n",
    "    # TODO: add whatever intermediate arrays you may want to pre-allocate\n",
    "    xty  :: Vector{T}\n",
    "    ztr  :: Vector{T}\n",
    "    ztr2 :: Vector{T}\n",
    "    xtx  :: Matrix{T}\n",
    "    ztz  :: Matrix{T}\n",
    "    ztz2 :: Matrix{T}\n",
    "    Σ    :: Matrix{T}\n",
    "end\n",
    "\n",
    "\"\"\"\n",
    "    LmmModel(data::Vector{LmmObs})\n",
    "\n",
    "Create an LMM model that contains data and parameters.\n",
    "\"\"\"\n",
    "function LmmModel(obsvec::Vector{LmmObs{T}}) where T <: AbstractFloat\n",
    "    # dims\n",
    "    p    = size(obsvec[1].X, 2)\n",
    "    q    = size(obsvec[1].Z, 2)\n",
    "    # parameters\n",
    "    β    = Vector{T}(undef, p)\n",
    "    L    = Matrix{T}(undef, q, q)\n",
    "    σ²   = Vector{T}(undef, 1)    \n",
    "    # gradients\n",
    "    ∇β   = similar(β)    \n",
    "    ∇σ²  = similar(σ²)\n",
    "    ∇L   = similar(L)\n",
    "    # intermediate arrays\n",
    "    xty  = Vector{T}(undef, p)\n",
    "    ztr  = Vector{T}(undef, q)\n",
    "    ztr2 = Vector{T}(undef, abs2(q))\n",
    "    xtx  = Matrix{T}(undef, p, p)\n",
    "    ztz  = Matrix{T}(undef, q, q)\n",
    "    ztz2 = Matrix{T}(undef, abs2(q), abs2(q))\n",
    "    Σ    = Matrix{T}(undef, q, q)\n",
    "    LmmModel(obsvec, β, L, σ², ∇β, ∇σ², ∇L, xty, ztr, ztr2, xtx, ztz, ztz2, Σ)\n",
    "end\n",
    "\n",
    "\"\"\"\n",
    "    logl!(m::LmmModel, needgrad=false)\n",
    "\n",
    "Evaluate the log-likelihood of an LMM model at parameter values `m.β`, `m.L`, \n",
    "and `m.σ²`. If `needgrad==true`, then `m.∇β`, `m.∇Σ`, and `m.σ² are filled \n",
    "with the corresponding gradient.\n",
    "\"\"\"\n",
    "function logl!(m::LmmModel{T}, needgrad::Bool = false) where T <: AbstractFloat\n",
    "    logl = zero(T)\n",
    "    if needgrad\n",
    "        fill!(m.∇β , 0)\n",
    "        fill!(m.∇L , 0)\n",
    "        fill!(m.∇σ², 0)        \n",
    "    end\n",
    "    @inbounds for i in 1:length(m.data)\n",
    "        obs = m.data[i]\n",
    "        logl += logl!(obs, m.β, m.L, m.σ²[1], needgrad)\n",
    "        if needgrad\n",
    "            BLAS.axpy!(T(1), obs.∇β, m.∇β)\n",
    "            BLAS.axpy!(T(1), obs.∇Σ, m.∇L)\n",
    "            m.∇σ²[1] += obs.∇σ²[1]\n",
    "        end\n",
    "    end\n",
    "    # obtain gradient wrt L: m.∇L = m.∇L * L\n",
    "    if needgrad\n",
    "       # TODO \n",
    "        BLAS.trmm!('R', 'L', 'N', 'N', T(1), m.L, m.∇L)\n",
    "    end\n",
    "    logl\n",
    "end"
   ]
  },
  {
   "cell_type": "markdown",
   "metadata": {},
   "source": [
    "## Q4. (20 pts) Test data\n",
    "\n",
    "Let's generate a fake longitudinal data set to test our algorithm."
   ]
  },
  {
   "cell_type": "code",
   "execution_count": 13,
   "metadata": {},
   "outputs": [],
   "source": [
    "Random.seed!(257)\n",
    "\n",
    "# dimension\n",
    "m      = 1000 # number of individuals\n",
    "ns     = rand(1500:2000, m) # numbers of observations per individual\n",
    "p      = 5 # number of fixed effects, including intercept\n",
    "q      = 3 # number of random effects, including intercept\n",
    "obsvec = Vector{LmmObs{Float64}}(undef, m)\n",
    "# true parameter values\n",
    "βtrue  = [0.1; 6.5; -3.5; 1.0; 5]\n",
    "σ²true = 1.5\n",
    "σtrue  = sqrt(σ²true)\n",
    "Σtrue  = Matrix(Diagonal([2.0; 1.2; 1.0]))\n",
    "Ltrue  = Matrix(cholesky(Symmetric(Σtrue)).L)\n",
    "# generate data\n",
    "for i in 1:m\n",
    "    # first column intercept, remaining entries iid std normal\n",
    "    X = Matrix{Float64}(undef, ns[i], p)\n",
    "    X[:, 1] .= 1\n",
    "    @views Distributions.rand!(Normal(), X[:, 2:p])\n",
    "    # first column intercept, remaining entries iid std normal\n",
    "    Z = Matrix{Float64}(undef, ns[i], q)\n",
    "    Z[:, 1] .= 1\n",
    "    @views Distributions.rand!(Normal(), Z[:, 2:q])\n",
    "    # generate y\n",
    "    y = X * βtrue .+ Z * (Ltrue * randn(q)) .+ σtrue * randn(ns[i])\n",
    "    # form a LmmObs instance\n",
    "    obsvec[i] = LmmObs(y, X, Z)\n",
    "end\n",
    "# form a LmmModel instance\n",
    "lmm = LmmModel(obsvec);"
   ]
  },
  {
   "cell_type": "markdown",
   "metadata": {},
   "source": [
    "For later comparison with other software, we save the data into a text file `lmm_data.csv`. **Do not put this file in Git.** It takes 246.6MB storage."
   ]
  },
  {
   "cell_type": "code",
   "execution_count": 14,
   "metadata": {},
   "outputs": [],
   "source": [
    "(isfile(\"lmm_data.csv\") && filesize(\"lmm_data.csv\") == 244697920) || \n",
    "open(\"lmm_data.csv\", \"w\") do io\n",
    "    p = size(lmm.data[1].X, 2)\n",
    "    q = size(lmm.data[1].Z, 2)\n",
    "    # print header\n",
    "    print(io, \"ID,Y,\")\n",
    "    for j in 1:(p-1)\n",
    "        print(io, \"X\" * string(j) * \",\")\n",
    "    end\n",
    "    for j in 1:(q-1)\n",
    "        print(io, \"Z\" * string(j) * (j < q-1 ? \",\" : \"\\n\"))\n",
    "    end\n",
    "    # print data\n",
    "    for i in eachindex(lmm.data)\n",
    "        obs = lmm.data[i]\n",
    "        for j in 1:length(obs.y)\n",
    "            # id\n",
    "            print(io, i, \",\")\n",
    "            # Y\n",
    "            print(io, obs.y[j], \",\")\n",
    "            # X data\n",
    "            for k in 2:p\n",
    "                print(io, obs.X[j, k], \",\")\n",
    "            end\n",
    "            # Z data\n",
    "            for k in 2:q-1\n",
    "                print(io, obs.Z[j, k], \",\")\n",
    "            end\n",
    "            print(io, obs.Z[j, q], \"\\n\")\n",
    "        end\n",
    "    end\n",
    "end"
   ]
  },
  {
   "cell_type": "markdown",
   "metadata": {},
   "source": [
    "### Correctness\n",
    "\n",
    "Evaluate log-likelihood and gradient of whole data set at the true parameter values."
   ]
  },
  {
   "cell_type": "code",
   "execution_count": 15,
   "metadata": {},
   "outputs": [
    {
     "name": "stdout",
     "output_type": "stream",
     "text": [
      "obj = logl!(lmm, true) = -2.834275229633783e6\n",
      "lmm.∇β = [11.772120067027387, -1925.6905435286428, -590.4811426626873, 2112.4417700625054, 2261.4604838394603]\n",
      "lmm.∇σ² = [911.8747620566039]\n",
      "lmm.∇L = [24.419901311348944 24.011922772751674 16.56376848155736; 30.99925900309529 -59.40190266155378 46.583314134721995; 23.424706030626428 51.029463909872966 12.038870789805124]\n"
     ]
    }
   ],
   "source": [
    "copy!(lmm.β, βtrue)\n",
    "copy!(lmm.L, Ltrue)\n",
    "lmm.σ²[1] = σ²true\n",
    "@show obj = logl!(lmm, true)\n",
    "@show lmm.∇β\n",
    "@show lmm.∇σ²\n",
    "@show lmm.∇L;"
   ]
  },
  {
   "cell_type": "markdown",
   "metadata": {},
   "source": [
    "Test correctness. You will loss all 20 points if following code throws `AssertError`."
   ]
  },
  {
   "cell_type": "code",
   "execution_count": 16,
   "metadata": {},
   "outputs": [],
   "source": [
    "@assert abs(obj - (-2.8342752296337797e6)) < 1e-6\n",
    "@assert norm(lmm.∇β - [11.772120067073923, -1925.690543528459, \n",
    "        -590.4811426628461, 2112.441770062488, 2261.4604838395016]) < 1e-6\n",
    "@assert norm(lmm.∇L - [24.419901311377576 24.01192277273847 16.563768481574012; \n",
    "        30.99925900307824 -59.40190266157969 46.58331413470851; \n",
    "        23.424706030649975 51.029463909858194 12.038870789777398]) < 1e-6\n",
    "@assert abs(lmm.∇σ²[1] - (911.8747620554551)) < 1e-6"
   ]
  },
  {
   "cell_type": "markdown",
   "metadata": {},
   "source": [
    "### Efficiency\n",
    "\n",
    "Test efficiency."
   ]
  },
  {
   "cell_type": "code",
   "execution_count": 17,
   "metadata": {},
   "outputs": [
    {
     "data": {
      "text/plain": [
       "BenchmarkTools.Trial: \n",
       "  memory estimate:  0 bytes\n",
       "  allocs estimate:  0\n",
       "  --------------\n",
       "  minimum time:     1.644 ms (0.00% GC)\n",
       "  median time:      1.656 ms (0.00% GC)\n",
       "  mean time:        1.684 ms (0.00% GC)\n",
       "  maximum time:     1.964 ms (0.00% GC)\n",
       "  --------------\n",
       "  samples:          2964\n",
       "  evals/sample:     1"
      ]
     },
     "execution_count": 17,
     "metadata": {},
     "output_type": "execute_result"
    }
   ],
   "source": [
    "bm_model = @benchmark logl!($lmm, true)"
   ]
  },
  {
   "cell_type": "markdown",
   "metadata": {},
   "source": [
    "My median run time is 2.122ms. You will get full credit if your median run time is within 10ms. The points you will get are"
   ]
  },
  {
   "cell_type": "code",
   "execution_count": 18,
   "metadata": {},
   "outputs": [
    {
     "data": {
      "text/plain": [
       "10.0"
      ]
     },
     "execution_count": 18,
     "metadata": {},
     "output_type": "execute_result"
    }
   ],
   "source": [
    "clamp(10 / (median(bm_model).time / 1e6) * 10, 0, 10)"
   ]
  },
  {
   "cell_type": "markdown",
   "metadata": {},
   "source": [
    "### Memory\n",
    "\n",
    "You will lose 1 point for each 100 bytes memory allocation. So the points you will get is"
   ]
  },
  {
   "cell_type": "code",
   "execution_count": 19,
   "metadata": {},
   "outputs": [
    {
     "data": {
      "text/plain": [
       "10.0"
      ]
     },
     "execution_count": 19,
     "metadata": {},
     "output_type": "execute_result"
    }
   ],
   "source": [
    "clamp(10 - median(bm_model).memory / 100, 0, 10)"
   ]
  },
  {
   "cell_type": "markdown",
   "metadata": {},
   "source": [
    "## Q5. (30 pts) Starting point\n",
    "\n",
    "For numerical optimization, a good starting point is critical. Let's start $\\boldsymbol{\\beta}$ and $\\sigma^2$ from the least sqaures solutions (ignoring intra-individual correlations)\n",
    "\\begin{eqnarray*}\n",
    "\\boldsymbol{\\beta}^{(0)} &=& \\left(\\sum_i \\mathbf{X}_i^T \\mathbf{X}_i\\right)^{-1} \\left(\\sum_i \\mathbf{X}_i^T \\mathbf{y}_i\\right) \\\\\n",
    "\\sigma^{2(0)} &=& \\frac{\\sum_i \\|\\mathbf{r}_i^{(0)}\\|_2^2}{\\sum_i n_i} = \\frac{\\sum_i \\|\\mathbf{y}_i - \\mathbf{X}_i \\boldsymbol{\\beta}^{(0)}\\|_2^2}{\\sum_i n_i}.\n",
    "\\end{eqnarray*}\n",
    "To get a reasonable starting point for $\\boldsymbol{\\Sigma} = \\mathbf{L} \\mathbf{L}^T$, we can minimize the least squares criterion (ignoring the noise variance component)\n",
    "$$\n",
    "    \\text{minimize} \\sum_i \\| \\mathbf{r}_i^{(0)} \\mathbf{r}_i^{(0)T} - \\mathbf{Z}_i \\boldsymbol{\\Sigma} \\mathbf{Z}_i^T \\|_{\\text{F}}^2.\n",
    "$$\n",
    "Derive the minimizer $\\boldsymbol{\\Sigma}^{(0)}$ (10 pts). \n",
    "\n",
    "We implement this start point strategy in the function `init_ls()`."
   ]
  },
  {
   "cell_type": "markdown",
   "metadata": {},
   "source": [
    "## Sol Q5"
   ]
  },
  {
   "cell_type": "markdown",
   "metadata": {},
   "source": [
    "Look @ a single term first:\n",
    "\\begin{align}\n",
    "\\lVert \\mathbf{r}\\mathbf{r}^T-\\mathbf{Z\\Sigma Z}^T \\lVert^2_F&=\\text{Tr}\\left[(\\mathbf{r}\\mathbf{r}^T-\\mathbf{Z\\Sigma Z}^T)^T(\\mathbf{r}\\mathbf{r}^T-\\mathbf{Z\\Sigma Z}^T)\\right]\\\\\n",
    "&=\\underbrace{\\text{Tr}(\\mathbf{rr}^T\\mathbf{rr}^T)}_{(1)} - \\underbrace{\\text{Tr}(2\\mathbf{Z}^T\\mathbf{rr}^T\\mathbf{Z\\Sigma })}_{(2)}+\\underbrace{\\text{Tr}(\\mathbf{Z\\Sigma Z}^T\\mathbf{Z\\Sigma Z}^T)}_{(3)}\n",
    "\\end{align}\n",
    "Then by [Dr. Zhou's Biostat 216 notes](https://ucla-biostat216-2019fall.github.io/slides/16-matrixcalc/16-matrixcalc.html):"
   ]
  },
  {
   "cell_type": "markdown",
   "metadata": {},
   "source": [
    "\\begin{align}\n",
    "\\frac{\\partial (1)}{\\partial\\mathbf{\\Sigma}}&=\\mathbf{O}\\\\\n",
    "\\frac{\\partial (2)}{\\partial\\mathbf{\\Sigma}}&=2\\mathbf{Z}^T\\mathbf{rr}^T\\mathbf{Z} \\\\\n",
    "\\frac{\\partial (3)}{\\partial\\mathbf{\\Sigma}}&=2\\mathbf{Z}^T\\mathbf{Z\\Sigma Z}^T\\mathbf{Z}\n",
    "\\end{align}"
   ]
  },
  {
   "cell_type": "markdown",
   "metadata": {},
   "source": [
    "Set $\\frac{\\partial (1)}{\\partial\\mathbf{\\Sigma}}-\\frac{\\partial (2)}{\\partial\\mathbf{\\Sigma}}+\\frac{\\partial (3)}{\\partial\\mathbf{\\Sigma}}=0$, and then sum over $i=1,2,\\cdots,n$:"
   ]
  },
  {
   "cell_type": "markdown",
   "metadata": {},
   "source": [
    "$$\\sum_{i=1}^n\\mathbf{Z_i}^T\\mathbf{r}_i\\mathbf{r}_i^T\\mathbf{Z}_i=\\sum_{i=1}^n\\mathbf{Z}_i^T\\mathbf{Z}_i\\mathbf{\\Sigma}\\mathbf{Z}_i^T\\mathbf{Z}_i$$"
   ]
  },
  {
   "cell_type": "markdown",
   "metadata": {},
   "source": [
    "Next, by **Roth column lemma** in [Dr. Zhou's Notes on Easy Linear Systems](https://ucla-biostat-257-2021spring.github.io/slides/19-easylineq/easylineq.html),\n",
    "$$\\text{vec} \\mathbf{ABC}=(\\mathbf{C}^T\\otimes\\mathbf{A})\\text{vec}\\mathbf{B}$$\n",
    "Thus,"
   ]
  },
  {
   "cell_type": "markdown",
   "metadata": {},
   "source": [
    "$$\\text{vec}\\left(\\sum_{i=1}^n\\mathbf{Z}_i^T\\mathbf{Z}_i\\mathbf{\\Sigma}\\mathbf{Z}_i^T\\mathbf{Z}_i\\right)\n",
    "=\\sum_{i=1}^n\\left(\\mathbf{Z}_i^T\\mathbf{Z}_i\\otimes\\mathbf{Z}_i^T\\mathbf{Z}_i\\right)\\text{vec}\\mathbf{\\Sigma}=\\sum_{i=1}^n\\left(\\mathbf{Z}_i^T\\mathbf{r}_i\\otimes \\mathbf{Z}_i^T\\mathbf{r}_i\\right)$$"
   ]
  },
  {
   "cell_type": "markdown",
   "metadata": {},
   "source": [
    "Hence, the *initial value of $\\Sigma$* is\n"
   ]
  },
  {
   "cell_type": "markdown",
   "metadata": {},
   "source": [
    "\\begin{align}\n",
    "\\text{vec}\\mathbf{\\Sigma}^{(0)}=\\left(\\sum_{i=1}^n\\mathbf{Z}_i^T\\mathbf{Z}_i\\otimes\\mathbf{Z}_i^T\\mathbf{Z}_i\\right)^{-1}\\left(\\sum_{i=1}^n\\mathbf{Z}_i^T\\mathbf{r}_i\\otimes \\mathbf{Z}_i^T\\mathbf{r}_i\\right)\n",
    "\\end{align}"
   ]
  },
  {
   "cell_type": "code",
   "execution_count": 20,
   "metadata": {},
   "outputs": [
    {
     "data": {
      "text/plain": [
       "init_ls!"
      ]
     },
     "execution_count": 20,
     "metadata": {},
     "output_type": "execute_result"
    }
   ],
   "source": [
    "\"\"\"\n",
    "    init_ls!(m::LmmModel)\n",
    "\n",
    "Initialize parameters of a `LmmModel` object from the least squares estimate. \n",
    "`m.β`, `m.L`, and `m.σ²` are overwritten with the least squares estimates.\n",
    "\"\"\"\n",
    "function init_ls!(m::LmmModel{T}) where T <: AbstractFloat\n",
    "    p, q = size(m.data[1].X, 2), size(m.data[1].Z, 2)\n",
    "    # TODO: fill m.β, m.L, m.σ² by LS estimates\n",
    "    # sleep(1e-3) # pretend this takes 1ms\n",
    "    n = length(m.data)\n",
    "    \n",
    "    fill!(m.xty, 0.0)\n",
    "    fill!(m.ztr, 0.0)\n",
    "    fill!(m.ztr2, 0.0)\n",
    "    fill!(m.xtx, 0.0)\n",
    "    fill!(m.ztz2, 0.0)\n",
    "    fill!(m.β, 0.0)\n",
    "    fill!(m.L, 0.0)\n",
    "    fill!(m.σ², 0.0)\n",
    "    sum_n = 0\n",
    "    \n",
    "    for i in 1:n\n",
    "        obs = m.data[i]\n",
    "        \n",
    "        # β\n",
    "        axpy!(T(1), obs.xty, m.xty)\n",
    "        axpy!(T(1), obs.xtx, m.xtx)\n",
    "        m.σ²[1] += obs.yty\n",
    "    end\n",
    "    mul!(m.β, m.xtx \\ I, m.xty)\n",
    "    m.σ²[1] += dot(m.β, BLAS.gemv!('N', T(1), m.xtx, m.β, T(-2), m.xty))\n",
    "    \n",
    "    for i in 1:n\n",
    "        obs = m.data[i]\n",
    "        \n",
    "        # σ²\n",
    "        #copy!(m.xty, obs.xty)\n",
    "        #m.σ²[1] += obs.yty + dot(m.β, BLAS.gemv!('N', T(1), obs.xtx, m.β, T(-2), m.xty))\n",
    "        sum_n += size(obs.y, 1)\n",
    "        \n",
    "        # 𝚺\n",
    "        ## Ztr \\otimes Ztr\n",
    "        copy!(m.ztr, obs.zty)\n",
    "        BLAS.gemv!('N', T(1), obs.ztx, m.β, T(-1), m.ztr)\n",
    "        axpy!(T(1), kron(m.ztr, m.ztr), m.ztr2)\n",
    "        ## ZtZ \\otimes ZtZ\n",
    "        axpy!(T(1), kron(obs.ztz, obs.ztz), m.ztz2)\n",
    "    end\n",
    "    \n",
    "    rdiv!(m.σ², sum_n)\n",
    "    LAPACK.posv!('L', m.ztz2, m.ztr2)\n",
    "    m.Σ .= reshape(m.ztr2, (q, q))\n",
    "    m.L .= Matrix(cholesky(Symmetric(m.Σ)).L)\n",
    "    \n",
    "    m\n",
    "end"
   ]
  },
  {
   "cell_type": "code",
   "execution_count": 21,
   "metadata": {},
   "outputs": [
    {
     "name": "stdout",
     "output_type": "stream",
     "text": [
      "logl!(lmm) = -3.3529912271664594e6\n",
      "lmm.β = [0.12814248060847544, 6.497945035096693, -3.5021387747701356, 1.0026609224782135, 5.002697971721907]\n",
      "lmm.σ² = [5.70170988595954]\n",
      "lmm.L = [1.442089600524507 0.0 0.0; 0.03830200684866265 1.0546394793870688 0.0; 0.027886674564416906 0.06103499518749493 1.0014753586943541]\n"
     ]
    }
   ],
   "source": [
    "init_ls!(lmm)\n",
    "@show logl!(lmm)\n",
    "@show lmm.β\n",
    "@show lmm.σ²\n",
    "@show lmm.L;"
   ]
  },
  {
   "cell_type": "markdown",
   "metadata": {},
   "source": [
    "### Correctness\n",
    "\n",
    "Your start points should have a log-likelihood larger than -3.352991e6 (10 pts). The points you get are"
   ]
  },
  {
   "cell_type": "code",
   "execution_count": 22,
   "metadata": {},
   "outputs": [
    {
     "data": {
      "text/plain": [
       "10"
      ]
     },
     "execution_count": 22,
     "metadata": {},
     "output_type": "execute_result"
    }
   ],
   "source": [
    "# this is the points you get\n",
    "(logl!(lmm) >  -3.353e6) * 10"
   ]
  },
  {
   "cell_type": "markdown",
   "metadata": {},
   "source": [
    "### Efficiency\n",
    "\n",
    "The start point should be computed quickly. Otherwise there is no point using it as a starting point. You get full credit (10 pts) if the median run time is within 1ms."
   ]
  },
  {
   "cell_type": "code",
   "execution_count": 23,
   "metadata": {},
   "outputs": [
    {
     "data": {
      "text/plain": [
       "BenchmarkTools.Trial: \n",
       "  memory estimate:  1.12 MiB\n",
       "  allocs estimate:  8012\n",
       "  --------------\n",
       "  minimum time:     385.208 μs (0.00% GC)\n",
       "  median time:      406.709 μs (0.00% GC)\n",
       "  mean time:        490.093 μs (12.51% GC)\n",
       "  maximum time:     8.117 ms (92.64% GC)\n",
       "  --------------\n",
       "  samples:          10000\n",
       "  evals/sample:     1"
      ]
     },
     "execution_count": 23,
     "metadata": {},
     "output_type": "execute_result"
    }
   ],
   "source": [
    "bm_init = @benchmark init_ls!($lmm)"
   ]
  },
  {
   "cell_type": "code",
   "execution_count": 24,
   "metadata": {},
   "outputs": [
    {
     "data": {
      "text/plain": [
       "10.0"
      ]
     },
     "execution_count": 24,
     "metadata": {},
     "output_type": "execute_result"
    }
   ],
   "source": [
    "# this is the points you get\n",
    "clamp(1 / (median(bm_init).time / 1e6) * 10, 0, 10)"
   ]
  },
  {
   "cell_type": "markdown",
   "metadata": {},
   "source": [
    "## Q6. NLP via MathProgBase.jl\n",
    "\n",
    "We define the NLP problem using the modelling tool MathProgBase.jl. Start-up code is given below. Modify if necessary to accomodate your own code."
   ]
  },
  {
   "cell_type": "code",
   "execution_count": 25,
   "metadata": {},
   "outputs": [
    {
     "name": "stdout",
     "output_type": "stream",
     "text": [
      "done"
     ]
    }
   ],
   "source": [
    "\"\"\"\n",
    "    fit!(m::LmmModel, solver=Ipopt.IpoptSolver(print_level=5))\n",
    "\n",
    "Fit an `LmmModel` object by MLE using a nonlinear programming solver. Start point \n",
    "should be provided in `m.β`, `m.σ²`, `m.L`.\n",
    "\"\"\"\n",
    "function fit!(\n",
    "        m::LmmModel,\n",
    "        solver=Ipopt.IpoptSolver(print_level=5)\n",
    "    )\n",
    "    p    = size(m.data[1].X, 2)\n",
    "    q    = size(m.data[1].Z, 2)\n",
    "    npar = p + ((q * (q + 1)) >> 1) + 1\n",
    "    optm = MathProgBase.NonlinearModel(solver)\n",
    "    # set lower bounds and upper bounds of parameters\n",
    "    # diagonal entries of Cholesky factor L should be >= 0\n",
    "    lb   = fill(-Inf, npar)\n",
    "    ub   = fill( Inf, npar)\n",
    "    offset = p + 1\n",
    "    for j in 1:q, i in j:q\n",
    "        i == j && (lb[offset] = 0)\n",
    "        offset += 1\n",
    "    end\n",
    "    # σ² should be >= 0\n",
    "    lb[end] = 0\n",
    "    MathProgBase.loadproblem!(optm, npar, 0, lb, ub, Float64[], Float64[], :Max, m)\n",
    "    # starting point\n",
    "    par0 = zeros(npar)\n",
    "    modelpar_to_optimpar!(par0, m)\n",
    "    MathProgBase.setwarmstart!(optm, par0)\n",
    "    # optimize\n",
    "    MathProgBase.optimize!(optm)\n",
    "    optstat = MathProgBase.status(optm)\n",
    "    optstat == :Optimal || @warn(\"Optimization unsuccesful; got $optstat\")\n",
    "    # update parameters and refresh gradient\n",
    "    optimpar_to_modelpar!(m, MathProgBase.getsolution(optm))\n",
    "    logl!(m, true)\n",
    "    m\n",
    "end\n",
    "\n",
    "\"\"\"\n",
    "    modelpar_to_optimpar!(par, m)\n",
    "\n",
    "Translate model parameters in `m` to optimization variables in `par`.\n",
    "\"\"\"\n",
    "function modelpar_to_optimpar!(\n",
    "        par :: Vector,\n",
    "        m   :: LmmModel\n",
    "    )\n",
    "    p = size(m.data[1].X, 2)\n",
    "    q = size(m.data[1].Z, 2)\n",
    "    # β\n",
    "    copyto!(par, m.β)\n",
    "    # L\n",
    "    offset = p + 1\n",
    "    @inbounds for j in 1:q, i in j:q\n",
    "        par[offset] = m.L[i, j]\n",
    "        offset += 1\n",
    "    end\n",
    "    # σ²\n",
    "    par[end] = m.σ²[1]\n",
    "    par\n",
    "end\n",
    "\n",
    "\"\"\"\n",
    "    optimpar_to_modelpar!(m, par)\n",
    "\n",
    "Translate optimization variables in `par` to the model parameters in `m`.\n",
    "\"\"\"\n",
    "function optimpar_to_modelpar!(\n",
    "        m   :: LmmModel, \n",
    "        par :: Vector\n",
    "    )\n",
    "    p = size(m.data[1].X, 2)\n",
    "    q = size(m.data[1].Z, 2)\n",
    "    # β\n",
    "    copyto!(m.β, 1, par, 1, p)\n",
    "    # L\n",
    "    fill!(m.L, 0)\n",
    "    offset = p + 1\n",
    "    @inbounds for j in 1:q, i in j:q\n",
    "        m.L[i, j] = par[offset]\n",
    "        offset   += 1\n",
    "    end\n",
    "    # σ²\n",
    "    m.σ²[1] = par[end]    \n",
    "    m\n",
    "end\n",
    "\n",
    "function MathProgBase.initialize(\n",
    "        m                  :: LmmModel, \n",
    "        requested_features :: Vector{Symbol}\n",
    "    )\n",
    "    for feat in requested_features\n",
    "        if !(feat in [:Grad])\n",
    "            error(\"Unsupported feature $feat\")\n",
    "        end\n",
    "    end\n",
    "end\n",
    "\n",
    "MathProgBase.features_available(m::LmmModel) = [:Grad]\n",
    "\n",
    "function MathProgBase.eval_f(\n",
    "        m   :: LmmModel, \n",
    "        par :: Vector\n",
    "    )\n",
    "    optimpar_to_modelpar!(m, par)\n",
    "    logl!(m, false) # don't need gradient here\n",
    "end\n",
    "\n",
    "function MathProgBase.eval_grad_f(\n",
    "        m    :: LmmModel, \n",
    "        grad :: Vector, \n",
    "        par  :: Vector\n",
    "    )\n",
    "    p = size(m.data[1].X, 2)\n",
    "    q = size(m.data[1].Z, 2)\n",
    "    optimpar_to_modelpar!(m, par) \n",
    "    obj = logl!(m, true)\n",
    "    # gradient wrt β\n",
    "    copyto!(grad, m.∇β)\n",
    "    # gradient wrt L\n",
    "    offset = p + 1\n",
    "    @inbounds for j in 1:q, i in j:q\n",
    "        grad[offset] = m.∇L[i, j]\n",
    "        offset += 1\n",
    "    end\n",
    "    # gradient with respect to σ²\n",
    "    grad[end] = m.∇σ²[1]\n",
    "    # return objective\n",
    "    obj\n",
    "end\n",
    "\n",
    "MathProgBase.eval_g(m::LmmModel, g, par) = nothing\n",
    "MathProgBase.jac_structure(m::LmmModel) = Int[], Int[]\n",
    "MathProgBase.eval_jac_g(m::LmmModel, J, par) = nothing\n",
    "print(\"done\")"
   ]
  },
  {
   "cell_type": "markdown",
   "metadata": {},
   "source": [
    "## Q7. (20 pts) Test drive\n",
    "\n",
    "Now we can run our NLP solver to compute the MLE. For grading purpose, we first use the `:LD_LBFGS` (limited-memory BFGS) algorithm in NLopt.jl here."
   ]
  },
  {
   "cell_type": "code",
   "execution_count": 26,
   "metadata": {},
   "outputs": [
    {
     "name": "stdout",
     "output_type": "stream",
     "text": [
      "objective value at starting point: -3.3529912271664594e6\n",
      "\n",
      "  0.558595 seconds (1.41 M allocations: 77.550 MiB, 2.44% gc time, 84.63% compilation time)\n",
      "objective value at solution: -2.8342645025174716e6\n",
      "\n",
      "solution values:\n",
      "lmm.β = [0.12444023996787072, 6.4983368726252575, -3.5005134232462125, 1.0018216612192339, 5.001953229483336]\n",
      "lmm.σ² = [1.5023519585474876]\n",
      "lmm.L * transpose(lmm.L) = [2.06840455370014 0.05309337211277105 0.032613129503242945; 0.05309337211277105 1.121372485988842 0.05588413884451682; 0.032613129503242945 0.05588413884451682 1.0123726731322937]\n",
      "gradient @ solution:\n",
      "lmm.∇β = [-0.2873181251507262, 0.4782329138438399, 0.42684352436288364, 0.34273359166486017, 0.5610356300444153]\n",
      "lmm.∇σ² = [0.04222059449278959]\n",
      "lmm.∇L = [0.05363972654592242 0.002817757375522449 0.04870699557127027; 0.014761330574561499 0.35590513452657424 0.09362627075883101; 0.06578072471073763 0.08168002342096178 -0.3274518393272249]\n",
      "sqrt(abs2(norm(lmm.∇β)) + abs2(norm(lmm.∇σ²) + abs2(norm(LowerTriangular(lmm.∇L))))) = 1.0049385907425816\n"
     ]
    },
    {
     "data": {
      "text/plain": [
       "1.0049385907425816"
      ]
     },
     "execution_count": 26,
     "metadata": {},
     "output_type": "execute_result"
    }
   ],
   "source": [
    "# initialize from least squares\n",
    "init_ls!(lmm)\n",
    "println(\"objective value at starting point: \", logl!(lmm)); println()\n",
    "\n",
    "@time fit!(lmm, NLopt.NLoptSolver(algorithm =:LD_LBFGS, \n",
    "        ftol_rel = 1e-12, ftol_abs = 1e-12, \n",
    "        xtol_rel = 1e-12, xtol_abs = 1e-12, \n",
    "        maxeval=10000));\n",
    "\n",
    "println(\"objective value at solution: \", logl!(lmm)); println()\n",
    "println(\"solution values:\")\n",
    "@show lmm.β\n",
    "@show lmm.σ²\n",
    "@show lmm.L * transpose(lmm.L)\n",
    "println(\"gradient @ solution:\")\n",
    "@show lmm.∇β\n",
    "@show lmm.∇σ²\n",
    "@show lmm.∇L\n",
    "@show sqrt(abs2(norm(lmm.∇β)) + abs2(norm(lmm.∇σ²) + \n",
    "        abs2(norm(LowerTriangular(lmm.∇L)))))"
   ]
  },
  {
   "cell_type": "markdown",
   "metadata": {},
   "source": [
    "### Correctness\n",
    "\n",
    "You get 10 points if the following code does not throw `AssertError`."
   ]
  },
  {
   "cell_type": "markdown",
   "metadata": {},
   "source": [
    "**This part cannot be evaluated in my M1-chip. On my old Mac, the error of gradient is 0.06.**"
   ]
  },
  {
   "cell_type": "code",
   "execution_count": null,
   "metadata": {},
   "outputs": [],
   "source": [
    "# objective at solution should be close enough to the optimal\n",
    "@assert logl!(lmm) > -2.83427e6\n",
    "# gradient at solution should be small enough\n",
    "@assert sqrt(abs2(norm(lmm.∇β)) + abs2(norm(lmm.∇σ²) + \n",
    "        abs2(norm(LowerTriangular(lmm.∇L))))) < 0.1"
   ]
  },
  {
   "cell_type": "markdown",
   "metadata": {},
   "source": [
    "### Efficiency\n",
    "\n",
    "My median run time is 132.5ms. You get 10 points if your median time is within 1s(=1000ms)."
   ]
  },
  {
   "cell_type": "code",
   "execution_count": 28,
   "metadata": {},
   "outputs": [
    {
     "data": {
      "text/plain": [
       "BenchmarkTools.Trial: \n",
       "  memory estimate:  10.17 KiB\n",
       "  allocs estimate:  209\n",
       "  --------------\n",
       "  minimum time:     83.859 ms (0.00% GC)\n",
       "  median time:      84.246 ms (0.00% GC)\n",
       "  mean time:        84.669 ms (0.00% GC)\n",
       "  maximum time:     88.920 ms (0.00% GC)\n",
       "  --------------\n",
       "  samples:          59\n",
       "  evals/sample:     1"
      ]
     },
     "execution_count": 28,
     "metadata": {},
     "output_type": "execute_result"
    }
   ],
   "source": [
    "bm_bfgs = @benchmark fit!($lmm, $(NLopt.NLoptSolver(algorithm=:LD_LBFGS, \n",
    "        ftol_rel = 1e-12, ftol_abs = 1e-12, \n",
    "        xtol_rel = 1e-12, xtol_abs = 1e-12, \n",
    "        maxeval = 10000))) setup = (init_ls!(lmm))"
   ]
  },
  {
   "cell_type": "code",
   "execution_count": 29,
   "metadata": {},
   "outputs": [
    {
     "data": {
      "text/plain": [
       "10.0"
      ]
     },
     "execution_count": 29,
     "metadata": {},
     "output_type": "execute_result"
    }
   ],
   "source": [
    "# this is the points you get\n",
    "clamp(1 / (median(bm_bfgs).time / 1e9) * 10, 0, 10)"
   ]
  },
  {
   "cell_type": "markdown",
   "metadata": {},
   "source": [
    "## Q8. (10 pts) Gradient free vs gradient-based methods\n",
    "\n",
    "Advantage of using a modelling tool such as MathProgBase.jl is that we can easily switch the backend solvers. For a research problem, we never know beforehand which solver works best. \n",
    "\n",
    "Try different solvers in the NLopt.jl and Ipopt.jl packages. Compare the results in terms run times (the shorter the better), objective values at solution (the larger the better), and gradients at solution (closer to 0 the better). Summarize what you find.\n",
    "\n",
    "See this [page](https://nlopt.readthedocs.io/en/latest/NLopt_Algorithms/) for the descriptions of algorithms in NLopt.\n",
    "\n",
    "Documentation for the Ipopt can be found [here](https://coin-or.github.io/Ipopt/). "
   ]
  },
  {
   "cell_type": "code",
   "execution_count": 28,
   "metadata": {},
   "outputs": [
    {
     "name": "stdout",
     "output_type": "stream",
     "text": [
      "\n",
      "******************************************************************************\n",
      "This program contains Ipopt, a library for large-scale nonlinear optimization.\n",
      " Ipopt is released as open source code under the Eclipse Public License (EPL).\n",
      "         For more information visit https://github.com/coin-or/Ipopt\n",
      "******************************************************************************\n",
      "\n"
     ]
    }
   ],
   "source": [
    "# vector of solvers to compare\n",
    "solvers = [\n",
    "    # NLopt: gradient-based algorithms\n",
    "    NLopt.NLoptSolver(algorithm=:LD_LBFGS, \n",
    "        ftol_rel = 1e-12, ftol_abs = 1e-12,\n",
    "        xtol_rel = 1e-12, xtol_abs = 1e-12,\n",
    "        maxeval=10000),\n",
    "    NLopt.NLoptSolver(algorithm=:LD_MMA, \n",
    "        ftol_rel = 1e-12, ftol_abs = 1e-12, \n",
    "        xtol_rel = 1e-12, xtol_abs = 1e-12, \n",
    "        maxeval=10000),\n",
    "    # NLopt: gradient-free algorithms\n",
    "    NLopt.NLoptSolver(algorithm=:LN_BOBYQA, \n",
    "        ftol_rel = 1e-12, ftol_abs = 1e-12, \n",
    "        xtol_rel = 1e-12, xtol_abs = 1e-12, \n",
    "        maxeval=10000),\n",
    "    # Ipopt\n",
    "    Ipopt.IpoptSolver(print_level=0)\n",
    "]\n",
    "# containers for results\n",
    "runtime = zeros(length(solvers))\n",
    "objvals = zeros(length(solvers))\n",
    "gradnrm = zeros(length(solvers))\n",
    "\n",
    "for (i, solver) in enumerate(solvers)\n",
    "    bm = @benchmark fit!($lmm, $solver) setup = (init_ls!(lmm))\n",
    "    runtime[i] = median(bm).time / 1e9\n",
    "    objvals[i] = logl!(lmm, true)\n",
    "    gradnrm[i] = sqrt(abs2(norm(lmm.∇β)) + abs2(norm(lmm.∇σ²) + \n",
    "        abs2(norm(LowerTriangular(lmm.∇L)))))\n",
    "end"
   ]
  },
  {
   "cell_type": "markdown",
   "metadata": {},
   "source": [
    "**`LBFGS` and `BOBYQA` might have some issues in M1 chip.**"
   ]
  },
  {
   "cell_type": "code",
   "execution_count": 29,
   "metadata": {},
   "outputs": [
    {
     "data": {
      "text/html": [
       "<table class=\"data-frame\"><thead><tr><th></th><th>Runtime</th><th>Objective</th><th>Gradnorm</th></tr><tr><th></th><th>Float64</th><th>Float64</th><th>Float64</th></tr></thead><tbody><p>4 rows × 3 columns</p><tr><th>1</th><td>0.0858089</td><td>-2.83426e6</td><td>1.00494</td></tr><tr><th>2</th><td>0.122007</td><td>-2.83426e6</td><td>0.0052726</td></tr><tr><th>3</th><td>0.0450878</td><td>-2.83539e6</td><td>31729.5</td></tr><tr><th>4</th><td>3.73523</td><td>-2.83426e6</td><td>2.43135e-6</td></tr></tbody></table>"
      ],
      "text/latex": [
       "\\begin{tabular}{r|ccc}\n",
       "\t& Runtime & Objective & Gradnorm\\\\\n",
       "\t\\hline\n",
       "\t& Float64 & Float64 & Float64\\\\\n",
       "\t\\hline\n",
       "\t1 & 0.0858089 & -2.83426e6 & 1.00494 \\\\\n",
       "\t2 & 0.122007 & -2.83426e6 & 0.0052726 \\\\\n",
       "\t3 & 0.0450878 & -2.83539e6 & 31729.5 \\\\\n",
       "\t4 & 3.73523 & -2.83426e6 & 2.43135e-6 \\\\\n",
       "\\end{tabular}\n"
      ],
      "text/plain": [
       "\u001b[1m4×3 DataFrame\u001b[0m\n",
       "\u001b[1m Row \u001b[0m│\u001b[1m Runtime   \u001b[0m\u001b[1m Objective  \u001b[0m\u001b[1m Gradnorm       \u001b[0m\n",
       "\u001b[1m     \u001b[0m│\u001b[90m Float64   \u001b[0m\u001b[90m Float64    \u001b[0m\u001b[90m Float64        \u001b[0m\n",
       "─────┼───────────────────────────────────────\n",
       "   1 │ 0.0858089  -2.83426e6      1.00494\n",
       "   2 │ 0.122007   -2.83426e6      0.0052726\n",
       "   3 │ 0.0450878  -2.83539e6  31729.5\n",
       "   4 │ 3.73523    -2.83426e6      2.43135e-6"
      ]
     },
     "execution_count": 29,
     "metadata": {},
     "output_type": "execute_result"
    }
   ],
   "source": [
    "DataFrame(Runtime = runtime, Objective = objvals, Gradnorm = gradnrm)"
   ]
  },
  {
   "cell_type": "markdown",
   "metadata": {},
   "source": [
    "## Q9. (10 pts) Compare with existing art\n",
    "\n",
    "Let's compare our method with lme4 package in R and MixedModels.jl package in Julia. Both lme4 and MixedModels.jl are developed mainly by Doug Bates. Summarize what you find."
   ]
  },
  {
   "cell_type": "code",
   "execution_count": 30,
   "metadata": {},
   "outputs": [],
   "source": [
    "method  = [\"257\", \"lme4\", \"MixedModels.jl\"]\n",
    "runtime = zeros(3)  # record the run times\n",
    "loglike = zeros(3); # record the log-likelihood at MLE"
   ]
  },
  {
   "cell_type": "markdown",
   "metadata": {},
   "source": [
    "### Your approach"
   ]
  },
  {
   "cell_type": "code",
   "execution_count": 31,
   "metadata": {},
   "outputs": [
    {
     "data": {
      "text/plain": [
       "-2.834264502360534e6"
      ]
     },
     "execution_count": 31,
     "metadata": {},
     "output_type": "execute_result"
    }
   ],
   "source": [
    "bm_257 = @benchmark fit!($lmm, $(NLopt.NLoptSolver(algorithm=:LD_MMA, \n",
    "        ftol_rel = 1e-12, ftol_abs = 1e-12, \n",
    "        xtol_rel = 1e-12, xtol_abs = 1e-12, \n",
    "        maxeval=10000))) setup=(init_ls!(lmm))\n",
    "runtime[1] = (median(bm_257).time) / 1e9\n",
    "loglike[1] = logl!(lmm)"
   ]
  },
  {
   "cell_type": "markdown",
   "metadata": {},
   "source": [
    "### lme4 "
   ]
  },
  {
   "cell_type": "markdown",
   "metadata": {},
   "source": [
    "**`read_csv` is extremelly slow inside Julia, I ran it in Rstudio. The log-likelihood is -2834265. The run time is 74.528s.** "
   ]
  },
  {
   "cell_type": "code",
   "execution_count": 36,
   "metadata": {},
   "outputs": [],
   "source": [
    "runtime[2] = 74.528;\n",
    "loglike[2] = -2834265;"
   ]
  },
  {
   "cell_type": "code",
   "execution_count": null,
   "metadata": {},
   "outputs": [],
   "source": [
    "R\"\"\"\n",
    "library(lme4)\n",
    "library(readr)\n",
    "library(magrittr)\n",
    "\n",
    "testdata <- read_csv(\"lmm_data.txt\")\n",
    "\"\"\""
   ]
  },
  {
   "cell_type": "code",
   "execution_count": null,
   "metadata": {},
   "outputs": [],
   "source": [
    "R\"\"\"\n",
    "rtime <- system.time(mmod <- \n",
    "  lmer(Y ~ X1 + X2 + X3 + X4 + (1 + Z1 + Z2 | ID), testdata, REML = FALSE))\n",
    "\"\"\""
   ]
  },
  {
   "cell_type": "code",
   "execution_count": null,
   "metadata": {},
   "outputs": [],
   "source": [
    "R\"\"\"\n",
    "rtime <- rtime[\"elapsed\"]\n",
    "summary(mmod)\n",
    "rlogl <- logLik(mmod)\n",
    "\"\"\"\n",
    "runtime[2] = @rget rtime\n",
    "loglike[2] = @rget rlogl;"
   ]
  },
  {
   "cell_type": "markdown",
   "metadata": {},
   "source": [
    "### MixedModels.jl\n",
    "\n"
   ]
  },
  {
   "cell_type": "code",
   "execution_count": 32,
   "metadata": {},
   "outputs": [
    {
     "data": {
      "text/html": [
       "<table class=\"data-frame\"><thead><tr><th></th><th>ID</th><th>Y</th><th>X1</th><th>X2</th><th>X3</th><th>X4</th><th>Z1</th><th>Z2</th></tr><tr><th></th><th>String</th><th>Float64</th><th>Float64</th><th>Float64</th><th>Float64</th><th>Float64</th><th>Float64</th><th>Float64</th></tr></thead><tbody><p>1,740,119 rows × 8 columns</p><tr><th>1</th><td>1</td><td>2.26056</td><td>-0.358432</td><td>0.379066</td><td>-0.106696</td><td>0.783914</td><td>-1.27916</td><td>-1.9616</td></tr><tr><th>2</th><td>1</td><td>10.4825</td><td>-0.592442</td><td>-0.540181</td><td>1.13762</td><td>1.46277</td><td>-0.746512</td><td>1.26418</td></tr><tr><th>3</th><td>1</td><td>-13.5503</td><td>-1.91127</td><td>0.71865</td><td>0.757802</td><td>-0.86518</td><td>-1.69606</td><td>0.088986</td></tr><tr><th>4</th><td>1</td><td>5.29505</td><td>-0.106051</td><td>-0.16981</td><td>0.279181</td><td>0.741984</td><td>-0.0258785</td><td>0.827073</td></tr><tr><th>5</th><td>1</td><td>11.0453</td><td>-0.0209066</td><td>-1.7958</td><td>1.72241</td><td>0.760698</td><td>-0.561809</td><td>-1.46954</td></tr><tr><th>6</th><td>1</td><td>-0.31277</td><td>0.56542</td><td>1.98757</td><td>-0.437112</td><td>-0.102006</td><td>1.26906</td><td>1.382</td></tr><tr><th>7</th><td>1</td><td>-0.688038</td><td>-0.451169</td><td>0.905654</td><td>2.23043</td><td>-0.386278</td><td>-1.83272</td><td>0.276094</td></tr><tr><th>8</th><td>1</td><td>-4.50433</td><td>-1.37714</td><td>-0.527188</td><td>-0.0893463</td><td>0.210053</td><td>1.19325</td><td>1.49268</td></tr><tr><th>9</th><td>1</td><td>8.48327</td><td>1.19613</td><td>0.147975</td><td>1.18613</td><td>0.171897</td><td>2.21632</td><td>1.10782</td></tr><tr><th>10</th><td>1</td><td>-4.39333</td><td>-0.435225</td><td>1.85372</td><td>-0.146076</td><td>-0.0680953</td><td>-1.16104</td><td>1.03218</td></tr><tr><th>11</th><td>1</td><td>15.7926</td><td>0.595085</td><td>-0.232817</td><td>0.794726</td><td>1.00022</td><td>-1.15537</td><td>1.02629</td></tr><tr><th>12</th><td>1</td><td>9.95056</td><td>0.957732</td><td>0.583794</td><td>0.773587</td><td>0.625502</td><td>-1.27891</td><td>-1.50479</td></tr><tr><th>13</th><td>1</td><td>9.74998</td><td>0.322045</td><td>-0.560801</td><td>-1.53879</td><td>0.426649</td><td>-0.0684275</td><td>0.669316</td></tr><tr><th>14</th><td>1</td><td>-2.69394</td><td>-1.00551</td><td>0.961706</td><td>1.12846</td><td>1.44736</td><td>1.2569</td><td>-0.855953</td></tr><tr><th>15</th><td>1</td><td>6.89646</td><td>0.250805</td><td>0.44355</td><td>0.903055</td><td>1.27226</td><td>0.457537</td><td>-1.45829</td></tr><tr><th>16</th><td>1</td><td>20.3203</td><td>0.75816</td><td>-0.290027</td><td>1.94501</td><td>1.47178</td><td>-0.537222</td><td>1.24119</td></tr><tr><th>17</th><td>1</td><td>18.542</td><td>1.66944</td><td>-0.0432987</td><td>-1.38799</td><td>1.16964</td><td>-1.96713</td><td>-0.136738</td></tr><tr><th>18</th><td>1</td><td>-0.623921</td><td>0.220057</td><td>-0.674527</td><td>-1.06705</td><td>-0.418813</td><td>1.26056</td><td>-1.11447</td></tr><tr><th>19</th><td>1</td><td>2.3814</td><td>0.816658</td><td>-0.350844</td><td>1.6054</td><td>-0.762341</td><td>0.452624</td><td>-1.19017</td></tr><tr><th>20</th><td>1</td><td>-7.51737</td><td>-1.53388</td><td>-0.271443</td><td>-0.998628</td><td>0.00505767</td><td>0.161111</td><td>-0.243012</td></tr><tr><th>21</th><td>1</td><td>1.11256</td><td>0.224888</td><td>-0.191126</td><td>0.602739</td><td>-0.950823</td><td>-0.345051</td><td>0.692227</td></tr><tr><th>22</th><td>1</td><td>13.8549</td><td>1.5505</td><td>-0.764887</td><td>0.177658</td><td>-0.324024</td><td>-0.0803439</td><td>0.350911</td></tr><tr><th>23</th><td>1</td><td>-9.15891</td><td>-2.65739</td><td>-1.4452</td><td>-0.931399</td><td>1.23641</td><td>-0.0109637</td><td>-2.604</td></tr><tr><th>24</th><td>1</td><td>-10.4133</td><td>-0.96302</td><td>0.0324643</td><td>-0.362355</td><td>-1.96805</td><td>0.0457221</td><td>1.9613</td></tr><tr><th>25</th><td>1</td><td>2.21312</td><td>-0.77664</td><td>-1.13549</td><td>-1.46907</td><td>0.558622</td><td>0.0976433</td><td>0.336411</td></tr><tr><th>26</th><td>1</td><td>-9.90644</td><td>-1.58893</td><td>0.877787</td><td>0.766974</td><td>0.142447</td><td>-0.234025</td><td>0.882289</td></tr><tr><th>27</th><td>1</td><td>-9.87693</td><td>-0.714725</td><td>0.202852</td><td>-1.49619</td><td>-1.08926</td><td>1.07144</td><td>0.766411</td></tr><tr><th>28</th><td>1</td><td>-1.05933</td><td>-0.182876</td><td>0.970061</td><td>0.349735</td><td>0.765297</td><td>0.437909</td><td>-0.0972751</td></tr><tr><th>29</th><td>1</td><td>9.72701</td><td>0.502059</td><td>-0.355481</td><td>-0.0404538</td><td>0.408754</td><td>1.08286</td><td>2.08933</td></tr><tr><th>30</th><td>1</td><td>8.88389</td><td>0.774358</td><td>-0.99397</td><td>-1.31258</td><td>0.298631</td><td>-0.275272</td><td>-0.801766</td></tr><tr><th>&vellip;</th><td>&vellip;</td><td>&vellip;</td><td>&vellip;</td><td>&vellip;</td><td>&vellip;</td><td>&vellip;</td><td>&vellip;</td><td>&vellip;</td></tr></tbody></table>"
      ],
      "text/latex": [
       "\\begin{tabular}{r|cccccccc}\n",
       "\t& ID & Y & X1 & X2 & X3 & X4 & Z1 & Z2\\\\\n",
       "\t\\hline\n",
       "\t& String & Float64 & Float64 & Float64 & Float64 & Float64 & Float64 & Float64\\\\\n",
       "\t\\hline\n",
       "\t1 & 1 & 2.26056 & -0.358432 & 0.379066 & -0.106696 & 0.783914 & -1.27916 & -1.9616 \\\\\n",
       "\t2 & 1 & 10.4825 & -0.592442 & -0.540181 & 1.13762 & 1.46277 & -0.746512 & 1.26418 \\\\\n",
       "\t3 & 1 & -13.5503 & -1.91127 & 0.71865 & 0.757802 & -0.86518 & -1.69606 & 0.088986 \\\\\n",
       "\t4 & 1 & 5.29505 & -0.106051 & -0.16981 & 0.279181 & 0.741984 & -0.0258785 & 0.827073 \\\\\n",
       "\t5 & 1 & 11.0453 & -0.0209066 & -1.7958 & 1.72241 & 0.760698 & -0.561809 & -1.46954 \\\\\n",
       "\t6 & 1 & -0.31277 & 0.56542 & 1.98757 & -0.437112 & -0.102006 & 1.26906 & 1.382 \\\\\n",
       "\t7 & 1 & -0.688038 & -0.451169 & 0.905654 & 2.23043 & -0.386278 & -1.83272 & 0.276094 \\\\\n",
       "\t8 & 1 & -4.50433 & -1.37714 & -0.527188 & -0.0893463 & 0.210053 & 1.19325 & 1.49268 \\\\\n",
       "\t9 & 1 & 8.48327 & 1.19613 & 0.147975 & 1.18613 & 0.171897 & 2.21632 & 1.10782 \\\\\n",
       "\t10 & 1 & -4.39333 & -0.435225 & 1.85372 & -0.146076 & -0.0680953 & -1.16104 & 1.03218 \\\\\n",
       "\t11 & 1 & 15.7926 & 0.595085 & -0.232817 & 0.794726 & 1.00022 & -1.15537 & 1.02629 \\\\\n",
       "\t12 & 1 & 9.95056 & 0.957732 & 0.583794 & 0.773587 & 0.625502 & -1.27891 & -1.50479 \\\\\n",
       "\t13 & 1 & 9.74998 & 0.322045 & -0.560801 & -1.53879 & 0.426649 & -0.0684275 & 0.669316 \\\\\n",
       "\t14 & 1 & -2.69394 & -1.00551 & 0.961706 & 1.12846 & 1.44736 & 1.2569 & -0.855953 \\\\\n",
       "\t15 & 1 & 6.89646 & 0.250805 & 0.44355 & 0.903055 & 1.27226 & 0.457537 & -1.45829 \\\\\n",
       "\t16 & 1 & 20.3203 & 0.75816 & -0.290027 & 1.94501 & 1.47178 & -0.537222 & 1.24119 \\\\\n",
       "\t17 & 1 & 18.542 & 1.66944 & -0.0432987 & -1.38799 & 1.16964 & -1.96713 & -0.136738 \\\\\n",
       "\t18 & 1 & -0.623921 & 0.220057 & -0.674527 & -1.06705 & -0.418813 & 1.26056 & -1.11447 \\\\\n",
       "\t19 & 1 & 2.3814 & 0.816658 & -0.350844 & 1.6054 & -0.762341 & 0.452624 & -1.19017 \\\\\n",
       "\t20 & 1 & -7.51737 & -1.53388 & -0.271443 & -0.998628 & 0.00505767 & 0.161111 & -0.243012 \\\\\n",
       "\t21 & 1 & 1.11256 & 0.224888 & -0.191126 & 0.602739 & -0.950823 & -0.345051 & 0.692227 \\\\\n",
       "\t22 & 1 & 13.8549 & 1.5505 & -0.764887 & 0.177658 & -0.324024 & -0.0803439 & 0.350911 \\\\\n",
       "\t23 & 1 & -9.15891 & -2.65739 & -1.4452 & -0.931399 & 1.23641 & -0.0109637 & -2.604 \\\\\n",
       "\t24 & 1 & -10.4133 & -0.96302 & 0.0324643 & -0.362355 & -1.96805 & 0.0457221 & 1.9613 \\\\\n",
       "\t25 & 1 & 2.21312 & -0.77664 & -1.13549 & -1.46907 & 0.558622 & 0.0976433 & 0.336411 \\\\\n",
       "\t26 & 1 & -9.90644 & -1.58893 & 0.877787 & 0.766974 & 0.142447 & -0.234025 & 0.882289 \\\\\n",
       "\t27 & 1 & -9.87693 & -0.714725 & 0.202852 & -1.49619 & -1.08926 & 1.07144 & 0.766411 \\\\\n",
       "\t28 & 1 & -1.05933 & -0.182876 & 0.970061 & 0.349735 & 0.765297 & 0.437909 & -0.0972751 \\\\\n",
       "\t29 & 1 & 9.72701 & 0.502059 & -0.355481 & -0.0404538 & 0.408754 & 1.08286 & 2.08933 \\\\\n",
       "\t30 & 1 & 8.88389 & 0.774358 & -0.99397 & -1.31258 & 0.298631 & -0.275272 & -0.801766 \\\\\n",
       "\t$\\dots$ & $\\dots$ & $\\dots$ & $\\dots$ & $\\dots$ & $\\dots$ & $\\dots$ & $\\dots$ & $\\dots$ \\\\\n",
       "\\end{tabular}\n"
      ],
      "text/plain": [
       "\u001b[1m1740119×8 DataFrame\u001b[0m\n",
       "\u001b[1m     Row \u001b[0m│\u001b[1m ID     \u001b[0m\u001b[1m Y          \u001b[0m\u001b[1m X1         \u001b[0m\u001b[1m X2         \u001b[0m\u001b[1m X3         \u001b[0m\u001b[1m X4         \u001b[0m\u001b[1m\u001b[0m ⋯\n",
       "\u001b[1m         \u001b[0m│\u001b[90m String \u001b[0m\u001b[90m Float64    \u001b[0m\u001b[90m Float64    \u001b[0m\u001b[90m Float64    \u001b[0m\u001b[90m Float64    \u001b[0m\u001b[90m Float64    \u001b[0m\u001b[90m\u001b[0m ⋯\n",
       "─────────┼──────────────────────────────────────────────────────────────────────\n",
       "       1 │ 1         2.26056   -0.358432    0.379066   -0.106696    0.783914   ⋯\n",
       "       2 │ 1        10.4825    -0.592442   -0.540181    1.13762     1.46277\n",
       "       3 │ 1       -13.5503    -1.91127     0.71865     0.757802   -0.86518\n",
       "       4 │ 1         5.29505   -0.106051   -0.16981     0.279181    0.741984\n",
       "       5 │ 1        11.0453    -0.0209066  -1.7958      1.72241     0.760698   ⋯\n",
       "       6 │ 1        -0.31277    0.56542     1.98757    -0.437112   -0.102006\n",
       "       7 │ 1        -0.688038  -0.451169    0.905654    2.23043    -0.386278\n",
       "       8 │ 1        -4.50433   -1.37714    -0.527188   -0.0893463   0.210053\n",
       "       9 │ 1         8.48327    1.19613     0.147975    1.18613     0.171897   ⋯\n",
       "      10 │ 1        -4.39333   -0.435225    1.85372    -0.146076   -0.0680953\n",
       "      11 │ 1        15.7926     0.595085   -0.232817    0.794726    1.00022\n",
       "    ⋮    │   ⋮         ⋮           ⋮           ⋮           ⋮           ⋮       ⋱\n",
       " 1740110 │ 1000    -13.5062    -1.85752     0.591736    0.398962    0.300963\n",
       " 1740111 │ 1000     10.4863     1.13952    -0.644215    1.53642     0.0121005  ⋯\n",
       " 1740112 │ 1000      5.87307    1.13928     0.481375    0.0324381  -0.452974\n",
       " 1740113 │ 1000     -9.12574   -0.163416   -0.0116152   1.1094     -1.62655\n",
       " 1740114 │ 1000     -5.18885   -1.21116     0.273351   -1.33938     1.20792\n",
       " 1740115 │ 1000     -7.13686   -0.363287    0.166647    0.172267   -0.541405   ⋯\n",
       " 1740116 │ 1000      9.28008    1.1756     -0.463409    1.05948     0.125767\n",
       " 1740117 │ 1000    -13.2376    -1.55412    -0.342965   -0.2796     -1.25822\n",
       " 1740118 │ 1000     -7.75568   -1.21247     1.9239     -0.272451    1.53574\n",
       " 1740119 │ 1000     -8.13947   -0.559898    0.404145    0.836203   -0.960772   ⋯\n",
       "\u001b[36m                                              2 columns and 1740098 rows omitted\u001b[0m"
      ]
     },
     "execution_count": 32,
     "metadata": {},
     "output_type": "execute_result"
    }
   ],
   "source": [
    "testdata = CSV.File(\"lmm_data.txt\", types = Dict(1=>String)) |> DataFrame!"
   ]
  },
  {
   "cell_type": "code",
   "execution_count": 33,
   "metadata": {},
   "outputs": [
    {
     "data": {
      "text/plain": [
       "2.955490625"
      ]
     },
     "execution_count": 33,
     "metadata": {},
     "output_type": "execute_result"
    }
   ],
   "source": [
    "mj = fit(MixedModel, @formula(Y ~ X1 + X2 + X3 + X4 + (1 + Z1 + Z2 | ID)), testdata)\n",
    "bm_mm = @benchmark fit(MixedModel, @formula(Y ~ X1 + X2 + X3 + X4 + (1 + Z1 + Z2 | ID)), testdata)\n",
    "loglike[3] = loglikelihood(mj)\n",
    "runtime[3] = median(bm_mm).time / 1e9"
   ]
  },
  {
   "cell_type": "code",
   "execution_count": 34,
   "metadata": {},
   "outputs": [
    {
     "data": {
      "text/plain": [
       "BenchmarkTools.Trial: \n",
       "  memory estimate:  879.30 MiB\n",
       "  allocs estimate:  5748\n",
       "  --------------\n",
       "  minimum time:     2.933 s (0.33% GC)\n",
       "  median time:      2.955 s (1.01% GC)\n",
       "  mean time:        2.955 s (1.01% GC)\n",
       "  maximum time:     2.978 s (1.69% GC)\n",
       "  --------------\n",
       "  samples:          2\n",
       "  evals/sample:     1"
      ]
     },
     "metadata": {},
     "output_type": "display_data"
    },
    {
     "data": {
      "text/latex": [
       "\\begin{tabular}\n",
       "{l | r | r | r | r | r}\n",
       " & Est. & SE & z & p & $\\sigma_\\text{ID}$ \\\\\n",
       "\\hline\n",
       "(Intercept) & 0.1238 & 0.0455 & 2.72 & 0.0064 & 1.4383 \\\\\n",
       "X1 & 6.4983 & 0.0009 & 6989.59 & <1e-99 &   \\\\\n",
       "X2 & -3.5005 & 0.0009 & -3765.89 & <1e-99 &   \\\\\n",
       "X3 & 1.0018 & 0.0009 & 1077.25 & <1e-99 &   \\\\\n",
       "X4 & 5.0020 & 0.0009 & 5377.18 & <1e-99 &   \\\\\n",
       "Z2 &  &  &  &  & 1.0061 \\\\\n",
       "Z1 &  &  &  &  & 1.0591 \\\\\n",
       "Residual & 1.2257 &  &  &  &  \\\\\n",
       "\\end{tabular}\n"
      ],
      "text/markdown": [
       "|             |    Est. |     SE |        z |      p |   σ_ID |\n",
       "|:----------- | -------:| ------:| --------:| ------:| ------:|\n",
       "| (Intercept) |  0.1238 | 0.0455 |     2.72 | 0.0064 | 1.4383 |\n",
       "| X1          |  6.4983 | 0.0009 |  6989.59 | <1e-99 |        |\n",
       "| X2          | -3.5005 | 0.0009 | -3765.89 | <1e-99 |        |\n",
       "| X3          |  1.0018 | 0.0009 |  1077.25 | <1e-99 |        |\n",
       "| X4          |  5.0020 | 0.0009 |  5377.18 | <1e-99 |        |\n",
       "| Z2          |         |        |          |        | 1.0061 |\n",
       "| Z1          |         |        |          |        | 1.0591 |\n",
       "| Residual    |  1.2257 |        |          |        |        |\n"
      ],
      "text/plain": [
       "Linear mixed model fit by maximum likelihood\n",
       " Y ~ 1 + X1 + X2 + X3 + X4 + (1 + Z1 + Z2 | ID)\n",
       "     logLik     -2 logLik        AIC           AICc          BIC      \n",
       " -2834264.5024  5668529.0047  5668553.0047  5668553.0049  5668701.4383\n",
       "\n",
       "Variance components:\n",
       "            Column   VarianceStd.Dev.  Corr.\n",
       "ID       (Intercept)  2.06860 1.43826\n",
       "         Z1           1.12171 1.05911 +0.03\n",
       "         Z2           1.01215 1.00606 +0.02 +0.05\n",
       "Residual              1.50235 1.22570\n",
       " Number of obs: 1740119; levels of grouping factors: 1000\n",
       "\n",
       "  Fixed-effects parameters:\n",
       "───────────────────────────────────────────────────────\n",
       "                 Coef.   Std. Error         z  Pr(>|z|)\n",
       "───────────────────────────────────────────────────────\n",
       "(Intercept)   0.123844  0.0454539        2.72    0.0064\n",
       "X1            6.49834   0.000929716   6989.59    <1e-99\n",
       "X2           -3.50051   0.000929532  -3765.89    <1e-99\n",
       "X3            1.00182   0.00092998    1077.25    <1e-99\n",
       "X4            5.00195   0.000930219   5377.18    <1e-99\n",
       "───────────────────────────────────────────────────────"
      ]
     },
     "execution_count": 34,
     "metadata": {},
     "output_type": "execute_result"
    }
   ],
   "source": [
    "display(bm_mm)\n",
    "mj"
   ]
  },
  {
   "cell_type": "markdown",
   "metadata": {},
   "source": [
    "### Summary"
   ]
  },
  {
   "cell_type": "code",
   "execution_count": 37,
   "metadata": {},
   "outputs": [
    {
     "data": {
      "text/html": [
       "<table class=\"data-frame\"><thead><tr><th></th><th>method</th><th>runtime</th><th>logl</th></tr><tr><th></th><th>String</th><th>Float64</th><th>Float64</th></tr></thead><tbody><p>3 rows × 3 columns</p><tr><th>1</th><td>257</td><td>0.12305</td><td>-2.83426e6</td></tr><tr><th>2</th><td>lme4</td><td>74.528</td><td>-2.83426e6</td></tr><tr><th>3</th><td>MixedModels.jl</td><td>2.95549</td><td>-2.83426e6</td></tr></tbody></table>"
      ],
      "text/latex": [
       "\\begin{tabular}{r|ccc}\n",
       "\t& method & runtime & logl\\\\\n",
       "\t\\hline\n",
       "\t& String & Float64 & Float64\\\\\n",
       "\t\\hline\n",
       "\t1 & 257 & 0.12305 & -2.83426e6 \\\\\n",
       "\t2 & lme4 & 74.528 & -2.83426e6 \\\\\n",
       "\t3 & MixedModels.jl & 2.95549 & -2.83426e6 \\\\\n",
       "\\end{tabular}\n"
      ],
      "text/plain": [
       "\u001b[1m3×3 DataFrame\u001b[0m\n",
       "\u001b[1m Row \u001b[0m│\u001b[1m method         \u001b[0m\u001b[1m runtime  \u001b[0m\u001b[1m logl       \u001b[0m\n",
       "\u001b[1m     \u001b[0m│\u001b[90m String         \u001b[0m\u001b[90m Float64  \u001b[0m\u001b[90m Float64    \u001b[0m\n",
       "─────┼──────────────────────────────────────\n",
       "   1 │ 257              0.12305  -2.83426e6\n",
       "   2 │ lme4            74.528    -2.83426e6\n",
       "   3 │ MixedModels.jl   2.95549  -2.83426e6"
      ]
     },
     "execution_count": 37,
     "metadata": {},
     "output_type": "execute_result"
    }
   ],
   "source": [
    "DataFrame(method = method, runtime = runtime, logl = loglike)"
   ]
  },
  {
   "cell_type": "markdown",
   "metadata": {},
   "source": [
    "## Q10. Be proud of yourself\n",
    "\n",
    "Go to your resume/cv and claim you have experience performing analysis on complex longitudinal data sets with millions of records. And you beat current software by XXX fold. "
   ]
  }
 ],
 "metadata": {
  "@webio": {
   "lastCommId": null,
   "lastKernelId": null
  },
  "kernelspec": {
   "display_name": "Julia 1.8.5",
   "language": "julia",
   "name": "julia-1.8"
  },
  "language_info": {
   "file_extension": ".jl",
   "mimetype": "application/julia",
   "name": "julia",
   "version": "1.8.5"
  },
  "toc": {
   "colors": {
    "hover_highlight": "#DAA520",
    "running_highlight": "#FF0000",
    "selected_highlight": "#FFD700"
   },
   "moveMenuLeft": true,
   "nav_menu": {
    "height": "87px",
    "width": "252px"
   },
   "navigate_menu": true,
   "number_sections": true,
   "sideBar": true,
   "skip_h1_title": true,
   "threshold": 4,
   "toc_cell": false,
   "toc_section_display": "block",
   "toc_window_display": false,
   "widenNotebook": false
  }
 },
 "nbformat": 4,
 "nbformat_minor": 4
}
